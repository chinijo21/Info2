{
 "cells": [
  {
   "cell_type": "markdown",
   "metadata": {},
   "source": [
    "# Introducción a Swift"
   ]
  },
  {
   "cell_type": "markdown",
   "metadata": {},
   "source": [
    "Swift es un lenguaje de programación moderno y eficiente que, además, incorpora una gran variedad de técnicas o _paradigmas_ de programación procedentes de ámbitos diversos: programación orientada a objetos, funcional, e incluso programación de sistemas. Iremos viendo más detalles sobre esto durante el curso. Por el momento, vamos a introducir en este _notebook_ algunos de los elementos básicos del lenguaje para que veáis qué pinta tiene.\n",
    "\n",
    "Por otro lado, seguramente habréis notado que estoy utilizando el entorno Jupyter Notebooks para mostrar fragmentos de programación en Swift. Si os fijáis en la esquina superior derecha veréis que el _kernel_ asociado a este notebook es Swift en lugar de Python, que es lo habitual. Esta no es la forma habitual de trabajar con Swift, puesto que es un lenguaje compilado; sin embargo, podemos emplear este truco para poder tener un entorno de pruebas interactivas. En ordenadores Mac existe algo similar que se llama \"Swift Playgrounds\", y es parte del compilador Xcode, de Apple. Para esta asignatura, naturalmente no se requieren ordenadores de Apple ni nada parecido: toda la programación la haremos en entorno Linux (Ubuntu 20.04, en particular)."
   ]
  },
  {
   "cell_type": "markdown",
   "metadata": {},
   "source": [
    "1. [Variables, constantes, tipos](#Variables,-constantes,-tipos)\n",
    "2. [Funciones](#Funciones)\n",
    "3. [Colecciones](#Colecciones)\n",
    "4. [`Optional`](#Optional)\n",
    "5. [Control de flujo, bucles, rangos](#Control-de-flujo,-bucles,-rangos)\n",
    "6. [Filtros y transformaciones funcionales](#Filtros-y-transformaciones-funcionales)\n",
    "7. [structs](#structs)\n",
    "8. [Clases](#Clases)\n",
    "9. [enums](#enums)\n",
    "9. [Excepciones](#Excepciones)"
   ]
  },
  {
   "cell_type": "markdown",
   "metadata": {},
   "source": [
    "## Variables, constantes, tipos"
   ]
  },
  {
   "cell_type": "markdown",
   "metadata": {},
   "source": [
    "Como sabréis de otros lenguajes, una **variable** es una \"caja\" que contiene un valor. En Swift las hay de dos _tipos_: `var`, cuyo valor puede cambiar; o `let`, que son inmutables."
   ]
  },
  {
   "cell_type": "code",
   "execution_count": 2,
   "metadata": {},
   "outputs": [],
   "source": [
    "let a = 42\n",
    "var b = 5.5\n",
    "var s = \"Hello, world!\"\n"
   ]
  },
  {
   "cell_type": "code",
   "execution_count": 3,
   "metadata": {},
   "outputs": [
    {
     "name": "stdout",
     "output_type": "stream",
     "text": [
      "Hello, world!\r\n"
     ]
    }
   ],
   "source": [
    "print(s)"
   ]
  },
  {
   "cell_type": "code",
   "execution_count": 6,
   "metadata": {},
   "outputs": [
    {
     "name": "stdout",
     "output_type": "stream",
     "text": [
      "7.0\r\n"
     ]
    }
   ],
   "source": [
    "b = 7\n",
    "print(b)"
   ]
  },
  {
   "cell_type": "code",
   "execution_count": 7,
   "metadata": {},
   "outputs": [
    {
     "ename": "",
     "evalue": "",
     "output_type": "error",
     "traceback": [
      "error: <Cell 7>:1:1: error: cannot assign to value: 'a' is a 'let' constant\na = 44\n^\n\n"
     ]
    }
   ],
   "source": [
    "a = 44"
   ]
  },
  {
   "cell_type": "markdown",
   "metadata": {},
   "source": [
    "La celda anterior da un error de compilación, porque `a` se ha declarado con `let` y por tanto es inmutable."
   ]
  },
  {
   "cell_type": "markdown",
   "metadata": {},
   "source": [
    "Swift es un lenguaje _tipado_; es decir, utiliza diferentes tipos para representar distintos valores. Todas las variables están necesariamente asociadas a un tipo concreto, que nunca puede cambiar una vez se ha declarado la variable.\n",
    "\n",
    "Sin embargo, en las expresiones que hemos utilizado antes no hemos indicado el tipo de las variables. Esto es así porque Swift tiene un excelente mecanismo de **inferencia automática de tipos**. Si hay información suficiente en el contexto para saber qué tipo necesitamos, Swift es capaz de asignarlo automáticamente.\n",
    "\n",
    "Veamos de nuevo el contenido de la primera celda:"
   ]
  },
  {
   "cell_type": "code",
   "execution_count": 8,
   "metadata": {},
   "outputs": [],
   "source": [
    "let a = 42                    // `a` es de tipo Int (entero)\n",
    "var b = 5.5                   // `b` es de tipo Double (coma flotante de doble precisión)\n",
    "var s = \"Hello, world!\"       // `s` es un String."
   ]
  },
  {
   "cell_type": "code",
   "execution_count": 9,
   "metadata": {},
   "outputs": [
    {
     "name": "stdout",
     "output_type": "stream",
     "text": [
      "Double\r\n"
     ]
    }
   ],
   "source": [
    "print(type(of: b))"
   ]
  },
  {
   "cell_type": "code",
   "execution_count": 10,
   "metadata": {},
   "outputs": [
    {
     "name": "stdout",
     "output_type": "stream",
     "text": [
      "String\r\n"
     ]
    }
   ],
   "source": [
    "print(type(of: s))"
   ]
  },
  {
   "cell_type": "markdown",
   "metadata": {},
   "source": [
    "Si queremos especificar el tipo de forma concreta, podemos hacerlo. Esto es necesario y/o recomendable en muchas situaciones:"
   ]
  },
  {
   "cell_type": "markdown",
   "metadata": {},
   "source": [
    "1. **Cuando el compilador no tenga información suficiente para inferir el tipo**. Por ejemplo, si declaramos una variable sin asignarle valor, es necesario indicar su tipo."
   ]
  },
  {
   "cell_type": "code",
   "execution_count": 11,
   "metadata": {},
   "outputs": [
    {
     "ename": "",
     "evalue": "",
     "output_type": "error",
     "traceback": [
      "error: <Cell 11>:1:5: error: type annotation missing in pattern\nvar x\n    ^\n\n"
     ]
    }
   ],
   "source": [
    "var x"
   ]
  },
  {
   "cell_type": "code",
   "execution_count": 12,
   "metadata": {},
   "outputs": [],
   "source": [
    "var x: Int"
   ]
  },
  {
   "cell_type": "markdown",
   "metadata": {},
   "source": [
    "En la celda anterior hemos declarado `x` de tipo `Int`, pero no le hemos asignado ningún valor."
   ]
  },
  {
   "cell_type": "markdown",
   "metadata": {},
   "source": [
    "2. **Cuando deseemos cambiar el tipo adivinado por el compilador**.\n"
   ]
  },
  {
   "cell_type": "markdown",
   "metadata": {},
   "source": [
    "En el ejemplo anterior, `a` era un `Int` y `b` un `Double`. Esto es porque en el valor que asignamos a `b` aparece un punto decimal, y por tanto el compilador intuye que queremos almacenar un número real.\n",
    "\n",
    "Si quisiéramos que `a` hubiera sido `Double`, podríamos haberlo hecho de dos maneras:"
   ]
  },
  {
   "cell_type": "code",
   "execution_count": 13,
   "metadata": {},
   "outputs": [
    {
     "name": "stdout",
     "output_type": "stream",
     "text": [
      "Double\r\n"
     ]
    }
   ],
   "source": [
    "var a = 42.0\n",
    "print(type(of: a))"
   ]
  },
  {
   "cell_type": "code",
   "execution_count": 14,
   "metadata": {},
   "outputs": [
    {
     "name": "stdout",
     "output_type": "stream",
     "text": [
      "Double\r\n"
     ]
    }
   ],
   "source": [
    "var a: Double = 42\n",
    "print(type(of: a))"
   ]
  },
  {
   "cell_type": "markdown",
   "metadata": {},
   "source": [
    "3. **Por claridad**, si queremos que la información del tipo sea evidente para cualquiera que vaya a leer nuestro código en el futuro."
   ]
  },
  {
   "cell_type": "code",
   "execution_count": 15,
   "metadata": {},
   "outputs": [],
   "source": [
    "var a: Int = 42"
   ]
  },
  {
   "cell_type": "markdown",
   "metadata": {},
   "source": [
    "Respecto a los tipos de punto flotante, en Swift existen `Float` y `Double`. `Double` tiene mayor precisión pero ocupa el doble de memoria. En general, siempre usaremos `Double`."
   ]
  },
  {
   "cell_type": "markdown",
   "metadata": {},
   "source": [
    "----"
   ]
  },
  {
   "cell_type": "markdown",
   "metadata": {},
   "source": [
    "Algunos lenguajes hacen conversión automática de tipos cuando hacemos una operación en la que se mezclan variables de tipos diferentes. En Swift nunca se produce conversión implícita de tipos."
   ]
  },
  {
   "cell_type": "code",
   "execution_count": 16,
   "metadata": {},
   "outputs": [],
   "source": [
    "var x = 7    // Int\n",
    "var y = 5.0  // Double"
   ]
  },
  {
   "cell_type": "code",
   "execution_count": 17,
   "metadata": {
    "scrolled": true
   },
   "outputs": [
    {
     "ename": "",
     "evalue": "",
     "output_type": "error",
     "traceback": [
      "error: <Cell 17>:1:11: error: binary operator '+' cannot be applied to operands of type 'Int' and 'Double'\nvar z = x + y    // Error\n        ~ ^ ~\n\n<Cell 17>:1:11: note: overloads for '+' exist with these partially matching parameter lists: (Double, Double), (Int, Int)\nvar z = x + y    // Error\n          ^\n\n"
     ]
    }
   ],
   "source": [
    "var z = x + y    // Error"
   ]
  },
  {
   "cell_type": "markdown",
   "metadata": {},
   "source": [
    "La conversión tiene que ser explícita."
   ]
  },
  {
   "cell_type": "code",
   "execution_count": 18,
   "metadata": {},
   "outputs": [
    {
     "name": "stdout",
     "output_type": "stream",
     "text": [
      "12.0\r\n"
     ]
    }
   ],
   "source": [
    "var z = Double(x) + y\n",
    "print(z)"
   ]
  },
  {
   "cell_type": "markdown",
   "metadata": {},
   "source": [
    "Al hacer la conversión, se crea una _copia_ de la variable. La variable original (`x`, en este caso), sigue teniendo el mismo valor y el mismo tipo."
   ]
  },
  {
   "cell_type": "code",
   "execution_count": 26,
   "metadata": {},
   "outputs": [],
   "source": [
    "x = 7"
   ]
  },
  {
   "cell_type": "code",
   "execution_count": 28,
   "metadata": {},
   "outputs": [],
   "source": [
    "var dx1 = Double(x)"
   ]
  },
  {
   "cell_type": "code",
   "execution_count": 29,
   "metadata": {},
   "outputs": [
    {
     "data": {
      "text/plain": [
       "7.0\n"
      ]
     },
     "execution_count": 29,
     "metadata": {},
     "output_type": "execute_result"
    }
   ],
   "source": [
    "dx1"
   ]
  },
  {
   "cell_type": "code",
   "execution_count": 30,
   "metadata": {},
   "outputs": [],
   "source": [
    "x = 8"
   ]
  },
  {
   "cell_type": "code",
   "execution_count": 31,
   "metadata": {},
   "outputs": [
    {
     "data": {
      "text/plain": [
       "7.0\n"
      ]
     },
     "execution_count": 31,
     "metadata": {},
     "output_type": "execute_result"
    }
   ],
   "source": [
    "dx1"
   ]
  },
  {
   "cell_type": "code",
   "execution_count": 32,
   "metadata": {},
   "outputs": [
    {
     "data": {
      "text/plain": [
       "8.0\n"
      ]
     },
     "execution_count": 32,
     "metadata": {},
     "output_type": "execute_result"
    }
   ],
   "source": [
    "var dx2 = Double(x)\n",
    "dx2"
   ]
  },
  {
   "cell_type": "code",
   "execution_count": 19,
   "metadata": {},
   "outputs": [
    {
     "name": "stdout",
     "output_type": "stream",
     "text": [
      "Double\r\n"
     ]
    }
   ],
   "source": [
    "print(type(of: z))"
   ]
  },
  {
   "cell_type": "markdown",
   "metadata": {},
   "source": [
    "Notad, sin embargo, que en el caso de utilizar _literales_, Swift es capaz de inferir el tipo correctamente:"
   ]
  },
  {
   "cell_type": "code",
   "execution_count": 20,
   "metadata": {
    "scrolled": true
   },
   "outputs": [
    {
     "name": "stdout",
     "output_type": "stream",
     "text": [
      "7.1\r\n"
     ]
    }
   ],
   "source": [
    "var z = 4.1 + 3\n",
    "print(z)"
   ]
  },
  {
   "cell_type": "markdown",
   "metadata": {},
   "source": [
    "En este caso, el número `3` se interpreta como un `Double` porque ya aparecía otro `Double` en la expresión."
   ]
  },
  {
   "cell_type": "markdown",
   "metadata": {},
   "source": [
    "El operador `+` suele servir para _concatenar_ o _añadir_ elementos a un conjunto, como veremos después. En el caso de cadenas de texto también funciona, pero tenemos que convertir todo a cadenas, como siempre:"
   ]
  },
  {
   "cell_type": "code",
   "execution_count": 21,
   "metadata": {},
   "outputs": [
    {
     "name": "stdout",
     "output_type": "stream",
     "text": [
      "El total es: 7.1\r\n"
     ]
    }
   ],
   "source": [
    "var s = \"El total es: \"\n",
    "s = s + String(z)\n",
    "print(s)"
   ]
  },
  {
   "cell_type": "markdown",
   "metadata": {},
   "source": [
    "Como esta es una operación muy frecuente, existe un _atajo_ especial que se utiliza mucho:"
   ]
  },
  {
   "cell_type": "code",
   "execution_count": 22,
   "metadata": {},
   "outputs": [
    {
     "name": "stdout",
     "output_type": "stream",
     "text": [
      "Total: 7.1\r\n"
     ]
    }
   ],
   "source": [
    "print(\"Total: \\(z)\")"
   ]
  },
  {
   "cell_type": "markdown",
   "metadata": {},
   "source": [
    "Dentro del paréntesis de `\\()` puede ir cualquier expresión escrita en Swift."
   ]
  },
  {
   "cell_type": "code",
   "execution_count": 24,
   "metadata": {},
   "outputs": [
    {
     "name": "stdout",
     "output_type": "stream",
     "text": [
      "cos(π/4): 0.7071067811865476\r\n"
     ]
    }
   ],
   "source": [
    "import Foundation                        // Módulo estándar con multitud de funcionalidad\n",
    "\n",
    "print(\"cos(π/4): \\(cos(Double.pi/4))\")"
   ]
  },
  {
   "cell_type": "code",
   "execution_count": 23,
   "metadata": {},
   "outputs": [
    {
     "data": {
      "text/plain": [
       "3.141592653589793\n"
      ]
     },
     "execution_count": 23,
     "metadata": {},
     "output_type": "execute_result"
    }
   ],
   "source": [
    "Double.pi"
   ]
  },
  {
   "cell_type": "markdown",
   "metadata": {},
   "source": [
    "## Funciones"
   ]
  },
  {
   "cell_type": "markdown",
   "metadata": {},
   "source": [
    "En el ejemplo anterior, `cos` es una función estándar que calcula el coseno del número que se le indica como parámetro. `print`, que también hemos visto, es otra función que muestra en la salida estándar el string que se le suministra.\n",
    "\n",
    "Algunos ejemplos básicos de funciones en Swift:"
   ]
  },
  {
   "cell_type": "code",
   "execution_count": 33,
   "metadata": {},
   "outputs": [
    {
     "name": "stdout",
     "output_type": "stream",
     "text": [
      "Hello!\r\n"
     ]
    }
   ],
   "source": [
    "// Función sin parámetros de entrada ni resultado\n",
    "func greet() {\n",
    "    print(\"Hello!\")\n",
    "}\n",
    "\n",
    "// Invocación\n",
    "greet()"
   ]
  },
  {
   "cell_type": "code",
   "execution_count": 34,
   "metadata": {},
   "outputs": [],
   "source": [
    "// Función con un parámetro de entrada que es un String\n",
    "func greet1(name: String) {\n",
    "    print(\"Hello, \\(name)!\")\n",
    "}"
   ]
  },
  {
   "cell_type": "markdown",
   "metadata": {},
   "source": [
    "**¿Cómo invoco la función `greet1`?**"
   ]
  },
  {
   "cell_type": "markdown",
   "metadata": {},
   "source": [
    "En otros lenguajes:"
   ]
  },
  {
   "cell_type": "code",
   "execution_count": 35,
   "metadata": {},
   "outputs": [
    {
     "ename": "",
     "evalue": "",
     "output_type": "error",
     "traceback": [
      "error: <Cell 35>:1:8: error: missing argument label 'name:' in call\ngreet1(\"Andrés\")\n\n"
     ]
    }
   ],
   "source": [
    "greet1(\"Andrés\")"
   ]
  },
  {
   "cell_type": "code",
   "execution_count": 36,
   "metadata": {},
   "outputs": [
    {
     "name": "stdout",
     "output_type": "stream",
     "text": [
      "Hello, Pedro!\r\n"
     ]
    }
   ],
   "source": [
    "greet1(name: \"Pedro\")"
   ]
  },
  {
   "cell_type": "markdown",
   "metadata": {},
   "source": [
    "Obsérvese cómo, a diferencia de muchos lenguajes, en la invocación a una función debe incluirse el nombre de los parámetros de entrada. Esta es una idea que procede de Objective-C y cuyo propósito es eliminar por completo la ambigüedad en la invocación.\n",
    "\n",
    "En algunas ocasiones, como en las funciones matemáticas en las que sabemos que sólo se suministra un parámetro, podemos hacer que la invocación sea anónima. Es el caso de la función `cos` que hemos visto antes. Si quisiéramos hacer lo mismo en nuestra función `greet`, la definición sería:"
   ]
  },
  {
   "cell_type": "code",
   "execution_count": 37,
   "metadata": {},
   "outputs": [
    {
     "name": "stdout",
     "output_type": "stream",
     "text": [
      "Hello, Jose!\r\n"
     ]
    }
   ],
   "source": [
    "func greet2(_ name: String) {\n",
    "    print(\"Hello, \\(name)!\")\n",
    "}\n",
    "\n",
    "greet2(\"Jose\")"
   ]
  },
  {
   "cell_type": "markdown",
   "metadata": {},
   "source": [
    "Dentro de la función seguimos necesitando un nombre de variable para poder referirnos al dato que nos han suministrado. Si ponemos el carácter `_` antes de ese nombre, indicamos que la invocación será anónima.\n",
    "\n",
    "`_` se emplea también en otras situaciones, como veremos, para indicar valores que se omiten."
   ]
  },
  {
   "cell_type": "markdown",
   "metadata": {},
   "source": [
    "A decir verdad, los parámetros de las funciones pueden recibir **dos** nombres: el que se utiliza dentro de la función y el que se utiliza para invocarla. A veces es más descriptivo utilizar dos nombres, aunque abusar de esta característica puede hacer el código innecesariamente prolijo."
   ]
  },
  {
   "cell_type": "code",
   "execution_count": 38,
   "metadata": {},
   "outputs": [
    {
     "name": "stdout",
     "output_type": "stream",
     "text": [
      "Hello, Jose! Today is Wednesday.\r\n"
     ]
    }
   ],
   "source": [
    "func greet3(_ name: String, on day: String) {\n",
    "    print(\"Hello, \\(name)! Today is \\(day).\")\n",
    "}\n",
    "\n",
    "greet3(\"Jose\", on: \"Wednesday\")"
   ]
  },
  {
   "cell_type": "markdown",
   "metadata": {},
   "source": [
    "Se pueden indicar valores por defecto para los parámetros:"
   ]
  },
  {
   "cell_type": "code",
   "execution_count": 39,
   "metadata": {},
   "outputs": [
    {
     "name": "stdout",
     "output_type": "stream",
     "text": [
      "Hello, Jose! Today is Wednesday.\r\n",
      "Hello, Pedro! Today is Monday.\r\n"
     ]
    }
   ],
   "source": [
    "func greet4(_ name: String, on day: String = \"Monday\") {\n",
    "    print(\"Hello, \\(name)! Today is \\(day).\")\n",
    "}\n",
    "\n",
    "greet4(\"Jose\", on: \"Wednesday\")\n",
    "greet4(\"Pedro\")"
   ]
  },
  {
   "cell_type": "markdown",
   "metadata": {},
   "source": [
    "Es muy habitual que las funciones devuelvan valores. Esto se expresa con la \"flecha\" `->`. A continuación vamos a hacer una nueva versión de la función de saludo que devuelva el `String` en lugar de imprimirlo:"
   ]
  },
  {
   "cell_type": "code",
   "execution_count": 40,
   "metadata": {},
   "outputs": [
    {
     "name": "stdout",
     "output_type": "stream",
     "text": [
      "Hello, Pedro! Today is Monday.\r\n"
     ]
    }
   ],
   "source": [
    "func greeting(_ name: String, on day: String = \"Monday\") -> String {\n",
    "    return \"Hello, \\(name)! Today is \\(day).\"\n",
    "}\n",
    "\n",
    "print(greeting(\"Pedro\"))"
   ]
  },
  {
   "cell_type": "code",
   "execution_count": 42,
   "metadata": {},
   "outputs": [],
   "source": [
    "var theGreeting = greeting(\"Pedro\")"
   ]
  },
  {
   "cell_type": "code",
   "execution_count": 43,
   "metadata": {},
   "outputs": [
    {
     "data": {
      "text/plain": [
       "\"Hello, Pedro! Today is Monday.\"\n"
      ]
     },
     "execution_count": 43,
     "metadata": {},
     "output_type": "execute_result"
    }
   ],
   "source": [
    "theGreeting"
   ]
  },
  {
   "cell_type": "code",
   "execution_count": 44,
   "metadata": {},
   "outputs": [
    {
     "data": {
      "text/plain": [
       "\"Hello, Pedro! Today is Monday.\"\n"
      ]
     },
     "execution_count": 44,
     "metadata": {},
     "output_type": "execute_result"
    }
   ],
   "source": [
    "greeting(\"Pedro\")"
   ]
  },
  {
   "cell_type": "markdown",
   "metadata": {},
   "source": [
    "Las funciones, técnicamente, sólo pueden devolver un único valor. Sin embargo, en Swift existe el tipo \"tupla\" que representa una secuencia de valores. Es válido que una función devuelva una tupla, que no es más que una lista de tipos entre paréntesis:"
   ]
  },
  {
   "cell_type": "code",
   "execution_count": 46,
   "metadata": {},
   "outputs": [
    {
     "data": {
      "text/plain": [
       "▿ 2 elements\n",
       "  - .0 : 20\n",
       "  - .1 : \"Javier\"\n"
      ]
     },
     "execution_count": 46,
     "metadata": {},
     "output_type": "execute_result"
    }
   ],
   "source": [
    "// Función que devuelve una tupla con dos valores\n",
    "func readPersonFromDatabase() -> (Int, String) {\n",
    "    return (20, \"Javier\")   // Siempre hay que poner las tuplas en paréntesis\n",
    "}\n",
    "\n",
    "let person = readPersonFromDatabase()\n",
    "person"
   ]
  },
  {
   "cell_type": "code",
   "execution_count": 48,
   "metadata": {},
   "outputs": [
    {
     "name": "stdout",
     "output_type": "stream",
     "text": [
      "20\r\n"
     ]
    }
   ],
   "source": [
    "print(person.0)"
   ]
  },
  {
   "cell_type": "code",
   "execution_count": 49,
   "metadata": {},
   "outputs": [
    {
     "name": "stdout",
     "output_type": "stream",
     "text": [
      "Javier\r\n"
     ]
    }
   ],
   "source": [
    "print(person.1)"
   ]
  },
  {
   "cell_type": "code",
   "execution_count": 47,
   "metadata": {},
   "outputs": [
    {
     "name": "stdout",
     "output_type": "stream",
     "text": [
      "(20, \"Javier\")\r\n"
     ]
    }
   ],
   "source": [
    "print(person)"
   ]
  },
  {
   "cell_type": "markdown",
   "metadata": {},
   "source": [
    "¿Cómo accedemos al contenido de la tupla? Como puede verse en la descripción que muestra la ejecución de la celda anterior, esta tupla consta de dos elementos. Una forma es referirnos a los elementos por su posición, comenzando en el 0:"
   ]
  },
  {
   "cell_type": "code",
   "execution_count": 50,
   "metadata": {},
   "outputs": [
    {
     "name": "stdout",
     "output_type": "stream",
     "text": [
      "Age: 20, Name: Javier\r\n"
     ]
    }
   ],
   "source": [
    "print(\"Age: \\(person.0), Name: \\(person.1)\")"
   ]
  },
  {
   "cell_type": "markdown",
   "metadata": {},
   "source": [
    "Sin embargo, esto es poco descriptivo. Afortunadamente, se pueden dar nombres a los elementos de los que consta la tupla. Esto podría haberse hecho declarando la función así:"
   ]
  },
  {
   "cell_type": "code",
   "execution_count": 51,
   "metadata": {},
   "outputs": [
    {
     "name": "stdout",
     "output_type": "stream",
     "text": [
      "Age: 20, Name: Javier\r\n"
     ]
    }
   ],
   "source": [
    "func readPersonFromDatabase2() -> (age: Int, name: String) {\n",
    "    return (20, \"Javier\")   // Siempre hay que poner las tuplas en paréntesis\n",
    "}\n",
    "\n",
    "let person = readPersonFromDatabase2()\n",
    "print(\"Age: \\(person.age), Name: \\(person.name)\")"
   ]
  },
  {
   "cell_type": "code",
   "execution_count": 52,
   "metadata": {},
   "outputs": [
    {
     "data": {
      "text/plain": [
       "20\n"
      ]
     },
     "execution_count": 52,
     "metadata": {},
     "output_type": "execute_result"
    }
   ],
   "source": [
    "person.0"
   ]
  },
  {
   "cell_type": "code",
   "execution_count": 53,
   "metadata": {},
   "outputs": [
    {
     "data": {
      "text/plain": [
       "▿ 2 elements\n",
       "  - age : 20\n",
       "  - name : \"Javier\"\n"
      ]
     },
     "execution_count": 53,
     "metadata": {},
     "output_type": "execute_result"
    }
   ],
   "source": [
    "person"
   ]
  },
  {
   "cell_type": "code",
   "execution_count": 55,
   "metadata": {},
   "outputs": [
    {
     "name": "stdout",
     "output_type": "stream",
     "text": [
      "(age: Int, name: String)\r\n"
     ]
    }
   ],
   "source": [
    "print(type(of: person))"
   ]
  },
  {
   "cell_type": "markdown",
   "metadata": {},
   "source": [
    "Sea como fuere, siempre podemos extraer los valores de la tupla a variables individuales:"
   ]
  },
  {
   "cell_type": "code",
   "execution_count": 56,
   "metadata": {},
   "outputs": [
    {
     "name": "stdout",
     "output_type": "stream",
     "text": [
      "Age: 20, Name: Javier\r\n"
     ]
    }
   ],
   "source": [
    "let (age, name) = readPersonFromDatabase2()\n",
    "print(\"Age: \\(age), Name: \\(name)\")"
   ]
  },
  {
   "cell_type": "code",
   "execution_count": 57,
   "metadata": {},
   "outputs": [],
   "source": [
    "let (edadJavier, nombreJavier) = readPersonFromDatabase2()"
   ]
  },
  {
   "cell_type": "code",
   "execution_count": 58,
   "metadata": {},
   "outputs": [
    {
     "name": "stdout",
     "output_type": "stream",
     "text": [
      "Int\r\n",
      "String\r\n"
     ]
    }
   ],
   "source": [
    "print(type(of: edadJavier))\n",
    "print(type(of: nombreJavier))"
   ]
  },
  {
   "cell_type": "markdown",
   "metadata": {},
   "source": [
    "----"
   ]
  },
  {
   "cell_type": "markdown",
   "metadata": {},
   "source": [
    "Las funciones pueden **anidarse** dentro de otras funciones. Una función anidada sólo es visible desde dentro de la función donde se encuentra. Esta es una forma retorcida de calcular el siguiente valor de un número entero:"
   ]
  },
  {
   "cell_type": "code",
   "execution_count": 59,
   "metadata": {},
   "outputs": [
    {
     "name": "stdout",
     "output_type": "stream",
     "text": [
      "5\r\n"
     ]
    }
   ],
   "source": [
    "func printIncrement(_ n: Int) {\n",
    "    func addOne(_ n: Int) -> Int {\n",
    "        return n + 1\n",
    "    }\n",
    "    print(addOne(n))\n",
    "}\n",
    "\n",
    "printIncrement(4)"
   ]
  },
  {
   "cell_type": "markdown",
   "metadata": {},
   "source": [
    "Las funciones también son **tipos de primer orden** (es decir, tipos como cualquier otro). Esto significa que una función puede aceptar como argumento o devolver otra función:"
   ]
  },
  {
   "cell_type": "code",
   "execution_count": 60,
   "metadata": {},
   "outputs": [
    {
     "name": "stdout",
     "output_type": "stream",
     "text": [
      "42\r\n"
     ]
    }
   ],
   "source": [
    "func makeIncrementer() -> ((Int) -> (Int)) {\n",
    "    func addOne(n: Int) -> Int {\n",
    "        return n + 1\n",
    "    }\n",
    "    return addOne\n",
    "}\n",
    "\n",
    "let incrementer = makeIncrementer()\n",
    "print(incrementer(41))"
   ]
  },
  {
   "cell_type": "code",
   "execution_count": 61,
   "metadata": {},
   "outputs": [
    {
     "data": {
      "text/plain": [
       "1\n"
      ]
     },
     "execution_count": 61,
     "metadata": {},
     "output_type": "execute_result"
    }
   ],
   "source": [
    "incrementer(0)"
   ]
  },
  {
   "cell_type": "code",
   "execution_count": 63,
   "metadata": {},
   "outputs": [
    {
     "name": "stdout",
     "output_type": "stream",
     "text": [
      "(Int) -> Int\r\n"
     ]
    }
   ],
   "source": [
    "print(type(of: incrementer))"
   ]
  },
  {
   "cell_type": "markdown",
   "metadata": {},
   "source": [
    "`makeIncrementer()` devuelve **una función** (lo que se indica con los paréntesis en el resultado). Dicha función acepta como argumento un `Int`, y devuelve (`->`) otro `Int`."
   ]
  },
  {
   "cell_type": "markdown",
   "metadata": {},
   "source": [
    "Las funciones anidadas \"ven\" el contexto de la función donde fueron declaradas. Este contexto se \"arrastra\" con la función cuando ésta se devuelve. Observa cómo la función anidada `add` del siguiente ejemplo es capaz de hacer referencia al argumento `base` de la función `makeAdder`. Si llamamos a `makeAdder` con diferentes valores, obtendremos funciones que aplican la suma a esos números:"
   ]
  },
  {
   "cell_type": "code",
   "execution_count": 65,
   "metadata": {},
   "outputs": [
    {
     "name": "stdout",
     "output_type": "stream",
     "text": [
      "7\r\n",
      "10\r\n"
     ]
    }
   ],
   "source": [
    "func makeAdder(_ base: Int) -> ((Int) -> (Int)) {\n",
    "    var x = 7\n",
    "    func add(n: Int) -> Int {\n",
    "        return base + n\n",
    "    }\n",
    "    return add\n",
    "}\n",
    "\n",
    "let adder = makeAdder(5)\n",
    "print(adder(2))\n",
    "print(adder(5))"
   ]
  },
  {
   "cell_type": "code",
   "execution_count": 66,
   "metadata": {},
   "outputs": [
    {
     "name": "stdout",
     "output_type": "stream",
     "text": [
      "1\r\n",
      "4\r\n"
     ]
    }
   ],
   "source": [
    "let decrementer = makeAdder(-1)\n",
    "print(decrementer(2))\n",
    "print(decrementer(5))"
   ]
  },
  {
   "cell_type": "code",
   "execution_count": null,
   "metadata": {},
   "outputs": [],
   "source": [
    "print(type(of: decrementer))"
   ]
  },
  {
   "cell_type": "markdown",
   "metadata": {},
   "source": [
    "Este tipo de funciones también se denominan _**closures**_, puesto que \"envuelven\" o capturan las variables del contexto donde se definen. Su utilización es muy importante en Swift, en futuras secciones iremos viendo más cosas sobre los closures."
   ]
  },
  {
   "cell_type": "markdown",
   "metadata": {},
   "source": [
    "## Colecciones"
   ]
  },
  {
   "cell_type": "markdown",
   "metadata": {},
   "source": [
    "Además de las _tuplas_ que ya hemos visto, en Swift hay tres tipos agregados incorporados en la biblioteca estándar del lenguaje:\n",
    "* Arrays\n",
    "* Sets\n",
    "* Diccionarios\n",
    "\n",
    "Estos tipos se conocen con el nombre genérico de _colecciones_, y su propósito es almacenar conjuntos de elementos."
   ]
  },
  {
   "cell_type": "markdown",
   "metadata": {},
   "source": [
    "### Arrays"
   ]
  },
  {
   "cell_type": "markdown",
   "metadata": {},
   "source": [
    "Los arrays son secuencias de tipos homogéneos; es decir, los elementos que contienen son del mismo tipo. Su característica principal es la _indexación_: cada elemento tiene asociado un índice de _acceso directo_ mediante el que se puede acceder a su valor."
   ]
  },
  {
   "cell_type": "code",
   "execution_count": 1,
   "metadata": {},
   "outputs": [],
   "source": [
    "var someOddNumbers = [7, 5, 3, 1]   // Array of Int, initialized with some values.\n",
    "var aFewStrings: Array<String>      // Array of String (uninitialized!).\n",
    "var floats: [Double]                // Array of Double (uninitialized!).\n",
    "var andMore = Array<Double>()       // Array of Double (empty)\n",
    "var moreFloats = [Double]()         // Array of Double (empty)"
   ]
  },
  {
   "cell_type": "code",
   "execution_count": 2,
   "metadata": {},
   "outputs": [
    {
     "name": "stdout",
     "output_type": "stream",
     "text": [
      "Array<String>\r\n"
     ]
    }
   ],
   "source": [
    "print(type(of: aFewStrings))"
   ]
  },
  {
   "cell_type": "code",
   "execution_count": 3,
   "metadata": {},
   "outputs": [
    {
     "name": "stdout",
     "output_type": "stream",
     "text": [
      "Array<Int>\r\n"
     ]
    }
   ],
   "source": [
    "print(type(of: someOddNumbers))"
   ]
  },
  {
   "cell_type": "code",
   "execution_count": 4,
   "metadata": {},
   "outputs": [
    {
     "name": "stdout",
     "output_type": "stream",
     "text": [
      "Array<Double>\r\n"
     ]
    }
   ],
   "source": [
    "print(type(of: floats))"
   ]
  },
  {
   "cell_type": "markdown",
   "metadata": {},
   "source": [
    "La forma canónica de expresar el tipo de un array es `Array<TipoElemento>`, donde `TipoElemento` es el tipo de cada uno de los elementos que contiene el array. La notación `[TipoElemento]`, sin embargo, es muy común por su sencillez. Si deseamos introducir elementos en el array al mismo tiempo que lo declaramos, podemos hacerlo por enumeración como en el primer ejemplo de la celda anterior."
   ]
  },
  {
   "cell_type": "markdown",
   "metadata": {},
   "source": [
    "Algunas operaciones con arrays."
   ]
  },
  {
   "cell_type": "code",
   "execution_count": 5,
   "metadata": {},
   "outputs": [
    {
     "data": {
      "text/plain": [
       "Use `print()` to show values.\n"
      ]
     },
     "execution_count": 5,
     "metadata": {},
     "output_type": "execute_result"
    }
   ],
   "source": [
    "someOddNumbers[0]           // Indexación"
   ]
  },
  {
   "cell_type": "code",
   "execution_count": 6,
   "metadata": {},
   "outputs": [
    {
     "data": {
      "text/plain": [
       "Use `print()` to show values.\n"
      ]
     },
     "execution_count": 6,
     "metadata": {},
     "output_type": "execute_result"
    }
   ],
   "source": [
    "someOddNumbers[2]"
   ]
  },
  {
   "cell_type": "code",
   "execution_count": 7,
   "metadata": {},
   "outputs": [
    {
     "data": {
      "text/plain": [
       "Use `print()` to show values.\n"
      ]
     },
     "execution_count": 7,
     "metadata": {},
     "output_type": "execute_result"
    }
   ],
   "source": [
    "someOddNumbers.count"
   ]
  },
  {
   "cell_type": "code",
   "execution_count": 8,
   "metadata": {},
   "outputs": [
    {
     "data": {
      "text/plain": [
       "Use `print()` to show values.\n"
      ]
     },
     "execution_count": 8,
     "metadata": {},
     "output_type": "execute_result"
    }
   ],
   "source": [
    "someOddNumbers[someOddNumbers.count-1]"
   ]
  },
  {
   "cell_type": "code",
   "execution_count": 9,
   "metadata": {},
   "outputs": [
    {
     "name": "stdout",
     "output_type": "stream",
     "text": [
      "[7, 5, 3, 1, 9]\r\n"
     ]
    }
   ],
   "source": [
    "someOddNumbers = someOddNumbers + [9]           // Append another array\n",
    "print(someOddNumbers)"
   ]
  },
  {
   "cell_type": "code",
   "execution_count": 10,
   "metadata": {},
   "outputs": [
    {
     "name": "stdout",
     "output_type": "stream",
     "text": [
      "[7, 5, 3, 1, 9, 11]\r\n"
     ]
    }
   ],
   "source": [
    "someOddNumbers.append(11)     // Append a single element. The array is mutated.\n",
    "print(someOddNumbers)"
   ]
  },
  {
   "cell_type": "code",
   "execution_count": 11,
   "metadata": {},
   "outputs": [
    {
     "data": {
      "text/plain": [
       "Use `print()` to show values.\n"
      ]
     },
     "execution_count": 11,
     "metadata": {},
     "output_type": "execute_result"
    }
   ],
   "source": [
    "someOddNumbers.contains(3)"
   ]
  },
  {
   "cell_type": "code",
   "execution_count": 12,
   "metadata": {},
   "outputs": [
    {
     "data": {
      "text/plain": [
       "Use `print()` to show values.\n"
      ]
     },
     "execution_count": 12,
     "metadata": {},
     "output_type": "execute_result"
    }
   ],
   "source": [
    "someOddNumbers.contains(2)"
   ]
  },
  {
   "cell_type": "code",
   "execution_count": 13,
   "metadata": {},
   "outputs": [
    {
     "name": "stdout",
     "output_type": "stream",
     "text": [
      "Bool\r\n"
     ]
    }
   ],
   "source": [
    "print(type(of: true))"
   ]
  },
  {
   "cell_type": "code",
   "execution_count": 14,
   "metadata": {},
   "outputs": [
    {
     "data": {
      "text/plain": [
       "Use `print()` to show values.\n"
      ]
     },
     "execution_count": 14,
     "metadata": {},
     "output_type": "execute_result"
    }
   ],
   "source": [
    "someOddNumbers.index(of: 3)"
   ]
  },
  {
   "cell_type": "code",
   "execution_count": 15,
   "metadata": {},
   "outputs": [
    {
     "data": {
      "text/plain": [
       "Use `print()` to show values.\n"
      ]
     },
     "execution_count": 15,
     "metadata": {},
     "output_type": "execute_result"
    }
   ],
   "source": [
    "someOddNumbers.index(of: 2)"
   ]
  },
  {
   "cell_type": "markdown",
   "metadata": {},
   "source": [
    "`nil` es un valor especial. En este caso significa que no hay ningún elemento con el valor que estamos buscando, por lo que el índice es \"nulo\". Próximamente veremos más sobre `nil` y su relación con `Optional`, que aparece en la celda anterior."
   ]
  },
  {
   "cell_type": "code",
   "execution_count": 16,
   "metadata": {},
   "outputs": [
    {
     "name": "stdout",
     "output_type": "stream",
     "text": [
      "[7, 5, 3, 1, 9, 11, 7, 5, 3, 1, 9, 11]\r\n"
     ]
    }
   ],
   "source": [
    "print(someOddNumbers + someOddNumbers)"
   ]
  },
  {
   "cell_type": "markdown",
   "metadata": {},
   "source": [
    "Los elementos pueden estar repetidos."
   ]
  },
  {
   "cell_type": "markdown",
   "metadata": {},
   "source": [
    "Generalmente se dice que el array es una estructura de datos _ordenada_. Esta ordenación **no** se refiere a los elementos que contiene, sino a que cada uno va detrás del otro de manera determinística, según el orden en que los hemos ido colocando al rellenar el array."
   ]
  },
  {
   "cell_type": "markdown",
   "metadata": {},
   "source": [
    "`var` y `let` son muy relevantes. Un array declarado con `let` es inmutable."
   ]
  },
  {
   "cell_type": "code",
   "execution_count": 17,
   "metadata": {},
   "outputs": [
    {
     "ename": "",
     "evalue": "",
     "output_type": "error",
     "traceback": [
      "error: <Cell 17>:2:3: error: cannot use mutating member on immutable value: 'x' is a 'let' constant\nx.append(3)\n~ ^\n\n<Cell 17>:1:1: note: change 'let' to 'var' to make it mutable\nlet x = [1, 2]\n^~~\nvar\n\n"
     ]
    }
   ],
   "source": [
    "let x = [1, 2]\n",
    "x.append(3)"
   ]
  },
  {
   "cell_type": "markdown",
   "metadata": {},
   "source": [
    "----"
   ]
  },
  {
   "cell_type": "markdown",
   "metadata": {},
   "source": [
    "Iteración"
   ]
  },
  {
   "cell_type": "code",
   "execution_count": 18,
   "metadata": {},
   "outputs": [
    {
     "name": "stdout",
     "output_type": "stream",
     "text": [
      "7 14\r\n",
      "5 10\r\n",
      "3 6\r\n",
      "1 2\r\n",
      "9 18\r\n",
      "11 22\r\n"
     ]
    }
   ],
   "source": [
    "for v in someOddNumbers {\n",
    "    print(v, v * 2)\n",
    "}"
   ]
  },
  {
   "cell_type": "code",
   "execution_count": 19,
   "metadata": {},
   "outputs": [
    {
     "name": "stdout",
     "output_type": "stream",
     "text": [
      "11 22\r\n",
      "9 18\r\n",
      "1 2\r\n",
      "3 6\r\n",
      "5 10\r\n",
      "7 14\r\n"
     ]
    }
   ],
   "source": [
    "for v in someOddNumbers.reversed() {\n",
    "    print(v, v * 2)\n",
    "}"
   ]
  },
  {
   "cell_type": "code",
   "execution_count": 20,
   "metadata": {},
   "outputs": [
    {
     "name": "stdout",
     "output_type": "stream",
     "text": [
      "1 2\r\n",
      "3 6\r\n",
      "5 10\r\n",
      "7 14\r\n",
      "9 18\r\n",
      "11 22\r\n"
     ]
    }
   ],
   "source": [
    "for v in someOddNumbers.sorted() {\n",
    "    print(v, v * 2)\n",
    "}"
   ]
  },
  {
   "cell_type": "code",
   "execution_count": 21,
   "metadata": {},
   "outputs": [
    {
     "name": "stdout",
     "output_type": "stream",
     "text": [
      "[1, 3, 5, 7, 9, 11]\r\n"
     ]
    }
   ],
   "source": [
    "print(someOddNumbers.sorted())"
   ]
  },
  {
   "cell_type": "markdown",
   "metadata": {},
   "source": [
    "### Diccionarios"
   ]
  },
  {
   "cell_type": "markdown",
   "metadata": {},
   "source": [
    "Los diccionarios, que en otros lenguajes pueden tener otros nombres como _mapas_ o _arrays asociativos_, son un conjunto de parejas _**nombre**_ y _**valor**_. El _nombre_ es usualmente un String, pero no tiene por qué. Por este motivo se le llama generalmente **`clave`** en lugar de _nombre_.\n",
    "\n",
    "Los diccionarios se utilizan muchísimo para relacionar datos entre sí. Por ejemplo, en una aplicación de contactos, la _clave_ podría ser el nombre de la persona y el _valor_ su número de teléfono. Un sistema de DNS podría implementarse también con un gran diccionario: a cada nombre de servidor se le asocia su dirección IP. Si suponemos que ambos datos (nombre de servidor y dirección IP) fueran Strings, declararíamos el tipo del diccionario correspondiente así:"
   ]
  },
  {
   "cell_type": "code",
   "execution_count": 22,
   "metadata": {},
   "outputs": [],
   "source": [
    "var dns = [String : String]()"
   ]
  },
  {
   "cell_type": "markdown",
   "metadata": {},
   "source": [
    "En la declaración anterior vemos:\n",
    "* La nomenclatura `[ : ]` indica que el tipo que estamos definiendo es un diccionario. Antes del carácter `:` aparece el tipo de la clave, y después el tipo del valor.\n",
    "* El primer término `String` indica por tanto que las claves de este diccionario (los nombres de los servidores) serán strings.\n",
    "* El segundo término `String` indica que los valores asociados también serán strings.\n",
    "* Los paréntesis `()` del final indica que estamos _creando_ una instancia de un diccionario de ese tipo. Como no estamos rellenando con ningún dato, el diccionario estará vacío."
   ]
  },
  {
   "cell_type": "code",
   "execution_count": 23,
   "metadata": {},
   "outputs": [],
   "source": [
    "dns[\"www.urjc.es\"] = \"212.128.240.50\"\n",
    "dns[\"google.com\"] = \"172.217.17.14\"\n",
    "dns[\"stanford.edu\"] = \"171.67.215.200\""
   ]
  },
  {
   "cell_type": "code",
   "execution_count": 24,
   "metadata": {},
   "outputs": [
    {
     "name": "stdout",
     "output_type": "stream",
     "text": [
      "Optional(\"172.217.17.14\")\r\n"
     ]
    }
   ],
   "source": [
    "print(dns[\"google.com\"])"
   ]
  },
  {
   "cell_type": "markdown",
   "metadata": {},
   "source": [
    "Ignorando por ahora `Optional`, en las líneas anteriores vemos cómo se añaden y consultan elementos.\n",
    "\n",
    "Las claves son únicas. Si volvemos a introducir un elemento con la misma clave, el nuevo valor sustituirá al antiguo:"
   ]
  },
  {
   "cell_type": "code",
   "execution_count": null,
   "metadata": {},
   "outputs": [],
   "source": []
  },
  {
   "cell_type": "markdown",
   "metadata": {},
   "source": [
    "No hay ningún orden asociado a las claves. Podemos iterar por un diccionario, pero nos llegarán los resultados en un orden arbitrario. Lo único que se garantiza es que este orden será el mismo mientras no hagamos modificaciones en el diccionario.\n",
    "\n",
    "La iteración devuelve _tuplas_ con las claves y los valores:"
   ]
  },
  {
   "cell_type": "code",
   "execution_count": 25,
   "metadata": {},
   "outputs": [
    {
     "name": "stdout",
     "output_type": "stream",
     "text": [
      "google.com => 172.217.17.14\r\n",
      "stanford.edu => 171.67.215.200\r\n",
      "www.urjc.es => 212.128.240.50\r\n"
     ]
    }
   ],
   "source": [
    "func printDnsDictionary(_ dns: [String : String]) {\n",
    "    for (key, value) in dns {\n",
    "        print(\"\\(key) => \\(value)\")\n",
    "    }\n",
    "}\n",
    "\n",
    "printDnsDictionary(dns)"
   ]
  },
  {
   "cell_type": "markdown",
   "metadata": {},
   "source": [
    "Las operaciones básicas en diccionarios son:\n",
    "* Añadir pares clave-valor. Se modifican los valores anteriores en caso de repetición de la clave.\n",
    "* Consultar el valor asociado a una clave. \n",
    "* Eliminar elementos, que veremos a continuación."
   ]
  },
  {
   "cell_type": "code",
   "execution_count": 26,
   "metadata": {},
   "outputs": [
    {
     "name": "stdout",
     "output_type": "stream",
     "text": [
      "stanford.edu => 171.67.215.200\r\n",
      "www.urjc.es => 212.128.240.50\r\n"
     ]
    }
   ],
   "source": [
    "dns.removeValue(forKey: \"google.com\")\n",
    "\n",
    "printDnsDictionary(dns)"
   ]
  },
  {
   "cell_type": "markdown",
   "metadata": {},
   "source": [
    "(Inciso: en estos notebooks se pueden obtener sugerencias si no sabemos o no recordamos cómo se llama una propiedad. Por ejemplo, si escribimos `dns.rem` y pulsamos la tecla tabulador, veremos una lista de sugerencias).\n",
    "\n",
    "![Jupyter autocompletion](img/jupyter-autocompletion.png \"Autocompletion in Swift Jupyter\")"
   ]
  },
  {
   "cell_type": "markdown",
   "metadata": {},
   "source": [
    "Como hemos indicado, el tipo de las claves y el tipo de los valores asociados a esas claves no tienen por qué coincidir."
   ]
  },
  {
   "cell_type": "code",
   "execution_count": 27,
   "metadata": {},
   "outputs": [],
   "source": [
    "var ages = [String: Int]()\n",
    "ages[\"Pablo\"] = 25\n",
    "ages[\"Javier\"] = 20"
   ]
  },
  {
   "cell_type": "markdown",
   "metadata": {},
   "source": [
    "En este caso la clave es un `String` y el valor asociado a cada una es un `Int`."
   ]
  },
  {
   "cell_type": "markdown",
   "metadata": {},
   "source": [
    "Podemos, incluso, asociar \"varios\" valores usando tuplas u otros tipos agregados."
   ]
  },
  {
   "cell_type": "code",
   "execution_count": 28,
   "metadata": {},
   "outputs": [],
   "source": [
    "var contacts = [String : (age: Int, email: String)]()"
   ]
  },
  {
   "cell_type": "code",
   "execution_count": 29,
   "metadata": {},
   "outputs": [],
   "source": [
    "contacts[\"Pablo\"] = (25, \"pablo@xxxxx.com\")\n",
    "contacts[\"Javier\"] = (20, \"javier@yyyyy.com\")"
   ]
  },
  {
   "cell_type": "code",
   "execution_count": 30,
   "metadata": {},
   "outputs": [
    {
     "name": "stdout",
     "output_type": "stream",
     "text": [
      "Pablo is 25 years old and can be contacted at pablo@xxxxx.com.\r\n",
      "Javier is 20 years old and can be contacted at javier@yyyyy.com.\r\n"
     ]
    }
   ],
   "source": [
    "for (name, (age, email)) in contacts {\n",
    "    print(\"\\(name) is \\(age) years old and can be contacted at \\(email).\")\n",
    "}"
   ]
  },
  {
   "cell_type": "markdown",
   "metadata": {},
   "source": [
    "La enumeración `for ... in` devuelve una tupla de dos elementos: el primero es la clave y el segundo el valor. En este caso, el valor es _otra tupla_ con la edad y la dirección de correo electrónico."
   ]
  },
  {
   "cell_type": "markdown",
   "metadata": {},
   "source": [
    "Por último, examinemos el tipo _canónico_ de los diccionarios."
   ]
  },
  {
   "cell_type": "code",
   "execution_count": 31,
   "metadata": {},
   "outputs": [
    {
     "name": "stdout",
     "output_type": "stream",
     "text": [
      "Dictionary<String, String>\r\n",
      "Dictionary<String, Int>\r\n",
      "Dictionary<String, (age: Int, email: String)>\r\n"
     ]
    }
   ],
   "source": [
    "print(type(of: dns))\n",
    "print(type(of: ages))\n",
    "print(type(of: contacts))"
   ]
  },
  {
   "cell_type": "markdown",
   "metadata": {},
   "source": [
    "Nosotros podemos usar esa misma notación en nuestro código, pero suele ser más conveniente hacerlo utilizando la notación con corchetes que hemos visto en los ejemplos."
   ]
  },
  {
   "cell_type": "markdown",
   "metadata": {},
   "source": [
    "### Sets"
   ]
  },
  {
   "cell_type": "markdown",
   "metadata": {},
   "source": [
    "Los `sets` o conjuntos son, como los arrays, secuencias homogéneas de valores. Se diferencian de ellos en:\n",
    "* No pueden contener elementos repetidos.\n",
    "* No existe un índice de posición asociado a cada elemento. Si iteramos un Set podemos obtener valores en cualquier orden.\n",
    "\n",
    "Los sets se utilizan mucho menos que los arrays, pero son muy útiles cuando queremos garantizar que los elementos sean únicos."
   ]
  },
  {
   "cell_type": "code",
   "execution_count": 32,
   "metadata": {},
   "outputs": [],
   "source": [
    "var x = Set([1, 2, 3])"
   ]
  },
  {
   "cell_type": "code",
   "execution_count": 33,
   "metadata": {},
   "outputs": [
    {
     "name": "stdout",
     "output_type": "stream",
     "text": [
      "[3, 1, 2]\r\n"
     ]
    }
   ],
   "source": [
    "print(x)"
   ]
  },
  {
   "cell_type": "code",
   "execution_count": 34,
   "metadata": {},
   "outputs": [],
   "source": [
    "var knownOddNumbers = Set(someOddNumbers)"
   ]
  },
  {
   "cell_type": "code",
   "execution_count": 35,
   "metadata": {},
   "outputs": [
    {
     "name": "stdout",
     "output_type": "stream",
     "text": [
      "[11, 5, 3, 9, 1, 7]\r\n"
     ]
    }
   ],
   "source": [
    "print(knownOddNumbers)"
   ]
  },
  {
   "cell_type": "code",
   "execution_count": 36,
   "metadata": {},
   "outputs": [
    {
     "name": "stdout",
     "output_type": "stream",
     "text": [
      "6\r\n"
     ]
    }
   ],
   "source": [
    "knownOddNumbers.insert(11)\n",
    "print(knownOddNumbers.count)"
   ]
  },
  {
   "cell_type": "code",
   "execution_count": 37,
   "metadata": {},
   "outputs": [],
   "source": [
    "func findDuplicates(_ names: [String]) -> Set<String> {\n",
    "    var uniqueNames: Set<String> = []\n",
    "    var duplicates: Set<String> = []\n",
    "    for name in names {\n",
    "        if uniqueNames.contains(name) {\n",
    "            duplicates.insert(name)\n",
    "        }\n",
    "        uniqueNames.insert(name)\n",
    "    }\n",
    "    return duplicates\n",
    "}"
   ]
  },
  {
   "cell_type": "code",
   "execution_count": 38,
   "metadata": {},
   "outputs": [
    {
     "name": "stdout",
     "output_type": "stream",
     "text": [
      "[\"pablo\", \"ana\"]\r\n"
     ]
    }
   ],
   "source": [
    "print(findDuplicates([\"pedro\", \"ana\", \"javier\", \"ana\", \"ana\", \"pablo\", \"pablo\"]))"
   ]
  },
  {
   "cell_type": "markdown",
   "metadata": {},
   "source": [
    "------"
   ]
  },
  {
   "cell_type": "markdown",
   "metadata": {},
   "source": [
    "**Ejercicio 1**\n",
    "\n",
    "Escribe una función que acepte como parámetro de entrada una lista de `String`s, y devuelva los nombres únicos que figuran en la lista, sin ningún orden en particular.\n",
    "\n",
    "Escribe el código necesario para comprobar que funciona correctamente.\n",
    "\n",
    "Utiliza nombres sensatos para la función y las variables que utilices."
   ]
  },
  {
   "cell_type": "markdown",
   "metadata": {},
   "source": [
    "**Versión 1**: utilizando la función `findDuplicates` definida antes. Como ya la tenemos hecha y esta suena que puede ser parecida, probamos a reutilizar y adaptar el código:"
   ]
  },
  {
   "cell_type": "code",
   "execution_count": 39,
   "metadata": {},
   "outputs": [
    {
     "name": "stdout",
     "output_type": "stream",
     "text": [
      "[\"ana\", \"pablo\", \"javier\", \"pedro\"]\r\n"
     ]
    }
   ],
   "source": [
    "func findUnique(_ names: [String]) -> Set<String> {\n",
    "    var uniqueNames: Set<String> = []\n",
    "    var duplicates: Set<String> = []\n",
    "    for name in names {\n",
    "        if uniqueNames.contains(name) {\n",
    "            duplicates.insert(name)\n",
    "        }\n",
    "        uniqueNames.insert(name)\n",
    "    }\n",
    "    return uniqueNames\n",
    "}\n",
    "\n",
    "print(findUnique([\"pedro\", \"ana\", \"javier\", \"ana\", \"ana\", \"pablo\", \"pablo\"]))"
   ]
  },
  {
   "cell_type": "markdown",
   "metadata": {},
   "source": [
    "Ya está? No, porque se puede simplificar. Ya tenemos una versión que funciona, lo cual es importante, pero no necesitamos el `Set` donde vamos guardando los duplicados, así que lo quitamos."
   ]
  },
  {
   "cell_type": "markdown",
   "metadata": {},
   "source": [
    "**Versión 2**: eliminamos la variable `duplicates`, que ahora no nos hace falta."
   ]
  },
  {
   "cell_type": "code",
   "execution_count": 40,
   "metadata": {},
   "outputs": [
    {
     "name": "stdout",
     "output_type": "stream",
     "text": [
      "[\"ana\", \"pablo\", \"javier\", \"pedro\"]\r\n"
     ]
    }
   ],
   "source": [
    "func findUnique(_ names: [String]) -> Set<String> {\n",
    "    var uniqueNames: Set<String> = []\n",
    "    for name in names {\n",
    "        uniqueNames.insert(name)\n",
    "    }\n",
    "    return uniqueNames\n",
    "}\n",
    "\n",
    "print(findUnique([\"pedro\", \"ana\", \"javier\", \"ana\", \"ana\", \"pablo\", \"pablo\"]))"
   ]
  },
  {
   "cell_type": "markdown",
   "metadata": {},
   "source": [
    "Funciona igual pero con menos líneas de código, así que esta versión es mejor.\n",
    "\n",
    "Pero antes hemos visto que podemos hacer un `Set` directamente partiendo de un array, vamos a probarlo."
   ]
  },
  {
   "cell_type": "markdown",
   "metadata": {},
   "source": [
    "**Versión 3**: Creamos el `Set` directamente, sin iterar."
   ]
  },
  {
   "cell_type": "code",
   "execution_count": 41,
   "metadata": {},
   "outputs": [
    {
     "name": "stdout",
     "output_type": "stream",
     "text": [
      "[\"pedro\", \"javier\", \"pablo\", \"ana\"]\r\n"
     ]
    }
   ],
   "source": [
    "func findUnique(_ names: [String]) -> Set<String> {\n",
    "    var uniqueNames: Set<String> = Set(names)\n",
    "    return uniqueNames\n",
    "}\n",
    "\n",
    "print(findUnique([\"pedro\", \"ana\", \"javier\", \"ana\", \"ana\", \"pablo\", \"pablo\"]))"
   ]
  },
  {
   "cell_type": "markdown",
   "metadata": {},
   "source": [
    "Una última simplificación: como estamos creando la variable `uniqueNames` para devolverla justo en la línea siguiente, en este caso podemos hacerlo todo en la misma línea sin perder claridad:"
   ]
  },
  {
   "cell_type": "markdown",
   "metadata": {},
   "source": [
    "**Versión 4**: Una única linea de código."
   ]
  },
  {
   "cell_type": "code",
   "execution_count": 42,
   "metadata": {},
   "outputs": [
    {
     "name": "stdout",
     "output_type": "stream",
     "text": [
      "[\"pedro\", \"javier\", \"pablo\", \"ana\"]\r\n"
     ]
    }
   ],
   "source": [
    "func findUnique(_ names: [String]) -> Set<String> {\n",
    "    return Set(names)\n",
    "}\n",
    "\n",
    "print(findUnique([\"pedro\", \"ana\", \"javier\", \"ana\", \"ana\", \"pablo\", \"pablo\"]))"
   ]
  },
  {
   "cell_type": "markdown",
   "metadata": {},
   "source": [
    "Lo habitual en este tipo de funciones de _filtrado_ o _transformación_ es devolver el mismo tipo de dato que nos suministraron como entrada. En nuestro caso, partíamos de un `Array` pero estamos devolviendo un `Set`. Vamos a ajustarlo:"
   ]
  },
  {
   "cell_type": "markdown",
   "metadata": {},
   "source": [
    "**Versión 5**: Devolvemos el mismo tipo de dato que el argumento."
   ]
  },
  {
   "cell_type": "code",
   "execution_count": 43,
   "metadata": {},
   "outputs": [
    {
     "name": "stdout",
     "output_type": "stream",
     "text": [
      "[\"pedro\", \"javier\", \"pablo\", \"ana\"]\r\n"
     ]
    }
   ],
   "source": [
    "// Note: this version returns an Array instead of a Set\n",
    "func findUnique(_ names: [String]) -> [String] {\n",
    "    return Array(Set(names))\n",
    "}\n",
    "\n",
    "print(findUnique([\"pedro\", \"ana\", \"javier\", \"ana\", \"ana\", \"pablo\", \"pablo\"]))"
   ]
  },
  {
   "cell_type": "markdown",
   "metadata": {},
   "source": [
    "**Importante**: observa cómo _siempre_ hemos partido de una versión que funciona (hemos hecho un _test_ que lo verifica), y después de cada modificación probamos que nuestro test sigue funcionando.\n",
    "\n",
    "Este mecanismo podemos generalizarlo e incluso podemos pensar en crear el test **antes** del código. Elaborar el test nos ayuda a pensar cómo tiene que funcionar el código, y nos permite tener una prueba sobre la que poder ir trabajando y verificar qué casos funcionan y cuáles no.\n",
    "\n",
    "Este método de trabajo se conoce como **test-driven-development**."
   ]
  },
  {
   "cell_type": "markdown",
   "metadata": {},
   "source": [
    "**Ejercicio 2**\n",
    "\n",
    "Implementa un contador.\n",
    "\n",
    "Escribe una función que acepte como parámetro de entrada una lista de `String`s, y devuelva como salida un diccionario cuyas claves serán los elementos (únicos) de la lista, y cuyos valores serán el número de veces que se repiten en la lista.\n",
    "\n",
    "Escribe el código necesario para comprobar que funciona correctamente.\n",
    "\n",
    "Utiliza nombres sensatos para la función y las variables que utilices."
   ]
  },
  {
   "cell_type": "markdown",
   "metadata": {},
   "source": [
    "Empezamos con algo sencillo, aunque esté mal."
   ]
  },
  {
   "cell_type": "code",
   "execution_count": 44,
   "metadata": {},
   "outputs": [
    {
     "name": "stdout",
     "output_type": "stream",
     "text": [
      "[\"pablo\": 1, \"javier\": 1, \"pedro\": 1, \"ana\": 1]\r\n"
     ]
    }
   ],
   "source": [
    "func countNames(_ names: [String]) -> [String : Int] {\n",
    "    var counter = [String : Int]()   // Creamos un diccionario vacío para almacenar el resultado\n",
    "    for name in names {\n",
    "        counter[name] = 1            // Asignamos 1 al nombre\n",
    "    }\n",
    "    return counter\n",
    "}\n",
    "\n",
    "print(countNames([\"pedro\", \"ana\", \"javier\", \"ana\", \"ana\", \"pablo\", \"pablo\"]))"
   ]
  },
  {
   "cell_type": "markdown",
   "metadata": {},
   "source": [
    "Ok, ahora sólo tenemos que sumar uno al valor que hubiera antes, si había alguno. Vamos a intentarlo:"
   ]
  },
  {
   "cell_type": "code",
   "execution_count": 45,
   "metadata": {},
   "outputs": [
    {
     "ename": "",
     "evalue": "",
     "output_type": "error",
     "traceback": [
      "error: <Cell 45>:4:32: error: value of optional type 'Int?' must be unwrapped to a value of type 'Int'\n        counter[name] = counter[name] + 1\n                               ^\n\n<Cell 45>:4:32: note: coalesce using '??' to provide a default when the optional value contains 'nil'\n        counter[name] = counter[name] + 1\n                               ^\n                                      ?? <#default value#>\n\n<Cell 45>:4:32: note: force-unwrap using '!' to abort execution if the optional value contains 'nil'\n        counter[name] = counter[name] + 1\n                               ^\n                                     !\n\n"
     ]
    }
   ],
   "source": [
    "func countNames(_ names: [String]) -> [String : Int] {\n",
    "    var counter = [String : Int]()\n",
    "    for name in names {\n",
    "        counter[name] = counter[name] + 1\n",
    "    }\n",
    "    return counter\n",
    "}\n",
    "\n",
    "print(countNames([\"pedro\", \"ana\", \"javier\", \"ana\", \"ana\", \"pablo\", \"pablo\"]))"
   ]
  },
  {
   "cell_type": "markdown",
   "metadata": {},
   "source": [
    "No funciona.\n",
    "\n",
    "El problema, esencialmente, es que `counter[name]` **no tiene el valor 0** si la clave no se encuentra. El valor no está definido, o es `nil`.\n",
    "\n",
    "Vamos a verlo con un ejemplo:"
   ]
  },
  {
   "cell_type": "code",
   "execution_count": 46,
   "metadata": {},
   "outputs": [],
   "source": [
    "var testDictionary = [\"Peter\" :  1]"
   ]
  },
  {
   "cell_type": "code",
   "execution_count": 47,
   "metadata": {},
   "outputs": [
    {
     "name": "stdout",
     "output_type": "stream",
     "text": [
      "nil\r\n"
     ]
    }
   ],
   "source": [
    "print(testDictionary[\"Paul\"])"
   ]
  },
  {
   "cell_type": "markdown",
   "metadata": {},
   "source": [
    "Es `nil`, lo que indica que no tiene ningún valor asignado."
   ]
  },
  {
   "cell_type": "code",
   "execution_count": 48,
   "metadata": {},
   "outputs": [
    {
     "name": "stdout",
     "output_type": "stream",
     "text": [
      "Optional(1)\r\n"
     ]
    }
   ],
   "source": [
    "print(testDictionary[\"Peter\"])"
   ]
  },
  {
   "cell_type": "markdown",
   "metadata": {},
   "source": [
    "¿Qué es **`Optional`**?\n",
    "\n",
    "Se trata de un tipo especial que indica que el elemento en cuestión puede tener un valor asignado, o puede ser `nil`. Cuando accedemos a las claves de un diccionario el diccionario **no** nos entrega el valor, sino un `Optional` que a su vez contiene el valor. Esto es porque las claves por las que preguntamos pueden estar o no en el diccionario, y eso no se sabe a priori.\n",
    "\n",
    "En otros lenguajes, si accedemos a datos no inicializados, o nulos, el programa generalmente muere. En Swift se evita esta situación obligando al programador a especificar qué datos pueden o no ser `nil`."
   ]
  },
  {
   "cell_type": "markdown",
   "metadata": {},
   "source": [
    "¿Cómo se accede entonces al contenido que está dentro del `Optional`, cuando éste no es `nil`?"
   ]
  },
  {
   "cell_type": "code",
   "execution_count": 49,
   "metadata": {},
   "outputs": [],
   "source": [
    "let peter = testDictionary[\"Peter\"]"
   ]
  },
  {
   "cell_type": "code",
   "execution_count": 50,
   "metadata": {},
   "outputs": [
    {
     "ename": "",
     "evalue": "",
     "output_type": "error",
     "traceback": [
      "error: <Cell 50>:1:7: error: value of optional type 'Int?' must be unwrapped to a value of type 'Int'\nprint(peter + 1)\n      ^\n\n<Cell 50>:1:7: note: coalesce using '??' to provide a default when the optional value contains 'nil'\nprint(peter + 1)\n      ^\n            ?? <#default value#>\n\n<Cell 50>:1:7: note: force-unwrap using '!' to abort execution if the optional value contains 'nil'\nprint(peter + 1)\n      ^\n           !\n\n"
     ]
    }
   ],
   "source": [
    "print(peter + 1)"
   ]
  },
  {
   "cell_type": "code",
   "execution_count": 51,
   "metadata": {},
   "outputs": [
    {
     "name": "stdout",
     "output_type": "stream",
     "text": [
      "Optional<Int>\r\n"
     ]
    }
   ],
   "source": [
    "print(type(of: peter))"
   ]
  },
  {
   "cell_type": "markdown",
   "metadata": {},
   "source": [
    "**Ojo**: la variable no es un `Int`, sino un `Optional` que puede (o no) contener un `Int`."
   ]
  },
  {
   "cell_type": "markdown",
   "metadata": {},
   "source": [
    "Si estamos seguros de que la variable necesariamente contiene un dato, podemos \"desempaquetar\" el valor utilizando **`!`**, como nos indica el mensaje de error de la celda anterior:"
   ]
  },
  {
   "cell_type": "code",
   "execution_count": 52,
   "metadata": {},
   "outputs": [
    {
     "name": "stdout",
     "output_type": "stream",
     "text": [
      "2\r\n"
     ]
    }
   ],
   "source": [
    "print(peter! + 1)"
   ]
  },
  {
   "cell_type": "markdown",
   "metadata": {},
   "source": [
    "Con el sufijo **`!`** indicamos que sabemos que ese elemento necesariamente contiene un valor y forzamos su extracción.\n",
    "\n",
    "Sin embargo, si nos equivocamos y el valor es `nil`, nuestro programa **morirá**."
   ]
  },
  {
   "cell_type": "code",
   "execution_count": 53,
   "metadata": {},
   "outputs": [],
   "source": [
    "let y = testDictionary[\"dato_que_no_existe\"]"
   ]
  },
  {
   "cell_type": "code",
   "execution_count": 54,
   "metadata": {},
   "outputs": [
    {
     "name": "stdout",
     "output_type": "stream",
     "text": [
      "Fatal error: Unexpectedly found nil while unwrapping an Optional value: file __lldb_expr_318/<Cell 54>, line 1\r\n",
      "Current stack trace:\r\n",
      "0    libswiftCore.so                    0x00007f49139f8f40 swift_reportError + 50\r\n",
      "1    libswiftCore.so                    0x00007f4913a64f30 _swift_stdlib_reportFatalErrorInFile + 115\r\n",
      "2    libswiftCore.so                    0x00007f49136ceaa8 <unavailable> + 1620648\r\n",
      "3    libswiftCore.so                    0x00007f49136ce5a6 <unavailable> + 1619366\r\n",
      "4    libswiftCore.so                    0x00007f49136ce211 <unavailable> + 1618449\r\n",
      "5    libswiftCore.so                    0x00007f49136cdc20 _assertionFailure(_:_:file:line:flags:) + 525\r\n"
     ]
    },
    {
     "ename": "",
     "evalue": "",
     "output_type": "error",
     "traceback": [
      "Current stack trace:",
      "\tframe #4: \u001b[33m0x00007f4911181eb2\u001b[0m $__lldb_expr319`main at \u001b[36m<Cell 54>\u001b[0m:\u001b[33m0\u001b[0m"
     ]
    }
   ],
   "source": [
    "print(y! + 1)"
   ]
  },
  {
   "cell_type": "markdown",
   "metadata": {},
   "source": [
    "Por tanto, se **desaconseja encarecidamente el uso de `!`** a menos que sea absolutamente imprescindible. En seguida veremos otras formas seguras de utilizar `Optional`s."
   ]
  },
  {
   "cell_type": "markdown",
   "metadata": {},
   "source": [
    "Pero antes, usemos este conocimiento para terminar el ejercicio."
   ]
  },
  {
   "cell_type": "code",
   "execution_count": 55,
   "metadata": {},
   "outputs": [
    {
     "name": "stdout",
     "output_type": "stream",
     "text": [
      "[\"pablo\": 2, \"javier\": 1, \"pedro\": 1, \"ana\": 3]\r\n"
     ]
    }
   ],
   "source": [
    "func countNames(_ names: [String]) -> [String : Int] {\n",
    "    var counter = [String : Int]()\n",
    "    for name in names {\n",
    "        let currentCount = counter[name]\n",
    "        if currentCount == nil {\n",
    "            counter[name] = 1\n",
    "        } else {\n",
    "            counter[name] = currentCount! + 1\n",
    "        }\n",
    "    }\n",
    "    return counter\n",
    "}\n",
    "\n",
    "print(countNames([\"pedro\", \"ana\", \"javier\", \"ana\", \"ana\", \"pablo\", \"pablo\"]))"
   ]
  },
  {
   "cell_type": "markdown",
   "metadata": {},
   "source": [
    "Posteriormente veremos la forma de eliminar esa **`!`** del código y que además quede más claro."
   ]
  },
  {
   "cell_type": "markdown",
   "metadata": {},
   "source": [
    "## `Optional`"
   ]
  },
  {
   "cell_type": "markdown",
   "metadata": {},
   "source": [
    "Ya hemos visto en el ejemplo anterior los fundamentos de `Optional`: se trata de un _tipo_ especial que a su vez contiene _otro tipo_ base. Los valores del tipo `Optional` pueden considerarse una \"caja\" que, o bien contiene un valor del tipo base, o bien es `nil`."
   ]
  },
  {
   "cell_type": "markdown",
   "metadata": {},
   "source": [
    "También hemos visto antes que el resultado de consultar en un diccionario el valor de una clave, es un `Optional` sobre el tipo del valor."
   ]
  },
  {
   "cell_type": "code",
   "execution_count": 56,
   "metadata": {},
   "outputs": [
    {
     "name": "stdout",
     "output_type": "stream",
     "text": [
      "Optional<String>\r\n"
     ]
    }
   ],
   "source": [
    "let ipURJC = dns[\"www.urjc.es\"]\n",
    "print(type(of: ipURJC))"
   ]
  },
  {
   "cell_type": "markdown",
   "metadata": {},
   "source": [
    "Nosotros podemos declarar también `Optional`s en nuestro código utilizando el mismo sistema:"
   ]
  },
  {
   "cell_type": "code",
   "execution_count": 57,
   "metadata": {},
   "outputs": [],
   "source": [
    "var name: Optional<String> = nil\n",
    "var age: Optional<Int> = 25"
   ]
  },
  {
   "cell_type": "markdown",
   "metadata": {},
   "source": [
    "Pero es mucho más frecuente, y claro, utilizando el sufijo **`?`**"
   ]
  },
  {
   "cell_type": "code",
   "execution_count": 58,
   "metadata": {},
   "outputs": [],
   "source": [
    "var name: String? = nil\n",
    "var age: Int? = 25"
   ]
  },
  {
   "cell_type": "markdown",
   "metadata": {},
   "source": [
    "La interrogación es un \"recordatorio\" de que la variable puede que contenga el valor, o puede que no."
   ]
  },
  {
   "cell_type": "markdown",
   "metadata": {},
   "source": [
    "Durante el curso usaremos casi siempre esta segunda versión."
   ]
  },
  {
   "cell_type": "markdown",
   "metadata": {},
   "source": [
    "### Trabajando con `Optional`s: `if let`"
   ]
  },
  {
   "cell_type": "markdown",
   "metadata": {},
   "source": [
    "Para comprobar si un `Optional` tiene contenido, podemos comparar con `nil`, y si el valor no es `nil` entonces podemos utilizar la `!` para acceder al contenido:"
   ]
  },
  {
   "cell_type": "code",
   "execution_count": 59,
   "metadata": {},
   "outputs": [
    {
     "name": "stdout",
     "output_type": "stream",
     "text": [
      "Edad: 25\r\n"
     ]
    }
   ],
   "source": [
    "if age != nil {\n",
    "    print(\"Edad: \\(age!)\")\n",
    "} else {\n",
    "    print(\"Edad desconocida\")\n",
    "}"
   ]
  },
  {
   "cell_type": "markdown",
   "metadata": {},
   "source": [
    "En este código tenemos el problema de que hay que seguir usando `!`, lo que es peligroso. Pensad qué ocurre si por el motivo que sea cambiamos la condición del `if` en el futuro, pero no caemos en eliminar las `!`. Además es engorroso, imaginad que dentro del `if` hubiera más líneas que usan esa variable.\n",
    "\n",
    "Además, este patrón (comprobar si es `nil`, y acceder al dato si no lo es) es muy frecuente, por lo que Swift tiene un mecanismo específico para contemplarlo:"
   ]
  },
  {
   "cell_type": "code",
   "execution_count": 60,
   "metadata": {},
   "outputs": [
    {
     "name": "stdout",
     "output_type": "stream",
     "text": [
      "Edad: 25\r\n"
     ]
    }
   ],
   "source": [
    "if let valorEdad = age {\n",
    "    print(\"Edad: \\(valorEdad)\")\n",
    "} else {\n",
    "    print(\"Edad desconocida\")\n",
    "}"
   ]
  },
  {
   "cell_type": "markdown",
   "metadata": {},
   "source": [
    "Se trata de un `if` especial que sirve para \"desempaquetar\" el valor que contiene un `Optional`, siempre que no sea `nil`. La variable asignada ya no es un opcional; en este caso sería un `Int`, y sólo se asigna si `age` no es `nil`.\n",
    "\n",
    "Esta construcción es especial, sólo puede hacerse con `if let` (~~`if var`~~ no existe)."
   ]
  },
  {
   "cell_type": "code",
   "execution_count": 61,
   "metadata": {},
   "outputs": [
    {
     "name": "stdout",
     "output_type": "stream",
     "text": [
      "age es de tipo Optional<Int>\r\n",
      "El valor desempaquetado es de tipo: Int\r\n"
     ]
    }
   ],
   "source": [
    "print(\"age es de tipo \\(type(of: age))\")\n",
    "if let valorEdad = age {\n",
    "    print(\"El valor desempaquetado es de tipo: \\(type(of: valorEdad))\")\n",
    "}"
   ]
  },
  {
   "cell_type": "markdown",
   "metadata": {},
   "source": [
    "Además, la variable donde desempaquetamos el opcional **sólo existe en el contexto del `if let`**, no tiene validez fuera de ese trozo de código.\n",
    "\n",
    "Esto permite utilizar expresiones como la siguiente:"
   ]
  },
  {
   "cell_type": "code",
   "execution_count": 62,
   "metadata": {},
   "outputs": [
    {
     "name": "stdout",
     "output_type": "stream",
     "text": [
      "Edad: 25\r\n"
     ]
    }
   ],
   "source": [
    "if let age = age {\n",
    "    print(\"Edad: \\(age)\")\n",
    "} else {\n",
    "    print(\"Edad desconocida\")\n",
    "}"
   ]
  },
  {
   "cell_type": "code",
   "execution_count": 63,
   "metadata": {},
   "outputs": [
    {
     "name": "stdout",
     "output_type": "stream",
     "text": [
      "Optional(25)\r\n"
     ]
    }
   ],
   "source": [
    "print(age)"
   ]
  },
  {
   "cell_type": "markdown",
   "metadata": {},
   "source": [
    "El `age` que se utiliza dentro de `if let` es una variable diferente a la de fuera, lo que nos permite utilizar el mismo nombre."
   ]
  },
  {
   "cell_type": "markdown",
   "metadata": {},
   "source": [
    "### Uso de `??`"
   ]
  },
  {
   "cell_type": "markdown",
   "metadata": {},
   "source": [
    "Este operador es muy útil para trabajar con `Optional`s. Nos permite sustituir el optional por un valor por defecto en caso de que la variable sea `nil`. Si no fuera `nil`, se utilizaría su valor desempaquetado.\n",
    "\n",
    "Veámoslo con un ejemplo."
   ]
  },
  {
   "cell_type": "code",
   "execution_count": 64,
   "metadata": {},
   "outputs": [],
   "source": [
    "var name: Optional<String> = nil\n",
    "var age: Optional<Int> = 25"
   ]
  },
  {
   "cell_type": "code",
   "execution_count": 65,
   "metadata": {},
   "outputs": [
    {
     "name": "stdout",
     "output_type": "stream",
     "text": [
      "Desconocido\r\n"
     ]
    }
   ],
   "source": [
    "print(name ?? \"Desconocido\")"
   ]
  },
  {
   "cell_type": "code",
   "execution_count": 66,
   "metadata": {},
   "outputs": [
    {
     "name": "stdout",
     "output_type": "stream",
     "text": [
      "Pedro\r\n"
     ]
    }
   ],
   "source": [
    "name = \"Pedro\"\n",
    "print(name ?? \"Desconocido\")"
   ]
  },
  {
   "cell_type": "code",
   "execution_count": 67,
   "metadata": {},
   "outputs": [
    {
     "name": "stdout",
     "output_type": "stream",
     "text": [
      "25\r\n"
     ]
    }
   ],
   "source": [
    "print(age ?? 0)"
   ]
  },
  {
   "cell_type": "markdown",
   "metadata": {},
   "source": [
    "-----"
   ]
  },
  {
   "cell_type": "markdown",
   "metadata": {},
   "source": [
    "Con estos conocimientos podemos mejorar nuestra implementación del ejercicio 2. Esta era la versión que teníamos:"
   ]
  },
  {
   "cell_type": "code",
   "execution_count": 68,
   "metadata": {},
   "outputs": [
    {
     "name": "stdout",
     "output_type": "stream",
     "text": [
      "[\"pablo\": 2, \"javier\": 1, \"pedro\": 1, \"ana\": 3]\r\n"
     ]
    }
   ],
   "source": [
    "func countNames(_ names: [String]) -> [String : Int] {\n",
    "    var counter = [String : Int]()\n",
    "    for name in names {\n",
    "        let currentCount = counter[name]\n",
    "        if currentCount == nil {\n",
    "            counter[name] = 1\n",
    "        } else {\n",
    "            counter[name] = currentCount! + 1\n",
    "        }\n",
    "    }\n",
    "    return counter\n",
    "}\n",
    "\n",
    "print(countNames([\"pedro\", \"ana\", \"javier\", \"ana\", \"ana\", \"pablo\", \"pablo\"]))"
   ]
  },
  {
   "cell_type": "markdown",
   "metadata": {},
   "source": [
    "**Versión 2**: usamos `if let`:"
   ]
  },
  {
   "cell_type": "code",
   "execution_count": 69,
   "metadata": {},
   "outputs": [
    {
     "name": "stdout",
     "output_type": "stream",
     "text": [
      "[\"pablo\": 2, \"javier\": 1, \"pedro\": 1, \"ana\": 3]\r\n"
     ]
    }
   ],
   "source": [
    "func countNames(_ names: [String]) -> [String : Int] {\n",
    "    var counter = [String : Int]()\n",
    "    for name in names {\n",
    "        if let currentCount = counter[name] {\n",
    "            counter[name] = currentCount + 1\n",
    "        } else {\n",
    "            counter[name] = 1\n",
    "        }\n",
    "    }\n",
    "    return counter\n",
    "}\n",
    "\n",
    "print(countNames([\"pedro\", \"ana\", \"javier\", \"ana\", \"ana\", \"pablo\", \"pablo\"]))"
   ]
  },
  {
   "cell_type": "markdown",
   "metadata": {},
   "source": [
    "**Versión 3**: usamos `??`:"
   ]
  },
  {
   "cell_type": "code",
   "execution_count": 70,
   "metadata": {},
   "outputs": [
    {
     "name": "stdout",
     "output_type": "stream",
     "text": [
      "[\"pablo\": 2, \"javier\": 1, \"pedro\": 1, \"ana\": 3]\r\n"
     ]
    }
   ],
   "source": [
    "func countNames(_ names: [String]) -> [String : Int] {\n",
    "    var counter = [String : Int]()\n",
    "    for name in names {\n",
    "        counter[name] = (counter[name] ?? 0) + 1\n",
    "    }\n",
    "    return counter\n",
    "}\n",
    "\n",
    "print(countNames([\"pedro\", \"ana\", \"javier\", \"ana\", \"ana\", \"pablo\", \"pablo\"]))"
   ]
  },
  {
   "cell_type": "markdown",
   "metadata": {},
   "source": [
    "**Alternativa (Rebeca)**: usamos una versión especial de la función de acceso a la clave en la que indicamos un valor por defecto, que se utiliza en caso de que la clave no exista:"
   ]
  },
  {
   "cell_type": "code",
   "execution_count": 71,
   "metadata": {},
   "outputs": [],
   "source": [
    "func countNames_rebeca(_ names: [String]) -> [String : Int] {\n",
    "    var counter = [String : Int]()\n",
    "    for name in names {\n",
    "        counter[name, default: 0] += 1\n",
    "    }\n",
    "    return counter\n",
    "\n",
    "}"
   ]
  },
  {
   "cell_type": "code",
   "execution_count": 72,
   "metadata": {},
   "outputs": [
    {
     "name": "stdout",
     "output_type": "stream",
     "text": [
      "[\"pablo\": 2, \"javier\": 1, \"pedro\": 1, \"ana\": 3]\r\n"
     ]
    }
   ],
   "source": [
    "print(countNames_rebeca([\"pedro\", \"ana\", \"javier\", \"ana\", \"ana\", \"pablo\", \"pablo\"]))"
   ]
  },
  {
   "cell_type": "code",
   "execution_count": null,
   "metadata": {},
   "outputs": [],
   "source": []
  },
  {
   "cell_type": "markdown",
   "metadata": {},
   "source": [
    "-----"
   ]
  },
  {
   "cell_type": "markdown",
   "metadata": {},
   "source": [
    "## Control de flujo, bucles, rangos"
   ]
  },
  {
   "cell_type": "markdown",
   "metadata": {},
   "source": [
    "### `if`, `for ... in`"
   ]
  },
  {
   "cell_type": "markdown",
   "metadata": {},
   "source": [
    "Ya los hemos visto en ejemplos anteriores."
   ]
  },
  {
   "cell_type": "markdown",
   "metadata": {},
   "source": [
    "### `while`"
   ]
  },
  {
   "cell_type": "code",
   "execution_count": 73,
   "metadata": {},
   "outputs": [
    {
     "name": "stdout",
     "output_type": "stream",
     "text": [
      "El cuadrado de 1 es 1\r\n",
      "El cuadrado de 2 es 4\r\n",
      "El cuadrado de 3 es 9\r\n",
      "El cuadrado de 4 es 16\r\n",
      "El cuadrado de 5 es 25\r\n",
      "El cuadrado de 6 es 36\r\n",
      "El cuadrado de 7 es 49\r\n",
      "El cuadrado de 8 es 64\r\n",
      "El cuadrado de 9 es 81\r\n"
     ]
    }
   ],
   "source": [
    "var n = 1\n",
    "while n < 10 {\n",
    "    print(\"El cuadrado de \\(n) es \\(n * n)\")\n",
    "    n = n + 1\n",
    "}"
   ]
  },
  {
   "cell_type": "markdown",
   "metadata": {},
   "source": [
    "### `repeat ... while`"
   ]
  },
  {
   "cell_type": "markdown",
   "metadata": {},
   "source": [
    "Muy parecido al anterior, pero siempre se ejecuta al menos una vez, pues la condición se comprueba al final."
   ]
  },
  {
   "cell_type": "code",
   "execution_count": 74,
   "metadata": {},
   "outputs": [
    {
     "name": "stdout",
     "output_type": "stream",
     "text": [
      "El cuadrado de 1 es 1\r\n",
      "El cuadrado de 2 es 4\r\n",
      "El cuadrado de 3 es 9\r\n",
      "El cuadrado de 4 es 16\r\n",
      "El cuadrado de 5 es 25\r\n",
      "El cuadrado de 6 es 36\r\n",
      "El cuadrado de 7 es 49\r\n",
      "El cuadrado de 8 es 64\r\n",
      "El cuadrado de 9 es 81\r\n"
     ]
    }
   ],
   "source": [
    "var n = 1\n",
    "repeat {\n",
    "    print(\"El cuadrado de \\(n) es \\(n * n)\")\n",
    "    n = n + 1\n",
    "} while n < 10"
   ]
  },
  {
   "cell_type": "markdown",
   "metadata": {},
   "source": [
    "### Rangos"
   ]
  },
  {
   "cell_type": "markdown",
   "metadata": {},
   "source": [
    "Para este tipo de bucles, en Swift es muy frecuente utilizar **rangos**:"
   ]
  },
  {
   "cell_type": "code",
   "execution_count": 75,
   "metadata": {},
   "outputs": [
    {
     "name": "stdout",
     "output_type": "stream",
     "text": [
      "El cuadrado de 1 es 1\r\n",
      "El cuadrado de 2 es 4\r\n",
      "El cuadrado de 3 es 9\r\n",
      "El cuadrado de 4 es 16\r\n",
      "El cuadrado de 5 es 25\r\n",
      "El cuadrado de 6 es 36\r\n",
      "El cuadrado de 7 es 49\r\n",
      "El cuadrado de 8 es 64\r\n",
      "El cuadrado de 9 es 81\r\n"
     ]
    }
   ],
   "source": [
    "for n in 1..<10 {\n",
    "    print(\"El cuadrado de \\(n) es \\(n * n)\")\n",
    "}"
   ]
  },
  {
   "cell_type": "markdown",
   "metadata": {},
   "source": [
    "Obsérvese que el código es mucho más conciso, y mucho más claro. No necesitamos actualizar la variable de iteración `n`."
   ]
  },
  {
   "cell_type": "markdown",
   "metadata": {},
   "source": [
    "Los rangos definidos con `..<` no incluyen el último elemento. Si los definimos con `...`, entonces el último elemento sí estaria incluido:"
   ]
  },
  {
   "cell_type": "code",
   "execution_count": 76,
   "metadata": {},
   "outputs": [
    {
     "name": "stdout",
     "output_type": "stream",
     "text": [
      "El cuadrado de 1 es 1\r\n",
      "El cuadrado de 2 es 4\r\n",
      "El cuadrado de 3 es 9\r\n",
      "El cuadrado de 4 es 16\r\n",
      "El cuadrado de 5 es 25\r\n",
      "El cuadrado de 6 es 36\r\n",
      "El cuadrado de 7 es 49\r\n",
      "El cuadrado de 8 es 64\r\n",
      "El cuadrado de 9 es 81\r\n",
      "El cuadrado de 10 es 100\r\n"
     ]
    }
   ],
   "source": [
    "for n in 1...10 {\n",
    "    print(\"El cuadrado de \\(n) es \\(n * n)\")\n",
    "}"
   ]
  },
  {
   "cell_type": "markdown",
   "metadata": {},
   "source": [
    "Los rangos **también son tipos**, por lo que pueden asignarse a variables y enviarse como argumentos a funciones. Pueden, incluso, ser rangos **parciales**, que no están definidos por uno de los extremos. Los siguientes ejemplos definen rangos parciales que, además, son _infinitos_:"
   ]
  },
  {
   "cell_type": "code",
   "execution_count": 77,
   "metadata": {},
   "outputs": [],
   "source": [
    "let positives = 1...\n",
    "let naturals = 0..."
   ]
  },
  {
   "cell_type": "markdown",
   "metadata": {},
   "source": [
    "No tiene mucho sentido iterar sobre rangos infinitos, pero podemos consultar si un elemento está comprendido dentro del rango que nos interesa:"
   ]
  },
  {
   "cell_type": "code",
   "execution_count": 78,
   "metadata": {},
   "outputs": [
    {
     "name": "stdout",
     "output_type": "stream",
     "text": [
      "false\r\n",
      "true\r\n"
     ]
    }
   ],
   "source": [
    "print(positives.contains(0))\n",
    "print(naturals.contains(0))"
   ]
  },
  {
   "cell_type": "markdown",
   "metadata": {},
   "source": [
    "El operador `~=` es equivalente a la función `contains()`."
   ]
  },
  {
   "cell_type": "code",
   "execution_count": 79,
   "metadata": {},
   "outputs": [
    {
     "name": "stdout",
     "output_type": "stream",
     "text": [
      "false\r\n",
      "true\r\n"
     ]
    }
   ],
   "source": [
    "print(positives ~= 0)\n",
    "print(naturals ~= 0)"
   ]
  },
  {
   "cell_type": "markdown",
   "metadata": {},
   "source": [
    "Los rangos pueden utilizarse como **índices de arrays**. Si el rango tiene más elemento, seleccionamos un subconjunto del array, lo que se suele conocer como _slice_ (rodaja)."
   ]
  },
  {
   "cell_type": "code",
   "execution_count": 80,
   "metadata": {},
   "outputs": [],
   "source": [
    "let someNames = [\"pedro\", \"ana\", \"javier\", \"pablo\"]"
   ]
  },
  {
   "cell_type": "code",
   "execution_count": 81,
   "metadata": {},
   "outputs": [
    {
     "name": "stdout",
     "output_type": "stream",
     "text": [
      "pedro\r\n"
     ]
    }
   ],
   "source": [
    "print(someNames[0])  // Indice"
   ]
  },
  {
   "cell_type": "code",
   "execution_count": 82,
   "metadata": {},
   "outputs": [
    {
     "name": "stdout",
     "output_type": "stream",
     "text": [
      "[\"pedro\", \"ana\"]\r\n"
     ]
    }
   ],
   "source": [
    "print(someNames[0...1])   // Rango: del 0 al 1 inclusive"
   ]
  },
  {
   "cell_type": "code",
   "execution_count": 83,
   "metadata": {},
   "outputs": [
    {
     "name": "stdout",
     "output_type": "stream",
     "text": [
      "[\"ana\", \"javier\", \"pablo\"]\r\n"
     ]
    }
   ],
   "source": [
    "print(someNames[1...])    // Rango parcial: desde el 1 hasta el final, inclusive"
   ]
  },
  {
   "cell_type": "code",
   "execution_count": 84,
   "metadata": {},
   "outputs": [
    {
     "name": "stdout",
     "output_type": "stream",
     "text": [
      "[\"pedro\", \"ana\"]\r\n"
     ]
    }
   ],
   "source": [
    "print(someNames[..<2])    // Rango parcial: los dos primeros"
   ]
  },
  {
   "cell_type": "markdown",
   "metadata": {},
   "source": [
    "-----"
   ]
  },
  {
   "cell_type": "markdown",
   "metadata": {},
   "source": [
    "## Filtros y transformaciones funcionales"
   ]
  },
  {
   "cell_type": "markdown",
   "metadata": {},
   "source": [
    "En lugar de utilizar bucles, muchas veces podemos aplicar funciones de transformación para actuar sobre los elementos de una colección. Estas funciones aceptan como argumento otras funciones, que son las que aplicamos a cada elemento de la colección.\n",
    "\n",
    "El código que se genera es muy conciso y, además, muy eficiente.\n",
    "\n",
    "Veámoslo con ejemplos."
   ]
  },
  {
   "cell_type": "markdown",
   "metadata": {},
   "source": [
    "### `map`"
   ]
  },
  {
   "cell_type": "markdown",
   "metadata": {},
   "source": [
    "Versión iterativa:"
   ]
  },
  {
   "cell_type": "code",
   "execution_count": 85,
   "metadata": {},
   "outputs": [
    {
     "name": "stdout",
     "output_type": "stream",
     "text": [
      "[1, 4, 9, 16, 25, 36, 49, 64, 81, 100]\r\n"
     ]
    }
   ],
   "source": [
    "// Obtiene los cuadrados de los 10 primeros números naturales\n",
    "var squares: [Int] = []\n",
    "for n in 1...10 {\n",
    "    squares.append(n * n)\n",
    "}\n",
    "\n",
    "print(squares)"
   ]
  },
  {
   "cell_type": "markdown",
   "metadata": {},
   "source": [
    "Versión funcional:"
   ]
  },
  {
   "cell_type": "code",
   "execution_count": 86,
   "metadata": {},
   "outputs": [
    {
     "name": "stdout",
     "output_type": "stream",
     "text": [
      "[1, 4, 9, 16, 25, 36, 49, 64, 81, 100]\r\n"
     ]
    }
   ],
   "source": [
    "let squares = (1...10).map { $0 * $0 }\n",
    "print(squares)"
   ]
  },
  {
   "cell_type": "markdown",
   "metadata": {},
   "source": [
    "**`map`** es una _función_ que recibe como argumento _otra función_, que aplica a cada uno de los elementos de la secuencia, y devuelve un `Array` con el resultado. Es decir `map` transforma de manera arbitraria los elementos con la función que le proporcionamos."
   ]
  },
  {
   "cell_type": "markdown",
   "metadata": {},
   "source": [
    "Si proporcionamos la función sobre la marcha, lo hacemos con llaves como en este ejemplo. Pero también podemos poner el nombre de cualquier función existente. Por ejemplo, si quisiéramos obtener el valor absoluto de los elementos de un array podríamos hacer:"
   ]
  },
  {
   "cell_type": "code",
   "execution_count": 87,
   "metadata": {},
   "outputs": [
    {
     "name": "stdout",
     "output_type": "stream",
     "text": [
      "[5, 3, 2, 0, 9, 7, 1]\r\n"
     ]
    }
   ],
   "source": [
    "let absoluteValues = [-5, 3, -2, 0, 9, -7, 1].map(abs)\n",
    "print(absoluteValues)"
   ]
  },
  {
   "cell_type": "markdown",
   "metadata": {},
   "source": [
    "En el primer caso, cuando hemos escrito el código de la función sobre la marcha, ¿por qué no la hemos puesto entre paréntesis, ya que es un argumento? Es un atajo para simplificar la sintaxis, pero podemos hacerlo:"
   ]
  },
  {
   "cell_type": "code",
   "execution_count": 88,
   "metadata": {},
   "outputs": [
    {
     "name": "stdout",
     "output_type": "stream",
     "text": [
      "[1, 4, 9, 16, 25, 36, 49, 64, 81, 100]\r\n"
     ]
    }
   ],
   "source": [
    "let squares = (1...10).map({ $0 * $0 })\n",
    "print(squares)"
   ]
  },
  {
   "cell_type": "markdown",
   "metadata": {},
   "source": [
    "Este atajo sólo podemos aplicarlo si la función o _closure_ es el último argumento de la invocación."
   ]
  },
  {
   "cell_type": "markdown",
   "metadata": {},
   "source": [
    "Del mismo modo, `$0` es un atajo para referirnos al primer argumento del _closure_; si hubiera más se podría utilizar `$1`, etc.\n",
    "\n",
    "Si queremos utilizar un nombre concreto en lugar del número, se hace de la siguiente manera:"
   ]
  },
  {
   "cell_type": "code",
   "execution_count": 89,
   "metadata": {},
   "outputs": [
    {
     "name": "stdout",
     "output_type": "stream",
     "text": [
      "[1, 4, 9, 16, 25, 36, 49, 64, 81, 100]\r\n"
     ]
    }
   ],
   "source": [
    "let squares = (1...10).map { number in number * number }\n",
    "print(squares)"
   ]
  },
  {
   "cell_type": "markdown",
   "metadata": {},
   "source": [
    "Obsérvese también que la función que hemos utilizado no devuelve nada, no usa `return`. Esto es también otro atajo para simplificar el código. La versión completa sin ningún atajo sería:"
   ]
  },
  {
   "cell_type": "code",
   "execution_count": 90,
   "metadata": {},
   "outputs": [
    {
     "name": "stdout",
     "output_type": "stream",
     "text": [
      "[1, 4, 9, 16, 25, 36, 49, 64, 81, 100]\r\n"
     ]
    }
   ],
   "source": [
    "let squares = (1...10).map({ number in\n",
    "    return number * number\n",
    "})\n",
    "print(squares)"
   ]
  },
  {
   "cell_type": "markdown",
   "metadata": {},
   "source": [
    "Esta es la versión real que usa el compilador, pero es mucho más fácil y conveniente utilizar la versión abreviada, que repetimos de nuevo:"
   ]
  },
  {
   "cell_type": "code",
   "execution_count": 91,
   "metadata": {},
   "outputs": [
    {
     "name": "stdout",
     "output_type": "stream",
     "text": [
      "[1, 4, 9, 16, 25, 36, 49, 64, 81, 100]\r\n"
     ]
    }
   ],
   "source": [
    "let squares = (1...10).map({ $0 * $0 })\n",
    "print(squares)"
   ]
  },
  {
   "cell_type": "markdown",
   "metadata": {},
   "source": [
    "`map` y el resto de funciones de este apartado pueden utilizarse sobre Arrays, rangos y otras _secuencias_."
   ]
  },
  {
   "cell_type": "markdown",
   "metadata": {},
   "source": [
    "**Ejercicio 3**\n",
    "\n",
    "`count` es una propiedad de `String` que devuelve el número de caracteres de la cadena. Por ejemplo, `\"hola\".count` devolvería el valor 4.\n",
    "\n",
    "Escribe una función que, dado un array de cadenas, devuelva otro array de enteros con las longitudes de esas cadenas. Es decir, dada la entrada `[\"pedro\", \"pablo\", \"javier\"]`, devolvería el array `[5, 5, 6]`.\n",
    "\n",
    "Intenta resolver el problema con una aproximación funcional.\n",
    "\n",
    "Como siempre, utiliza nombres sensatos y descriptivos para la función y para todas las variables que utilices."
   ]
  },
  {
   "cell_type": "code",
   "execution_count": 92,
   "metadata": {},
   "outputs": [
    {
     "name": "stdout",
     "output_type": "stream",
     "text": [
      "[5, 5, 6]\r\n"
     ]
    }
   ],
   "source": [
    "func stringCounts(_ strings: [String]) -> [Int] {\n",
    "    return strings.map { $0.count }\n",
    "}\n",
    "\n",
    "print(stringCounts([\"pedro\", \"pablo\", \"javier\"]))"
   ]
  },
  {
   "cell_type": "markdown",
   "metadata": {},
   "source": [
    "### `filter`"
   ]
  },
  {
   "cell_type": "markdown",
   "metadata": {},
   "source": [
    "La función `filter` _filtra_ o selecciona los elementos de una secuencia que cumplen una condición. Para ello, hay que pasarle como argumento una función que devuelve `true` si el elemento debe incluirse en el resultado, o `false` en caso contrario."
   ]
  },
  {
   "cell_type": "markdown",
   "metadata": {},
   "source": [
    "Ejemplo: seleccionamos de una secuencia los números pares. El operador `%` calcula el módulo (~resto) de la división entera: el número es par si el resto de dividir entre `2` es `0`."
   ]
  },
  {
   "cell_type": "code",
   "execution_count": 93,
   "metadata": {},
   "outputs": [
    {
     "name": "stdout",
     "output_type": "stream",
     "text": [
      "[0, 2, 4, 6, 8, 10]\r\n"
     ]
    }
   ],
   "source": [
    "print((0...10).filter { $0 % 2 == 0 })"
   ]
  },
  {
   "cell_type": "markdown",
   "metadata": {},
   "source": [
    "**Ejercicio 4**\n",
    "\n",
    "Escribe una función que obtenga los números cuadrados pares de los primeros N números positivos. Para N = 10, el resultado debe ser `[4, 16, 36, 64, 100]`."
   ]
  },
  {
   "cell_type": "code",
   "execution_count": 94,
   "metadata": {},
   "outputs": [
    {
     "name": "stdout",
     "output_type": "stream",
     "text": [
      "[4, 16, 36, 64, 100]\r\n"
     ]
    }
   ],
   "source": [
    "func evenSquares(upto: Int) -> [Int] {\n",
    "    return (1...upto).map { $0 * $0 }.filter { $0 % 2 == 0 }\n",
    "}\n",
    "\n",
    "print(evenSquares(upto: 10))"
   ]
  },
  {
   "cell_type": "markdown",
   "metadata": {},
   "source": [
    "### `reduce`"
   ]
  },
  {
   "cell_type": "markdown",
   "metadata": {},
   "source": [
    "Esta función transforma una secuencia en un único elemento. Veamos un ejemplo que suma los 10 primeros números naturales:"
   ]
  },
  {
   "cell_type": "code",
   "execution_count": 95,
   "metadata": {},
   "outputs": [
    {
     "name": "stdout",
     "output_type": "stream",
     "text": [
      "55\r\n"
     ]
    }
   ],
   "source": [
    "print((1...10).reduce(0, +))"
   ]
  },
  {
   "cell_type": "markdown",
   "metadata": {},
   "source": [
    "`reduce` acepta dos argumentos:\n",
    "* El valor inicial con el que comenzamos a hacer los cálculos.\n",
    "* Una función que debe aceptar _dos_ argumentos:\n",
    "  - El resultado que llevamos hasta el momento. La primera vez que se llama, el resultado es el valor inicial que hemos indicado.\n",
    "  - El siguiente elemento de la secuencia."
   ]
  },
  {
   "cell_type": "markdown",
   "metadata": {},
   "source": [
    "En el caso del ejemplo, la función que hemos utilizado es simplemente `+`! Podríamos haber utilizado otra función que estuviera definida en cualquier sitio, o un closure definido con `{ ... }`."
   ]
  },
  {
   "cell_type": "markdown",
   "metadata": {},
   "source": [
    "Todas estas funciones también se pueden aplicar a **diccionarios**, no sólo a arrays o rangos."
   ]
  },
  {
   "cell_type": "markdown",
   "metadata": {},
   "source": [
    "A continuación vemos un ejemplo en el que aplicamos `reduce` a un diccionario para calcular una suma total."
   ]
  },
  {
   "cell_type": "code",
   "execution_count": 96,
   "metadata": {},
   "outputs": [],
   "source": [
    "var miCompra = [\n",
    "    \"Cebollas\": 1.5,\n",
    "    \"Patatas\": 5,\n",
    "    \"Huevos\": 3,\n",
    "    \"Pollo\": 8,\n",
    "    \"Garbanzos\": 4,\n",
    "    \"Detergente\": 8.5\n",
    "]"
   ]
  },
  {
   "cell_type": "code",
   "execution_count": 97,
   "metadata": {},
   "outputs": [
    {
     "name": "stdout",
     "output_type": "stream",
     "text": [
      "Dictionary<String, Double>\r\n"
     ]
    }
   ],
   "source": [
    "print(type(of: miCompra))"
   ]
  },
  {
   "cell_type": "code",
   "execution_count": 109,
   "metadata": {},
   "outputs": [],
   "source": [
    "let total = miCompra.reduce(0.0) { (subtotal, tupla) in\n",
    "    let (_, precio) = tupla\n",
    "    return subtotal + precio\n",
    "}"
   ]
  },
  {
   "cell_type": "code",
   "execution_count": 110,
   "metadata": {},
   "outputs": [
    {
     "name": "stdout",
     "output_type": "stream",
     "text": [
      "30.0\r\n"
     ]
    }
   ],
   "source": [
    "print(total)"
   ]
  },
  {
   "cell_type": "markdown",
   "metadata": {},
   "source": [
    "En este caso, al closure que de `reduce` se le pasa como segundo argumento una **tupla** con los dos componentes de cada elemento del diccionario: su clave y su valor. En la línea 2 de la celda anterior desempaquetamos la tupla en sus dos componentes e ignoramos el nombre del artículo, pues para este ejemplo no nos interesa."
   ]
  },
  {
   "cell_type": "markdown",
   "metadata": {},
   "source": [
    "Se podría hacer el código más corto, pero quizá quede menos claro a menos que sepamos lo que estamos haciendo:"
   ]
  },
  {
   "cell_type": "code",
   "execution_count": 111,
   "metadata": {},
   "outputs": [],
   "source": [
    "let total = miCompra.reduce(0.0) { return $0 + $1.value }"
   ]
  },
  {
   "cell_type": "code",
   "execution_count": 112,
   "metadata": {},
   "outputs": [
    {
     "name": "stdout",
     "output_type": "stream",
     "text": [
      "30.0\r\n"
     ]
    }
   ],
   "source": [
    "print(total)"
   ]
  },
  {
   "cell_type": "markdown",
   "metadata": {},
   "source": [
    "Los parámetros a la función de `reduce` son, en el caso de diccionarios:\n",
    "* `$0`: el resultado acumulado hasta el momento.\n",
    "* `$1`: tupla con componentes `key` and `value` de los elementos del diccionario.\n",
    "  * `$1.key`: clave del elemento del diccionario que se está visitando en este momento.\n",
    "  * `$1.value`: valor del mismo elemento."
   ]
  },
  {
   "cell_type": "markdown",
   "metadata": {},
   "source": [
    "-----"
   ]
  },
  {
   "cell_type": "markdown",
   "metadata": {},
   "source": [
    "**Ejercicio 5**: crea una función que devuelva en un array los N primeros números de Fibonacci. Los números de Fibonacci son una secuencia definida como:\n",
    "* El primer elemento es 0 y el segundo el 1.\n",
    "* Cada número (a partir del tercero) es el resultado de sumar los dos anteriores.\n",
    "\n",
    "Es decir, si la función se llama `fibonacci`, el resultado de ejecutar la función de este modo:\n",
    "\n",
    "```swift\n",
    "print(fibonacci(count: 10))\n",
    "```\n",
    "\n",
    "Sería:\n",
    "```\n",
    "[0, 1, 1, 2, 3, 5, 8, 13, 21, 34]\n",
    "```\n",
    "\n",
    "Prueba a implementar el código tanto de manera iterativa como _recursivamente_."
   ]
  },
  {
   "cell_type": "markdown",
   "metadata": {},
   "source": [
    "**Implementación iterativa**"
   ]
  },
  {
   "cell_type": "code",
   "execution_count": 133,
   "metadata": {},
   "outputs": [],
   "source": [
    "func fibonacci(count: Int) -> [Int] {\n",
    "    if count == 0 { return [0] }\n",
    "    if count == 1 { return [0] }\n",
    "    \n",
    "    var a = 0\n",
    "    var b = 1\n",
    "    var fibs = [a, b]\n",
    "    for i in 2..<count {\n",
    "        var currentFibonacciNumber = a + b\n",
    "        a = b\n",
    "        b = currentFibonacciNumber\n",
    "        fibs.append(currentFibonacciNumber)\n",
    "    }\n",
    "    return fibs\n",
    "}"
   ]
  },
  {
   "cell_type": "code",
   "execution_count": 142,
   "metadata": {},
   "outputs": [
    {
     "name": "stdout",
     "output_type": "stream",
     "text": [
      "[0, 1, 1, 2, 3, 5, 8, 13, 21, 34]\r\n"
     ]
    }
   ],
   "source": [
    "print(fibonacci(count: 10))"
   ]
  },
  {
   "cell_type": "markdown",
   "metadata": {},
   "source": [
    "**Implementación recursiva y funcional**"
   ]
  },
  {
   "cell_type": "code",
   "execution_count": 135,
   "metadata": {},
   "outputs": [],
   "source": [
    "func fibonacci_number(at position: Int) -> Int {\n",
    "    if position == 0 { return 0 }\n",
    "    if position == 1 { return 1 }\n",
    "    \n",
    "    return fibonacci_number(at: position-1) + fibonacci_number(at: position-2)\n",
    "}"
   ]
  },
  {
   "cell_type": "code",
   "execution_count": 136,
   "metadata": {},
   "outputs": [
    {
     "name": "stdout",
     "output_type": "stream",
     "text": [
      "34\r\n"
     ]
    }
   ],
   "source": [
    "print(fibonacci_number(at: 9))"
   ]
  },
  {
   "cell_type": "code",
   "execution_count": 138,
   "metadata": {},
   "outputs": [],
   "source": [
    "func fibonacci2(count: Int) -> [Int] {\n",
    "    return (0..<count).map { fibonacci_number(at: $0) }\n",
    "}"
   ]
  },
  {
   "cell_type": "code",
   "execution_count": 139,
   "metadata": {},
   "outputs": [
    {
     "name": "stdout",
     "output_type": "stream",
     "text": [
      "[0, 1, 1, 2, 3, 5, 8, 13, 21, 34]\r\n"
     ]
    }
   ],
   "source": [
    "print(fibonacci2(count: 10))"
   ]
  },
  {
   "cell_type": "markdown",
   "metadata": {},
   "source": [
    "**`guard`**"
   ]
  },
  {
   "cell_type": "markdown",
   "metadata": {},
   "source": [
    "`guard` es una sentencia con la que podemos verificar una condición. La diferencia con respecto a `if` es que, en caso de que la condición no se cumpla, _exige_ abandonar el contexto en el que aparece `guard`. En el caso de una función, debemos necesariamente hacer `return` si la condición no se cumple (o lanzar una excepción, que veremos después).\n",
    "\n",
    "En el caso de los ejemplos anteriores, podríamos haber utilizado `guard` del siguiente modo:"
   ]
  },
  {
   "cell_type": "code",
   "execution_count": 140,
   "metadata": {},
   "outputs": [],
   "source": [
    "func fibonacci_number(at position: Int) -> Int {\n",
    "    guard position > 1 else { return position }    \n",
    "    return fibonacci_number(at: position-1) + fibonacci_number(at: position-2)\n",
    "}"
   ]
  },
  {
   "cell_type": "code",
   "execution_count": 141,
   "metadata": {},
   "outputs": [],
   "source": [
    "func fibonacci(count: Int) -> [Int] {\n",
    "    guard count > 1 else { return [0] }\n",
    "    \n",
    "    var a = 0\n",
    "    var b = 1\n",
    "    var fibs = [a, b]\n",
    "    for i in 2..<count {\n",
    "        var currentFibonacciNumber = a + b\n",
    "        a = b\n",
    "        b = currentFibonacciNumber\n",
    "        fibs.append(currentFibonacciNumber)\n",
    "    }\n",
    "    return fibs\n",
    "}"
   ]
  },
  {
   "cell_type": "markdown",
   "metadata": {},
   "source": [
    "En este caso parece que las diferencias respecto a `if` son mínimas, pero el uso de `guard` nos garantiza que las variables que pasamos a las funciones tienen valores consistentes para la ejecución del código \"normal\" de la función. Esto nos permite, al leer el código, concentrar nuestra atención en el \"flujo normal\" de ejecución, no en el tratamiento de los valores raros.\n",
    "\n",
    "También podemos usar `guard let` de modo similar a `if let`, lo que nos permite evitar trozos de código anidado difícil de leer.\n",
    "\n",
    "Por ejemplo:"
   ]
  },
  {
   "cell_type": "code",
   "execution_count": 8,
   "metadata": {},
   "outputs": [],
   "source": [
    "func print_square_root(_ number: Double?) {\n",
    "    // Verify number is not nil\n",
    "    if let number = number {\n",
    "        // Verify number is not negative\n",
    "        if number >= 0 {\n",
    "            // Actual function body\n",
    "            print(number.squareRoot())\n",
    "        } else {\n",
    "            print(\"El número es negativo.\")\n",
    "        }\n",
    "    } else {\n",
    "        print(\"El dato es nil.\")\n",
    "    }\n",
    "}"
   ]
  },
  {
   "cell_type": "raw",
   "metadata": {},
   "source": []
  },
  {
   "cell_type": "code",
   "execution_count": null,
   "metadata": {},
   "outputs": [],
   "source": []
  },
  {
   "cell_type": "code",
   "execution_count": 9,
   "metadata": {},
   "outputs": [],
   "source": [
    "func print_square_root(_ number: Double?) {\n",
    "    // Tratamiento error: nil\n",
    "    guard let number = number else {\n",
    "        print(\"El dato es nil.\")\n",
    "        return\n",
    "    }\n",
    "    \n",
    "    // Tratamiento error: número negativo\n",
    "    guard number >= 0 else {\n",
    "        print(\"El número es negativo.\")\n",
    "        return\n",
    "    }\n",
    "    \n",
    "    // El código \"normal\" está en el flujo principal de la función, sin anidar\n",
    "    print(number.squareRoot())\n",
    "}"
   ]
  },
  {
   "cell_type": "markdown",
   "metadata": {},
   "source": [
    "Las dos funciones hacen exactamente lo mismo. En la segunda versión, sin embargo, el código de la función que debe ejecutarse cuando todo va bien está en el camino principal de la función (incluso visualmente), no anidado dentro de varios niveles de comprobaciones. De modo similar, los posibles errores de entrada se comprueban uno tras otro, y los correspondientes mensajes de error están junto a la comprobación. Obsérvese que en el primer caso, el mensaje de error que indica que el dato es `nil` aparece muy lejos de la comprobación correspondiente.\n",
    "\n",
    "La segunda versión es mucho más fácil de leer y de comprender."
   ]
  },
  {
   "cell_type": "markdown",
   "metadata": {},
   "source": [
    "## `struct`s"
   ]
  },
  {
   "cell_type": "markdown",
   "metadata": {},
   "source": [
    "Las estructuras (`struct`) permiten definir _nuevos tipos_ que podemos utilizar para agrupar datos relacionados entre sí (según la semántica de nuestro programa). En algunos lenguajes se llaman _registros_ (`record`); en C se llaman también `struct`s."
   ]
  },
  {
   "cell_type": "code",
   "execution_count": 13,
   "metadata": {},
   "outputs": [],
   "source": [
    "struct Complex {\n",
    "    var real: Double\n",
    "    var img: Double\n",
    "}"
   ]
  },
  {
   "cell_type": "code",
   "execution_count": 14,
   "metadata": {},
   "outputs": [],
   "source": [
    "let i = Complex(real: 0, img: 1)"
   ]
  },
  {
   "cell_type": "markdown",
   "metadata": {},
   "source": [
    "A diferencia de los `struct`s de C y los registros de otros lenguajes, los `struct` de Swift pueden tener dentro sus propios métodos (i.e., funciones que operan sobre los valores del `struct`). En este sentido, son mucho más parecidas a las **clases** que se utilizan en orientación a objetos.\n",
    "\n",
    "Como la estructura es un nuevo tipo, su nombre comienza por mayúscula (como en `Int` o `String`). Esto no es obligatorio, pero es lo habitual y recomendado."
   ]
  },
  {
   "cell_type": "markdown",
   "metadata": {},
   "source": [
    "Podríamos haber definido el `struct` con una función para calcular su módulo:"
   ]
  },
  {
   "cell_type": "code",
   "execution_count": 17,
   "metadata": {},
   "outputs": [],
   "source": [
    "struct Complex {\n",
    "    var real: Double\n",
    "    var img: Double\n",
    "    \n",
    "    func modulus() -> Double {\n",
    "        return ((real * real) + (img * img)).squareRoot()\n",
    "    }\n",
    "}"
   ]
  },
  {
   "cell_type": "code",
   "execution_count": 18,
   "metadata": {},
   "outputs": [],
   "source": [
    "let i = Complex(real: 0, img: 1)"
   ]
  },
  {
   "cell_type": "code",
   "execution_count": 20,
   "metadata": {},
   "outputs": [
    {
     "name": "stdout",
     "output_type": "stream",
     "text": [
      "1.0\r\n"
     ]
    }
   ],
   "source": [
    "print(i.modulus())"
   ]
  },
  {
   "cell_type": "markdown",
   "metadata": {},
   "source": [
    "¿Qué ocurre si queremos _añadir_ un método a un `struct` una vez que ya lo hemos definido? Lo podemos hacer tranquilamente utilizando `extension`es."
   ]
  },
  {
   "cell_type": "markdown",
   "metadata": {},
   "source": [
    "Volvamos a la definición original:"
   ]
  },
  {
   "cell_type": "code",
   "execution_count": 21,
   "metadata": {},
   "outputs": [],
   "source": [
    "struct Complex {\n",
    "    var real: Double\n",
    "    var img: Double\n",
    "}"
   ]
  },
  {
   "cell_type": "markdown",
   "metadata": {},
   "source": [
    "Más adelante (o incluso en otro fichero de nuestro programa) podemos añadir la función que calcula el módulo:"
   ]
  },
  {
   "cell_type": "code",
   "execution_count": 34,
   "metadata": {},
   "outputs": [],
   "source": [
    "extension Complex {\n",
    "    func modulus() -> Double {\n",
    "        return ((real * real) + (img * img)).squareRoot()\n",
    "    }\n",
    "}"
   ]
  },
  {
   "cell_type": "markdown",
   "metadata": {},
   "source": [
    "En el fragmento anterior hemos añadido la función `modulus` a cualquier variable de tipo `Complex`, incluso aunque la hubiéramos creado antes en el programa."
   ]
  },
  {
   "cell_type": "markdown",
   "metadata": {},
   "source": [
    "Esto permite tener nuestro código organizado e ir añadiendo funcionalidad a medida que la necesitamos. Lo fundamental de un número complejo es que tiene parte real y parte imaginaria; las operaciones que podemos hacer sobre ellos se pueden ir definiendo según necesitemos.\n",
    "\n",
    "Las extensiones pueden utilizarse _sobre cualquier tipo_. Cualquiera. Por ejemplo, podemos añadir una nueva función al tipo `Int`:"
   ]
  },
  {
   "cell_type": "code",
   "execution_count": 35,
   "metadata": {},
   "outputs": [],
   "source": [
    "extension Int {\n",
    "    func times(code: () -> Void) {\n",
    "        for _ in 0..<self { code() }\n",
    "    }\n",
    "}"
   ]
  },
  {
   "cell_type": "code",
   "execution_count": 36,
   "metadata": {},
   "outputs": [
    {
     "name": "stdout",
     "output_type": "stream",
     "text": [
      "Test\r\n",
      "Test\r\n",
      "Test\r\n",
      "Test\r\n"
     ]
    }
   ],
   "source": [
    "4.times { print(\"Test\") }"
   ]
  },
  {
   "cell_type": "markdown",
   "metadata": {},
   "source": [
    "¡`times` es una función del número `4` (o de cualquier otro `Int`)!"
   ]
  },
  {
   "cell_type": "markdown",
   "metadata": {},
   "source": [
    "----"
   ]
  },
  {
   "cell_type": "markdown",
   "metadata": {},
   "source": [
    "Volviendo a `Complex`, podríamos haber definido `modulus` como una **propiedad** en lugar de como una función:"
   ]
  },
  {
   "cell_type": "code",
   "execution_count": 37,
   "metadata": {},
   "outputs": [],
   "source": [
    "extension Complex {\n",
    "    var modulus: Double {\n",
    "        return ((real * real) + (img * img)).squareRoot()\n",
    "    }\n",
    "}"
   ]
  },
  {
   "cell_type": "code",
   "execution_count": 39,
   "metadata": {},
   "outputs": [
    {
     "name": "stdout",
     "output_type": "stream",
     "text": [
      "1.4142135623730951\r\n"
     ]
    }
   ],
   "source": [
    "let z = Complex(real: 1, img: 1)\n",
    "print(z.modulus)"
   ]
  },
  {
   "cell_type": "markdown",
   "metadata": {},
   "source": [
    "Una propiedad no es más que una versión especial de una función que devuelve un valor y no acepta argumentos. No tenemos que poner `()` para invocar. Se utilizan mucho en Swift por su conveniencia, para calcular valores derivados de los que ya tenemos."
   ]
  },
  {
   "cell_type": "markdown",
   "metadata": {},
   "source": [
    "¿Qué más podemos hacer con los números complejos? Un par de operaciones básicas:"
   ]
  },
  {
   "cell_type": "code",
   "execution_count": 40,
   "metadata": {},
   "outputs": [],
   "source": [
    "extension Complex {\n",
    "    func sum(_ other: Complex) -> Complex {\n",
    "        return Complex(real: self.real + other.real, img: self.img + other.img)\n",
    "    }\n",
    "    \n",
    "    func mult(_ other: Complex) -> Complex {\n",
    "        let real = self.real * other.real - self.img * other.img\n",
    "        let img = self.real * other.img + self.img * other.real\n",
    "        return Complex(real: real, img: img)\n",
    "    }\n",
    "}"
   ]
  },
  {
   "cell_type": "code",
   "execution_count": 57,
   "metadata": {},
   "outputs": [
    {
     "name": "stdout",
     "output_type": "stream",
     "text": [
      "Complex(real: 0.0, img: 2.0)\r\n"
     ]
    }
   ],
   "source": [
    "let i = Complex(real: 0, img: 1)\n",
    "print(i.sum(i))"
   ]
  },
  {
   "cell_type": "code",
   "execution_count": 47,
   "metadata": {},
   "outputs": [
    {
     "name": "stdout",
     "output_type": "stream",
     "text": [
      "Complex(real: -1.0, img: 0.0)\r\n"
     ]
    }
   ],
   "source": [
    "print(i.mult(i))"
   ]
  },
  {
   "cell_type": "markdown",
   "metadata": {},
   "source": [
    "(Para este tipo de casos, Swift permite definir operadores, lo que puede facilitar la sintaxis. Los veremos más adelante.)"
   ]
  },
  {
   "cell_type": "markdown",
   "metadata": {},
   "source": [
    "Los métodos `sum` y `mult` devuelven un nuevo número complejo, no modifican los originales. Sin embargo, en muchas ocasiones necesitamos definir métodos que actualizan los valores del `struct`."
   ]
  },
  {
   "cell_type": "code",
   "execution_count": 88,
   "metadata": {},
   "outputs": [],
   "source": [
    "struct Point {\n",
    "    var x = 0.0\n",
    "    var y = 0.0\n",
    "}"
   ]
  },
  {
   "cell_type": "code",
   "execution_count": 89,
   "metadata": {},
   "outputs": [
    {
     "ename": "",
     "evalue": "",
     "output_type": "error",
     "traceback": [
      "error: <Cell 89>:3:14: error: cannot assign to property: 'self' is immutable\n        self.x = x\n        ~~~~ ^\n\n<Cell 89>:2:5: note: mark method 'mutating' to make 'self' mutable\n    func move(to x: Double, y: Double) {\n    ^\n    mutating \n\nerror: <Cell 89>:4:14: error: cannot assign to property: 'self' is immutable\n        self.y = y\n        ~~~~ ^\n\n<Cell 89>:2:5: note: mark method 'mutating' to make 'self' mutable\n    func move(to x: Double, y: Double) {\n    ^\n    mutating \n\n"
     ]
    }
   ],
   "source": [
    "extension Point {\n",
    "    func move(to x: Double, y: Double) {\n",
    "        self.x = x\n",
    "        self.y = y\n",
    "    }\n",
    "}"
   ]
  },
  {
   "cell_type": "code",
   "execution_count": 93,
   "metadata": {},
   "outputs": [],
   "source": [
    "extension Point {\n",
    "    mutating func move(x: Double, y: Double) {\n",
    "        self.x = x\n",
    "        self.y = y\n",
    "    }\n",
    "}"
   ]
  },
  {
   "cell_type": "code",
   "execution_count": 98,
   "metadata": {},
   "outputs": [
    {
     "name": "stdout",
     "output_type": "stream",
     "text": [
      "Point(x: 0.0, y: 0.0)\r\n"
     ]
    }
   ],
   "source": [
    "var p = Point()\n",
    "print(p)"
   ]
  },
  {
   "cell_type": "code",
   "execution_count": 99,
   "metadata": {},
   "outputs": [
    {
     "name": "stdout",
     "output_type": "stream",
     "text": [
      "Point(x: 3.0, y: 1.0)\r\n"
     ]
    }
   ],
   "source": [
    "p.move(x: 3, y: 1)\n",
    "print(p)"
   ]
  },
  {
   "cell_type": "markdown",
   "metadata": {},
   "source": [
    "En los `struct`s, siempre debe utilizarse `mutating` para marcar aquéllas funciones que pueden modificar el valor de las variables almacenadas en el `struct`."
   ]
  },
  {
   "cell_type": "markdown",
   "metadata": {},
   "source": [
    "- value types, con ejemplo\n",
    "- classes, reference types\n",
    "- cow"
   ]
  },
  {
   "cell_type": "markdown",
   "metadata": {},
   "source": [
    "### Value types"
   ]
  },
  {
   "cell_type": "markdown",
   "metadata": {},
   "source": [
    "Los `struct`, así como muchos de los tipos básicos de Swift, son lo que se denomina como _value types_. Esto sólo quiere decir que los valores se van copiando a medida que los asignamos o pasamos a funciones, para evitar cambios inadvertidos en otros puntos del código."
   ]
  },
  {
   "cell_type": "code",
   "execution_count": null,
   "metadata": {},
   "outputs": [],
   "source": [
    "var a = 5\n",
    "var b = a\n",
    "b = b * 2\n",
    "print(b)     // 10\n",
    "print(a)     // ?"
   ]
  },
  {
   "cell_type": "markdown",
   "metadata": {},
   "source": [
    "En casi todos los lenguajes esto es así para variables básicas tipo números enteros, pero deja de ser cierto para tipos más complejos como arrays, estructuras o clases. En Swift este comportamiento se conserva también para estos tipos."
   ]
  },
  {
   "cell_type": "code",
   "execution_count": 5,
   "metadata": {},
   "outputs": [],
   "source": [
    "var enteros = [9, 5, 1, 0, -7]\n",
    "var otrosEnteros = enteros\n",
    "otrosEnteros[0] = -1"
   ]
  },
  {
   "cell_type": "code",
   "execution_count": null,
   "metadata": {},
   "outputs": [],
   "source": [
    "print(otrosEnteros)\n",
    "print(enteros)          // ?"
   ]
  },
  {
   "cell_type": "markdown",
   "metadata": {},
   "source": [
    "Si hiciéramos el ejemplo anterior [con una lista de Python](python-list-reference.ipynb), veríamos que _al modificar la segunda lista, se modificaría también la primera_."
   ]
  },
  {
   "cell_type": "markdown",
   "metadata": {},
   "source": [
    "Este comportamiento tradicional de los lenguajes de programación se debe, en gran medida, a cuestiones de eficiencia. Si tenemos un array con millones de elementos, sería muy costoso copiar todos los datos cada vez que lo asignamos o lo pasamos a una función."
   ]
  },
  {
   "cell_type": "markdown",
   "metadata": {},
   "source": [
    "### _copy-on-write_ (COW) 🐮"
   ]
  },
  {
   "cell_type": "markdown",
   "metadata": {},
   "source": [
    "Swift resuelve el problema de la eficiencia utilizando una optimización que se llama _copy-on-write_ (COW, 🐮). Conceptualmente, lo que se hace internamente es utilizar una **referencia** al array (en lugar de una copia), y sólo copiar cuando realmente alguien modifica el valor. Los detalles técnicos son más complejos, pero las consecuencias son las siguientes:\n",
    "\n",
    "* Swift se comporta como si los valores de tipos básicos (incluidos arrays y otras colecciones) se copiasen al asignarlos o enviarlos a funciones.\n",
    "* A diferencia de otros lenguajes, este comportamiento es consistente entre los tipos básicos y las colecciones."
   ]
  },
  {
   "cell_type": "markdown",
   "metadata": {},
   "source": [
    "Este comportamiento es el que exige la inclusión del término `mutating` en las funciones que modifican el estado de un `struct`. De otro modo, Swift no tendría forma de saber si se están produciendo cambios sobre los valores. Las funciones que no llevan `mutating`, con toda seguridad no realizan cambio alguno sobre los valores del tipo. A la inversa, las funciones que realizan cambios **deben** llevar el atributo `mutating`."
   ]
  },
  {
   "cell_type": "markdown",
   "metadata": {},
   "source": [
    "## Clases"
   ]
  },
  {
   "cell_type": "markdown",
   "metadata": {},
   "source": [
    "Las clases, a simple vista, son muy similares a los `struct`s:"
   ]
  },
  {
   "cell_type": "code",
   "execution_count": 10,
   "metadata": {},
   "outputs": [
    {
     "ename": "",
     "evalue": "",
     "output_type": "error",
     "traceback": [
      "error: <Cell 10>:1:7: error: class 'Person' has no initializers\nclass Person {\n      ^\n\n<Cell 10>:2:9: note: stored property 'name' without initial value prevents synthesized initializers\n    var name: String\n        ^\n                     = \"\"\n\n<Cell 10>:3:9: note: stored property 'age' without initial value prevents synthesized initializers\n    var age: Int\n        ^\n                 = 0\n\n"
     ]
    }
   ],
   "source": [
    "class Person {\n",
    "    var name: String\n",
    "    var age: Int\n",
    "}"
   ]
  },
  {
   "cell_type": "markdown",
   "metadata": {},
   "source": [
    "En las clases es necesario proporcionar un procedimiento de inicialización, que es una función especial que se llama `init`, y que excepcionalmente no va precedido de `func`."
   ]
  },
  {
   "cell_type": "code",
   "execution_count": 41,
   "metadata": {},
   "outputs": [],
   "source": [
    "class Person {\n",
    "    var name: String\n",
    "    var age: Int\n",
    "    \n",
    "    init(name: String, age: Int) {\n",
    "        self.name = name\n",
    "        self.age = age\n",
    "    }\n",
    "}"
   ]
  },
  {
   "cell_type": "code",
   "execution_count": 42,
   "metadata": {},
   "outputs": [],
   "source": [
    "let pablo = Person(name: \"Pablo\", age: 25)"
   ]
  },
  {
   "cell_type": "markdown",
   "metadata": {},
   "source": [
    "En el caso de los `struct` también podemos emplear `init` si queremos, pero si no lo hacemos el compilador genera automáticamente una versión basada en los elementos que hemos declarado en el `struct`."
   ]
  },
  {
   "cell_type": "code",
   "execution_count": 43,
   "metadata": {},
   "outputs": [
    {
     "name": "stdout",
     "output_type": "stream",
     "text": [
      "__lldb_expr_228.Person\r\n"
     ]
    }
   ],
   "source": [
    "print(pablo)"
   ]
  },
  {
   "cell_type": "markdown",
   "metadata": {},
   "source": [
    "Eso no nos da mucha información. Para mostrar un mensaje apropiado para inspeccionar el objeto, tenemos que implementar la propiedad que figura en la siguiente celda. En el caso de los `struct`, esto es también automático."
   ]
  },
  {
   "cell_type": "code",
   "execution_count": 44,
   "metadata": {},
   "outputs": [],
   "source": [
    "extension Person: CustomStringConvertible {\n",
    "    public var description: String { \"Person named \\(name), \\(age) years old\"}\n",
    "}"
   ]
  },
  {
   "cell_type": "code",
   "execution_count": 45,
   "metadata": {},
   "outputs": [
    {
     "name": "stdout",
     "output_type": "stream",
     "text": [
      "Person named Pablo, 25 years old\r\n"
     ]
    }
   ],
   "source": [
    "let pablo = Person(name: \"Pablo\", age: 25)\n",
    "print(pablo)"
   ]
  },
  {
   "cell_type": "markdown",
   "metadata": {},
   "source": [
    "Además de implementar `description`, también tenemos que declarar que `Person` cumple los requisitos del **protocolo** `CustomStringConvertible`.\n",
    "\n",
    "Un protocolo es una _plantilla_ de funciones o propiedades que puede tener (o no) una instancia de un tipo. La función `print` aparentemente funciona con valores de cualquier tipo (hasta ahora la hemos utilizado para todos los ejemplos que hemos ido creando). ¿Cómo sabe lo que tiene que hacer con tipos diferentes? Es muy diferente mostrar el valor de un número entero que el contenido de un array, o el contenido de un `struct` que nos hemos inventado nosotros.\n",
    "\n",
    "La realidad es que `print` sólo sabe mostrar los valores que cumplen el protocolo `CustomStringConvertible`. Lo único que hace `print` es obtener el valor de la propiedad `description`, y eso es lo que muestra en pantalla.\n",
    "\n",
    "En los tipos internos (`Int`, `String`, `Array`), la propiedad `description` está implementada en la biblioteca estándar del lenguaje. En los `struct`, al igual que se sintetiza automáticamente una función de inicialización, se sintetiza también `description`. En las clases, hay que hacerlo expresamente."
   ]
  },
  {
   "cell_type": "markdown",
   "metadata": {},
   "source": [
    "Nosotros podemos crear protocolos para nuestros propósitos, como veremos en otra clase."
   ]
  },
  {
   "cell_type": "markdown",
   "metadata": {},
   "source": [
    "### Herencia"
   ]
  },
  {
   "cell_type": "markdown",
   "metadata": {},
   "source": [
    "Esta es una de las diferencias básicas entre `struct`s y clases: una clase puede \"heredar\" de otra, incorporando automáticamente todas las definiciones de la \"superclase\"."
   ]
  },
  {
   "cell_type": "code",
   "execution_count": 51,
   "metadata": {},
   "outputs": [],
   "source": [
    "class Student: Person {\n",
    "    var carrera: String\n",
    "    \n",
    "    init(name: String, age: Int, carrera: String) {\n",
    "        self.carrera = carrera\n",
    "        super.init(name: name, age: age)\n",
    "    }\n",
    "}"
   ]
  },
  {
   "cell_type": "markdown",
   "metadata": {},
   "source": [
    "`Student` es una particularización de `Person`, que tiene una variable adicional. Hemos tenido que proporcionar otra versión de `init` apropiada para inicializar objetos de este tipo. Obsérvese cómo se utiliza `super.init` para invocar la versión antigua que reside en la **super**clase."
   ]
  },
  {
   "cell_type": "markdown",
   "metadata": {},
   "source": [
    "### Reference types"
   ]
  },
  {
   "cell_type": "markdown",
   "metadata": {},
   "source": [
    "Esta es la otra diferencia fundamental respecto a `struct`. En Swift, **las clases se pasan por referencia**. En este caso **NO** se realiza una copia del valor (ni siquiera conceptualmente), sino que se pasa la dirección de memoria (el puntero) donde están almacenados los datos.\n",
    "\n",
    "Veámoslo con un ejemplo."
   ]
  },
  {
   "cell_type": "code",
   "execution_count": 52,
   "metadata": {},
   "outputs": [],
   "source": [
    "let javier = Student(name: \"Javier\", age: 20, carrera: \"Filosofía\")"
   ]
  },
  {
   "cell_type": "code",
   "execution_count": 53,
   "metadata": {},
   "outputs": [
    {
     "name": "stdout",
     "output_type": "stream",
     "text": [
      "GISAM\r\n"
     ]
    }
   ],
   "source": [
    "var estudiante = javier\n",
    "estudiante.carrera = \"GISAM\"\n",
    "print(estudiante.carrera)"
   ]
  },
  {
   "cell_type": "code",
   "execution_count": 54,
   "metadata": {},
   "outputs": [
    {
     "name": "stdout",
     "output_type": "stream",
     "text": [
      "GISAM\r\n"
     ]
    }
   ],
   "source": [
    "print(javier.carrera)"
   ]
  },
  {
   "cell_type": "markdown",
   "metadata": {},
   "source": [
    "En este caso, las variables `estudiante` y `javier` hacen referencia al **mismo** objeto en memoria, por lo que modificando uno afectamos al otro. Y encima, `javier` era un `let`!"
   ]
  },
  {
   "cell_type": "markdown",
   "metadata": {},
   "source": [
    "### `override`"
   ]
  },
  {
   "cell_type": "markdown",
   "metadata": {},
   "source": [
    "Cuando queremos redefinir una propiedad o método que existe en una superclase, debemos usar el término `override`:"
   ]
  },
  {
   "cell_type": "code",
   "execution_count": 1,
   "metadata": {},
   "outputs": [],
   "source": [
    "struct Point {\n",
    "    var x: Double\n",
    "    var y: Double\n",
    "}"
   ]
  },
  {
   "cell_type": "code",
   "execution_count": 2,
   "metadata": {},
   "outputs": [],
   "source": [
    "class Shape: CustomStringConvertible {\n",
    "    var origin: Point\n",
    "    \n",
    "    init(origin: Point = Point(x: 0, y: 0)) {\n",
    "        self.origin = origin\n",
    "    }\n",
    "    \n",
    "    var description: String { \"Soy una forma abstracta situada en \\(origin)\"}\n",
    "}"
   ]
  },
  {
   "cell_type": "code",
   "execution_count": 3,
   "metadata": {},
   "outputs": [
    {
     "name": "stdout",
     "output_type": "stream",
     "text": [
      "Soy una forma abstracta situada en Point(x: 0.0, y: 0.0)\r\n"
     ]
    }
   ],
   "source": [
    "print(Shape())"
   ]
  },
  {
   "cell_type": "code",
   "execution_count": 4,
   "metadata": {},
   "outputs": [],
   "source": [
    "class Circle: Shape {\n",
    "    var radius: Double\n",
    "    \n",
    "    init(origin: Point, radius: Double) {\n",
    "        self.radius = radius\n",
    "        super.init(origin: origin)\n",
    "    }\n",
    "    \n",
    "    override var description: String { \"Soy un círculo centrado en \\(origin) con radio \\(radius)\"}\n",
    "}"
   ]
  },
  {
   "cell_type": "code",
   "execution_count": 5,
   "metadata": {},
   "outputs": [
    {
     "name": "stdout",
     "output_type": "stream",
     "text": [
      "Soy un círculo centrado en Point(x: 5.0, y: -1.0) con radio 4.0\r\n"
     ]
    }
   ],
   "source": [
    "let c = Circle(origin: Point(x: 5, y: -1), radius: 4)\n",
    "print(c)"
   ]
  },
  {
   "cell_type": "markdown",
   "metadata": {},
   "source": [
    "## ¿Cuándo usar clases y cuándo usar `struct`s?"
   ]
  },
  {
   "cell_type": "markdown",
   "metadata": {},
   "source": [
    "Tanto las clases como las estructuras tienen muchísima más funcionalidad que iremos viendo poco a poco, pero hemos visto ya las diferencias fundamentales. El uso de clases o `struct`s varía según las necesidades de nuestros programas. Generalizando, podemos ofrecer las siguientes indicaciones, muy simplificadas:\n",
    "\n",
    "* En caso de duda, usa `struct`. Son más ligeros y eficientes.\n",
    "* Si necesitas herencia, debes usar clases.\n",
    "* Si necesitas utilizar el paso por referencia, usa clases. Por ejemplo, para modelar recursos que no tiene sentido copiar (el acceso a una base de datos, la referencia a un _socket_ de comunicaciones) es frecuente utilizar clases."
   ]
  },
  {
   "cell_type": "markdown",
   "metadata": {},
   "source": [
    "------"
   ]
  },
  {
   "cell_type": "markdown",
   "metadata": {},
   "source": [
    "**Ejercicio Clases - 1**\n",
    "\n",
    "Basándote en las definiciones de `Point`, `Shape` y `Circle` dadas un poco más arriba, crea definiciones para los siguientes objetos:\n",
    "\n",
    "* `Rectangle`\n",
    "* `Square`, que debe ser un subtipo de `Rectangle`.\n",
    "\n",
    "Los dos nuevos objetos tienen que tener propiedades adecuadas a su forma, así como inicializadores y `description`."
   ]
  },
  {
   "cell_type": "markdown",
   "metadata": {},
   "source": [
    "Alejandro:"
   ]
  },
  {
   "cell_type": "code",
   "execution_count": 6,
   "metadata": {},
   "outputs": [
    {
     "name": "stdout",
     "output_type": "stream",
     "text": [
      "Soy un rectangulo centrado en el Point(x: 5.0, y: 5.0) con Lado Vertical 2.0 y Lado Horizontal 4.0\r\n"
     ]
    }
   ],
   "source": [
    "class Rectangle: Shape {\n",
    "    var ladov: Double\n",
    "    var ladoh: Double\n",
    "    \n",
    "    init(origin: Point, ladov: Double, ladoh: Double) {\n",
    "        self.ladov = ladov\n",
    "        self.ladoh = ladoh\n",
    "        super.init(origin: origin)\n",
    "    }\n",
    "    \n",
    "    override var description: String { \"Soy un rectangulo centrado en el \\(origin) con Lado Vertical \\(ladov) y Lado Horizontal \\(ladoh)\"}\n",
    "}\n",
    "\n",
    "let c = Rectangle(origin: Point(x: 5, y: 5), ladov:2, ladoh:4)\n",
    "print(c)"
   ]
  },
  {
   "cell_type": "code",
   "execution_count": 10,
   "metadata": {},
   "outputs": [],
   "source": [
    "class Square: Rectangle {    \n",
    "    init(origin: Point, lado: Double) {\n",
    "        super.init(origin: origin, ladov: lado, ladoh: lado)\n",
    "    }\n",
    "}"
   ]
  },
  {
   "cell_type": "code",
   "execution_count": 11,
   "metadata": {},
   "outputs": [],
   "source": [
    "let sq = Square(origin: Point(x: 0, y: 0), lado: 5)"
   ]
  },
  {
   "cell_type": "code",
   "execution_count": 12,
   "metadata": {},
   "outputs": [
    {
     "name": "stdout",
     "output_type": "stream",
     "text": [
      "Soy un rectangulo centrado en el Point(x: 0.0, y: 0.0) con Lado Vertical 5.0 y Lado Horizontal 5.0\r\n"
     ]
    }
   ],
   "source": [
    "print(sq)"
   ]
  },
  {
   "cell_type": "markdown",
   "metadata": {},
   "source": [
    "Jorge: implementación correcta, pero no desciende de `Shape`."
   ]
  },
  {
   "cell_type": "code",
   "execution_count": null,
   "metadata": {},
   "outputs": [],
   "source": [
    "class Rectangle: CustomStringConvertible {\n",
    "    var topLeft: Point\n",
    "    var topRight: Point\n",
    "    var bottonLeft: Point\n",
    "    var bottonRight: Point\n",
    "   \n",
    "    init(topLeft: Point = Point(x: 0, y: 0), topRight: Point = Point(x: 2, y: 0),\n",
    "         bottonLeft: Point = Point(x: 0, y: -1), bottonRight: Point = Point(x: 2, y: -1)) {\n",
    "        self.topLeft = topLeft\n",
    "        self.topRight = topRight\n",
    "        self.bottonLeft = bottonLeft\n",
    "        self.bottonRight = bottonRight\n",
    "    }\n",
    "   \n",
    "    var description: String { \"Soy un rectangulo situado en los puntos \\(topLeft), \\(topRight), \\(bottonLeft), \\(bottonRight)\"}\n",
    "}\n",
    "print(Rectangle())"
   ]
  },
  {
   "cell_type": "markdown",
   "metadata": {},
   "source": [
    "**Ejercicio Clases - 2**\n",
    "\n",
    "* Añade a `Shape` un procedimiento `move` que cambie el origen a otro punto. Comprueba si funciona en tus subclases.\n",
    "* Añade a `Shape` una propiedad `area`. En el caso de `Shape`, devolverá el valor especial `-1` para indicar error (no sabemos cuál es el área de una forma abstracta). En el caso de las otras formas, deben devolver su área correctamente.\n",
    "\n",
    "Posteriormente veremos cómo tratar errores de mejor manera que simplemente devolviendo un dato especial."
   ]
  },
  {
   "cell_type": "code",
   "execution_count": 92,
   "metadata": {},
   "outputs": [],
   "source": []
  },
  {
   "cell_type": "code",
   "execution_count": 14,
   "metadata": {},
   "outputs": [],
   "source": [
    "class Shape: CustomStringConvertible {\n",
    "    var origin: Point\n",
    "    init(origin: Point = Point(x: 0, y: 0)) {\n",
    "        self.origin = origin\n",
    "    }\n",
    "    \n",
    "    func move(to x: Double, y: Double) {\n",
    "        self.origin.x = x\n",
    "        self.origin.y = y\n",
    "    }\n",
    "    \n",
    "    var description: String { \"Soy una forma situado en \\(origin)\"}\n",
    "}\n",
    "\n",
    "// print(Shape(origin.move(x: 3, y: 1)))"
   ]
  },
  {
   "cell_type": "code",
   "execution_count": 16,
   "metadata": {},
   "outputs": [
    {
     "name": "stdout",
     "output_type": "stream",
     "text": [
      "Soy una forma situado en Point(x: 0.0, y: 0.0)\r\n"
     ]
    }
   ],
   "source": [
    "print(Shape())"
   ]
  },
  {
   "cell_type": "code",
   "execution_count": 17,
   "metadata": {},
   "outputs": [
    {
     "name": "stdout",
     "output_type": "stream",
     "text": [
      "Soy una forma situado en Point(x: 5.0, y: 2.0)\r\n"
     ]
    }
   ],
   "source": [
    "let unaForma = Shape()\n",
    "unaForma.move(to: 5, y: 2)\n",
    "print(unaForma)"
   ]
  },
  {
   "cell_type": "code",
   "execution_count": 93,
   "metadata": {},
   "outputs": [
    {
     "name": "stdout",
     "output_type": "stream",
     "text": [
      "Soy un círculo centrado en Point(x: 5.0, y: -1.0) con radio 4.0\r\n"
     ]
    }
   ],
   "source": [
    "let c = Circle(origin: Point(x: 5, y: -1), radius: 4)\n",
    "print(c)"
   ]
  },
  {
   "cell_type": "code",
   "execution_count": 94,
   "metadata": {},
   "outputs": [
    {
     "name": "stdout",
     "output_type": "stream",
     "text": [
      "Soy un círculo centrado en Point(x: 0.0, y: 3.0) con radio 4.0\r\n"
     ]
    }
   ],
   "source": [
    "c.move(to: Point(x: 0, y: 3))\n",
    "print(c)"
   ]
  },
  {
   "cell_type": "markdown",
   "metadata": {},
   "source": [
    "**Observación**: ¿Por qué no es necesario poner `mutating` en la función `move`?"
   ]
  },
  {
   "cell_type": "code",
   "execution_count": null,
   "metadata": {},
   "outputs": [],
   "source": []
  },
  {
   "cell_type": "markdown",
   "metadata": {},
   "source": [
    "## `enum`s"
   ]
  },
  {
   "cell_type": "markdown",
   "metadata": {},
   "source": [
    "`enum` nos permite definir nuevos tipos cuyos valores se expresan por enumeración. Es decir, indicamos de forma explícita cuáles son los posibles valores que puede tomar una variable del tipo."
   ]
  },
  {
   "cell_type": "markdown",
   "metadata": {},
   "source": [
    "Supongamos que queremos ampliar nuestra definición de `Shape` para indicar de qué color es cada una de las instancias de `Shape` con las que trabajamos. El número de colores es limitado, puede ser uno de los siguientes colores básicos: rojo, azul, verde, amarillo, naranja, blanco, o negro.\n",
    "\n",
    "¿Cómo podemos modelar esto sin `enum`?\n",
    "\n",
    "**DISCUSION**"
   ]
  },
  {
   "cell_type": "code",
   "execution_count": null,
   "metadata": {},
   "outputs": [],
   "source": []
  },
  {
   "cell_type": "markdown",
   "metadata": {},
   "source": [
    "Inicialmente, podemos pensar en utilizar una variable de tipo `String` donde indicamos el color:"
   ]
  },
  {
   "cell_type": "code",
   "execution_count": 18,
   "metadata": {},
   "outputs": [],
   "source": [
    "struct Point {\n",
    "    var x: Double\n",
    "    var y: Double\n",
    "}"
   ]
  },
  {
   "cell_type": "code",
   "execution_count": 19,
   "metadata": {},
   "outputs": [],
   "source": [
    "class Shape: CustomStringConvertible {\n",
    "    var origin: Point\n",
    "    var color: String = \"white\"  // Default\n",
    "    \n",
    "    init(origin: Point = Point(x: 0, y: 0)) {\n",
    "        self.origin = origin\n",
    "    }\n",
    "        \n",
    "    var description: String { \"Shape@(\\(origin.x),\\(origin.y))-[\\(color)]\"}\n",
    "}"
   ]
  },
  {
   "cell_type": "code",
   "execution_count": 20,
   "metadata": {},
   "outputs": [
    {
     "name": "stdout",
     "output_type": "stream",
     "text": [
      "white\r\n"
     ]
    }
   ],
   "source": [
    "let x = Shape()\n",
    "print(x.color)"
   ]
  },
  {
   "cell_type": "code",
   "execution_count": 21,
   "metadata": {},
   "outputs": [
    {
     "name": "stdout",
     "output_type": "stream",
     "text": [
      "Shape@(0.0,0.0)-[white]\r\n"
     ]
    }
   ],
   "source": [
    "print(x)"
   ]
  },
  {
   "cell_type": "code",
   "execution_count": 23,
   "metadata": {},
   "outputs": [
    {
     "name": "stdout",
     "output_type": "stream",
     "text": [
      "Shape@(0.0,0.0)-[red]\r\n"
     ]
    }
   ],
   "source": [
    "x.color = \"red\"\n",
    "print(x)"
   ]
  },
  {
   "cell_type": "markdown",
   "metadata": {},
   "source": [
    "(Hemos utilizado un mensaje más compacto en `description` por concisión a la hora de mostrar resultados posteriormente)."
   ]
  },
  {
   "cell_type": "code",
   "execution_count": 24,
   "metadata": {},
   "outputs": [],
   "source": [
    "class Circle: Shape {\n",
    "    var radius: Double\n",
    "    \n",
    "    init(origin: Point, radius: Double) {\n",
    "        self.radius = radius\n",
    "        super.init(origin: origin)\n",
    "    }    \n",
    "}"
   ]
  },
  {
   "cell_type": "code",
   "execution_count": 25,
   "metadata": {},
   "outputs": [],
   "source": [
    "struct Size {\n",
    "    var width: Double\n",
    "    var height: Double\n",
    "}\n",
    "\n",
    "class Rectangle: Shape {\n",
    "    var size: Size\n",
    "    \n",
    "    init(origin: Point, size: Size) {\n",
    "        self.size = size\n",
    "        super.init(origin: origin)\n",
    "    }\n",
    "}\n",
    "\n",
    "class Square: Rectangle {    \n",
    "    init(origin: Point, side: Double) {\n",
    "        super.init(origin: origin, size: Size(width: side, height: side))\n",
    "    }\n",
    "}"
   ]
  },
  {
   "cell_type": "markdown",
   "metadata": {},
   "source": [
    "Supongamos también que estamos utilizando este modelo (el árbol de clases que descienden de `Shape`) para implementar un programa de dibujo. Nuestro programa podría tener almacenadas en un array las formas que hemos añadido en la aplicación, con sus posiciones, tamaños y colores.\n",
    "\n",
    "Este array estaría definido en nuestro programa principal:"
   ]
  },
  {
   "cell_type": "code",
   "execution_count": 26,
   "metadata": {},
   "outputs": [],
   "source": [
    "var shapes: [Shape] = []"
   ]
  },
  {
   "cell_type": "markdown",
   "metadata": {},
   "source": [
    "Al que le añadimos unas cuantas formas:"
   ]
  },
  {
   "cell_type": "code",
   "execution_count": 27,
   "metadata": {},
   "outputs": [
    {
     "name": "stdout",
     "output_type": "stream",
     "text": [
      "[Shape@(0.0,0.0)-[blue], Shape@(10.0,0.0)-[green], Shape@(2.5,2.5)-[bleu]]\r\n"
     ]
    }
   ],
   "source": [
    "var circle = Circle(origin: Point(x: 0, y: 0), radius: 3)\n",
    "circle.color = \"blue\"\n",
    "\n",
    "var rect = Rectangle(origin: Point(x: 10, y: 0), size: Size(width: 6, height: 2))\n",
    "rect.color = \"green\"\n",
    "\n",
    "var square = Square(origin: Point(x: 2.5, y: 2.5), side: 5)\n",
    "square.color = \"bleu\"\n",
    "\n",
    "shapes = shapes + [circle, rect, square]\n",
    "print(shapes)"
   ]
  },
  {
   "cell_type": "markdown",
   "metadata": {},
   "source": [
    "Ahora vamos a hacer una función para seleccionar únicamente las formas de un determinado color."
   ]
  },
  {
   "cell_type": "code",
   "execution_count": 28,
   "metadata": {},
   "outputs": [],
   "source": [
    "func shapesOfColor(_ color: String) -> [Shape] {\n",
    "    return shapes.filter { $0.color == color }\n",
    "}"
   ]
  },
  {
   "cell_type": "code",
   "execution_count": null,
   "metadata": {},
   "outputs": [],
   "source": [
    "func shapesOfColor(_ color: String) -> [Shape] {\n",
    "    var result: [Shape] = []\n",
    "    for s in shapes {\n",
    "        if s.color == color {\n",
    "            result.append(s)\n",
    "        }\n",
    "    }\n",
    "    return result\n",
    "}"
   ]
  },
  {
   "cell_type": "code",
   "execution_count": 29,
   "metadata": {},
   "outputs": [
    {
     "name": "stdout",
     "output_type": "stream",
     "text": [
      "[Shape@(0.0,0.0)-[blue]]\r\n"
     ]
    }
   ],
   "source": [
    "let blueShapes = shapesOfColor(\"blue\")\n",
    "print(blueShapes)"
   ]
  },
  {
   "cell_type": "markdown",
   "metadata": {},
   "source": [
    "¿Qué ha pasado? Obviamente, hemos cometido un error al crear el cuadrado azul, y hemos puesto mal el color. Podemos intentar arreglarlo, comprobando si los colores son válidos o no. De paso, demostraremos alguna característica adicional del lenguaje.\n",
    "\n",
    "Vamos a ello.\n",
    "Esta era nuestra implementación, la copiamos aquí como referencia:\n",
    "\n",
    "```Swift\n",
    "class Shape: CustomStringConvertible {\n",
    "    var origin: Point\n",
    "    var color: String = \"white\"  // Default\n",
    "    \n",
    "    init(origin: Point = Point(x: 0, y: 0)) {\n",
    "        self.origin = origin\n",
    "    }\n",
    "        \n",
    "    var description: String { \"Shape@(\\(origin.x),\\(origin.y))-[\\(color)]\"}\n",
    "}\n",
    "```"
   ]
  },
  {
   "cell_type": "code",
   "execution_count": 31,
   "metadata": {},
   "outputs": [],
   "source": [
    "class Shape: CustomStringConvertible {\n",
    "    let supportedColors = [\"red\", \"blue\", \"green\", \"yellow\", \"orange\", \"white\", \"black\"]\n",
    "    \n",
    "    var origin: Point\n",
    "    \n",
    "    private var _color = \"white\"\n",
    "    var color: String {\n",
    "        get { return _color }\n",
    "        set {\n",
    "            if supportedColors.contains(newValue) {\n",
    "                _color = newValue\n",
    "            } else {\n",
    "                // What to do here?\n",
    "                _color = \"unknown\"\n",
    "            }\n",
    "        }\n",
    "    }\n",
    "    \n",
    "    init(origin: Point = Point(x: 0, y: 0)) {\n",
    "        self.origin = origin\n",
    "    }\n",
    "        \n",
    "    var description: String { \"Shape@(\\(origin.x),\\(origin.y))-[\\(color)]\"}\n",
    "}"
   ]
  },
  {
   "cell_type": "code",
   "execution_count": 32,
   "metadata": {},
   "outputs": [
    {
     "name": "stdout",
     "output_type": "stream",
     "text": [
      "red\r\n"
     ]
    }
   ],
   "source": [
    "var anotherShape = Shape()\n",
    "anotherShape.color = \"red\"\n",
    "print(anotherShape.color)"
   ]
  },
  {
   "cell_type": "code",
   "execution_count": 33,
   "metadata": {},
   "outputs": [
    {
     "name": "stdout",
     "output_type": "stream",
     "text": [
      "unknown\r\n"
     ]
    }
   ],
   "source": [
    "anotherShape.color = \"ornage\"\n",
    "print(anotherShape.color)"
   ]
  },
  {
   "cell_type": "markdown",
   "metadata": {},
   "source": [
    "El código anterior trata de comprobar si el color que intentamos escribir en la propiedad es válido o no, comparando con un array que tiene todas las posibilidades permitidas. Si es válido, lo acepta; pero en caso de no serlo lo rechazamos utilizando un color especial que hemos llamado `unknown`.\n",
    "\n",
    "Hemos cambiado la propiedad `color`. Ahora es una propiedad que tiene asignados dos fragmentos de código:\n",
    "- El fragmento que aparece después de `get` se ejecuta cuando queremos leer el valor de la propiedad. Es lo que se denomina el \"getter\" de la propiedad.\n",
    "- El fragmento que aparece después de `set` se ejecuta cuando queremos asignar un nuevo valor a la propiedad. Se denomina \"setter\". `newValue` es una variable especial del setter que contiene el nuevo valor que estamos intentando asignar.\n",
    "\n",
    "El dato en sí se guarda esta vez en _otra_ variable llamada `_color`, que hemos definido como privada `private` para asegurarnos de que nadie pueda modificarla. Tan sólo el _getter_ y el _setter_ de `color` son los que acceden a esa propiedad."
   ]
  },
  {
   "cell_type": "markdown",
   "metadata": {},
   "source": [
    "A pesar de nuestros esfuerzos, cuando nos equivocamos de color no hay solución sencilla:\n",
    "- ¿Utilizamos un valor especial, como hemos hecho? ¿Cómo hacemos saber a los usuarios de este código que ha habido un error?\n",
    "- ¿Ponemos el valor por defecto (blanco), e ignoramos el cambio?\n",
    "- ¿Hacemos `_color` opcional para que pueda ser `nil` en este caso?\n",
    "\n",
    "Como podemos ver, **el código se empieza a complicar rápidamente, y empezamos a tener estados inconsistentes en nuestro programa**."
   ]
  },
  {
   "cell_type": "markdown",
   "metadata": {},
   "source": [
    "Nota: si en lugar de un `String` para codificar el color hubiéramos utilizado un número, estaríamos más o menos en la misma situación, y además el código sería más difícil de leer (tendríamos que recordar la correspondencia entre número y color)."
   ]
  },
  {
   "cell_type": "markdown",
   "metadata": {},
   "source": [
    "-----"
   ]
  },
  {
   "cell_type": "markdown",
   "metadata": {},
   "source": [
    "**Solución con `enum`**"
   ]
  },
  {
   "cell_type": "code",
   "execution_count": 34,
   "metadata": {},
   "outputs": [],
   "source": [
    "enum Color {\n",
    "    case red\n",
    "    case blue\n",
    "    case green\n",
    "    case yellow\n",
    "    case orange\n",
    "    case white\n",
    "    case black\n",
    "}"
   ]
  },
  {
   "cell_type": "code",
   "execution_count": 35,
   "metadata": {},
   "outputs": [],
   "source": [
    "let blue = Color.blue"
   ]
  },
  {
   "cell_type": "code",
   "execution_count": 36,
   "metadata": {},
   "outputs": [
    {
     "ename": "",
     "evalue": "",
     "output_type": "error",
     "traceback": [
      "error: <Cell 36>:1:23: error: type 'Color' has no member 'bleu'\nlet otroColor = Color.bleu\n                ~~~~~ ^~~~\n\n"
     ]
    }
   ],
   "source": [
    "let otroColor = Color.bleu"
   ]
  },
  {
   "cell_type": "markdown",
   "metadata": {},
   "source": [
    "Recordemos la explicación inicial: el tipo `Color` es un enumerado que contiene de forma explícita los valores que pueden tomar las variables de ese tipo.\n",
    "\n",
    "Los diferentes \"casos\" que puede tomar la variable **no** son `String`s. Son identificadores, igual que las variables o los nombres de las funciones. Esto es bueno, porque permite al compilador avisarnos de que hay errores."
   ]
  },
  {
   "cell_type": "code",
   "execution_count": 38,
   "metadata": {},
   "outputs": [],
   "source": [
    "class Shape: CustomStringConvertible {\n",
    "    var origin: Point\n",
    "    var color: Color = Color.white\n",
    "    \n",
    "    init(origin: Point = Point(x: 0, y: 0)) {\n",
    "        self.origin = origin\n",
    "    }\n",
    "        \n",
    "    var description: String { \"Shape@(\\(origin.x),\\(origin.y))-[\\(color)]\"}\n",
    "}"
   ]
  },
  {
   "cell_type": "markdown",
   "metadata": {},
   "source": [
    "Los casos se especifican con el nombre del tipo y después el nombre del caso, separados por `.`: `Color.white`.\n",
    "Si no existe ambigüedad, podemos omitir el nombre del tipo (pero no el punto):"
   ]
  },
  {
   "cell_type": "code",
   "execution_count": 39,
   "metadata": {},
   "outputs": [],
   "source": [
    "var anotherShape = Shape()\n",
    "anotherShape.color = Color.red\n",
    "anotherShape.color = .blue      // Omitimos nombre del tipo"
   ]
  },
  {
   "cell_type": "code",
   "execution_count": 40,
   "metadata": {},
   "outputs": [
    {
     "ename": "",
     "evalue": "",
     "output_type": "error",
     "traceback": [
      "error: <Cell 40>:1:23: error: type 'Color' has no member 'bleu'\nanotherShape.color = .bleu\n                     ~^~~~\n\n"
     ]
    }
   ],
   "source": [
    "anotherShape.color = .bleu"
   ]
  },
  {
   "cell_type": "markdown",
   "metadata": {},
   "source": [
    "Es **imposible** introducir un valor no contemplado, el compilador nos avisa antes de intentar ejecutar el código. El programa nunca estará en un estado inconsistente por este motivo."
   ]
  },
  {
   "cell_type": "code",
   "execution_count": 41,
   "metadata": {},
   "outputs": [
    {
     "name": "stdout",
     "output_type": "stream",
     "text": [
      "Color\r\n"
     ]
    }
   ],
   "source": [
    "print(type(of: anotherShape.color))"
   ]
  },
  {
   "cell_type": "markdown",
   "metadata": {},
   "source": [
    "### `switch`"
   ]
  },
  {
   "cell_type": "markdown",
   "metadata": {},
   "source": [
    "Supongamos ahora que nuestro programa está destinado a hispanohablantes y queremos mostrar el nombre de los diferentes colores en español, independientemente del nombre simbólico que le hemos dado en el código. Podemos hacer una función o una propiedad para obtener el `String` correspondiente.\n",
    "\n",
    "Podríamos hacer la conversión dentro de `Shape`. Pero, al igual que hemos visto en otros casos, en Swift se pueden añadir propiedades a cualquier tipo. Esto es válido también para `enum`s."
   ]
  },
  {
   "cell_type": "code",
   "execution_count": 42,
   "metadata": {},
   "outputs": [],
   "source": [
    "extension Color {\n",
    "    var spanishName: String {\n",
    "        switch self {\n",
    "            case .red    : return \"rojo\"\n",
    "            case .blue   : return \"azul\"\n",
    "            case .green  : return \"verde\"\n",
    "            case .yellow : return \"amarillo\"\n",
    "            case .orange : return \"naranja\"\n",
    "            case .white  : return \"blanco\"\n",
    "            case .black  : return \"negro\"\n",
    "        }\n",
    "    }\n",
    "}"
   ]
  },
  {
   "cell_type": "code",
   "execution_count": 43,
   "metadata": {},
   "outputs": [
    {
     "name": "stdout",
     "output_type": "stream",
     "text": [
      "blue\r\n"
     ]
    }
   ],
   "source": [
    "print(blue)"
   ]
  },
  {
   "cell_type": "code",
   "execution_count": 44,
   "metadata": {},
   "outputs": [
    {
     "name": "stdout",
     "output_type": "stream",
     "text": [
      "azul\r\n"
     ]
    }
   ],
   "source": [
    "print(blue.spanishName)"
   ]
  },
  {
   "cell_type": "code",
   "execution_count": 36,
   "metadata": {},
   "outputs": [
    {
     "name": "stdout",
     "output_type": "stream",
     "text": [
      "azul\r\n"
     ]
    }
   ],
   "source": [
    "print(anotherShape.color.spanishName)"
   ]
  },
  {
   "cell_type": "markdown",
   "metadata": {},
   "source": [
    "`switch` funciona examinando el valor de la expresión que se le indica, y comparando dicho valor con las expresiones que aparecen en cada uno de los casos que figuran a continuación. Cuando las dos expresiones coinciden, se ejecuta el código que aparece después del `case` correspondiente.\n",
    "\n",
    "En este ejemplo, `self` hace referencia a la variable de tipo `Color` donde está definida la propiedad `spanishName`, que es donde hemos puesto el `switch`."
   ]
  },
  {
   "cell_type": "markdown",
   "metadata": {},
   "source": [
    "`switch` no sólo sirve para comparar tipos enumerados. Puede utilizarse con otros tipos, y admite patrones mucho más complejos. Por ejemplo:"
   ]
  },
  {
   "cell_type": "code",
   "execution_count": 47,
   "metadata": {},
   "outputs": [
    {
     "name": "stdout",
     "output_type": "stream",
     "text": [
      "sobresaliente\r\n"
     ]
    }
   ],
   "source": [
    "var nota = 8.9\n",
    "switch nota {\n",
    "    case 0..<5: print(\"suspenso\")\n",
    "    case 5..<7: print(\"aprobado\")\n",
    "    case 7..<8.5: print(\"notable\")\n",
    "    case 8.5..<10: print(\"sobresaliente\")\n",
    "    case 10: print(\"matrícula de honor\")\n",
    "    default: print(\"np\")\n",
    "}"
   ]
  },
  {
   "cell_type": "markdown",
   "metadata": {},
   "source": [
    "Obsérvese cómo podemos comparar si la variable `nota` está comprendida dentro de un cierto rango, o es exactamente igual a un valor concreto.\n",
    "\n",
    "Cuando usamos `switch` es obligatorio contemplar _todos_ los casos posibles. Por eso hemos introducido el caso `default`, que se verifica cuando no se cumple ninguno de los otros. Esto es así porque nuestra variable `nota` es un `Double`, y por tanto puede tomar cualquier valor real, no sólo los comprendidos entre 0 y 10. "
   ]
  },
  {
   "cell_type": "markdown",
   "metadata": {},
   "source": [
    "### Valores asociados a `enum`s (_associated values_)"
   ]
  },
  {
   "cell_type": "markdown",
   "metadata": {},
   "source": [
    "Supongamos que queremos hacer una aplicación tipo agenda, en la que vamos apuntando distintas actividades. Un tipo de actividades son las de ocio, que podemos modelar con un tipo enumerado. Por ejemplo, podemos tener un tipo para entrenar, otro para ver una serie de televisión, otro diferente para jugar al ordenador o consola, etc.\n",
    "\n",
    "Los `enum`s tienen riqueza suficiente para asociar a cada variable del tipo detalles adicionales, que pueden ser diferentes según la actividad. Por ejemplo:"
   ]
  },
  {
   "cell_type": "code",
   "execution_count": null,
   "metadata": {},
   "outputs": [],
   "source": [
    "enum LeisureActivity {\n",
    "    case workout\n",
    "    case tvshow\n",
    "    case gaming\n",
    "}"
   ]
  },
  {
   "cell_type": "code",
   "execution_count": 48,
   "metadata": {},
   "outputs": [],
   "source": [
    "enum LeisureActivity {\n",
    "    case workout(exercise: String, minutes: Int)\n",
    "    case tvshow(title: String, season: Int, episode: Int)\n",
    "    case gaming(game: String, character: String)\n",
    "}"
   ]
  },
  {
   "cell_type": "markdown",
   "metadata": {},
   "source": [
    "Podemos definir variables de este tipo, pero cada una con detalles diferentes:"
   ]
  },
  {
   "cell_type": "code",
   "execution_count": 49,
   "metadata": {},
   "outputs": [],
   "source": [
    "var mondayActivity = LeisureActivity.workout(exercise: \"running\", minutes: 60)\n",
    "var tuesdayActivity = LeisureActivity.tvshow(title: \"JoJo's Bizarre Adventure\", season: 2, episode: 47)\n",
    "var wednesdayActivity = LeisureActivity.gaming(game: \"League of Legends\", character: \"Lulu\")\n",
    "var thursdayActivity = LeisureActivity.workout(exercise: \"hiit\", minutes: 30)"
   ]
  },
  {
   "cell_type": "markdown",
   "metadata": {},
   "source": [
    "Si quisiéramos mostrar en nuestra aplicación un mensaje apropiado según el tipo de actividad, podríamos componer el mensaje utilizando un `switch`. En este caso podemos acceder a los detalles asociados de la siguiente manera:"
   ]
  },
  {
   "cell_type": "code",
   "execution_count": 50,
   "metadata": {},
   "outputs": [],
   "source": [
    "extension LeisureActivity {\n",
    "    var message: String {\n",
    "        switch self {\n",
    "            case .workout(let minutes):\n",
    "                return \"Ponte el chandal, vamos a entrenar \\(minutes) minutillos de nada!\"\n",
    "            case .tvshow(let title, let season, let episode):\n",
    "                return \"Es hora de ver qué pasa en \\(title) S\\(season)E\\(episode)!\"\n",
    "            case .gaming(let game, let character):\n",
    "                return \"Tus amigos no creen que puedas ganar con \\(character). Abre el \\(game) y demuéstrales lo contrario!\"\n",
    "        }\n",
    "    }\n",
    "}"
   ]
  },
  {
   "cell_type": "markdown",
   "metadata": {},
   "source": [
    "El mensaje, así pues, sería diferente para cada actividad, incluyendo los detalles de la misma:"
   ]
  },
  {
   "cell_type": "code",
   "execution_count": 51,
   "metadata": {},
   "outputs": [
    {
     "name": "stdout",
     "output_type": "stream",
     "text": [
      "Ponte el chandal, vamos a entrenar (exercise: \"running\", minutes: 60) minutillos de nada!\r\n",
      "Es hora de ver qué pasa en JoJo's Bizarre Adventure S2E47!\r\n",
      "Tus amigos no creen que puedas ganar con Lulu. Abre el League of Legends y demuéstrales lo contrario!\r\n"
     ]
    }
   ],
   "source": [
    "print(mondayActivity.message)\n",
    "print(tuesdayActivity.message)\n",
    "print(wednesdayActivity.message)"
   ]
  },
  {
   "cell_type": "markdown",
   "metadata": {},
   "source": [
    "**Ejercicio 8**"
   ]
  },
  {
   "cell_type": "markdown",
   "metadata": {},
   "source": [
    "Queremos programar un juego en el que un personaje se mueve por un tablero. La posición del personaje se especifica mediante una componente `x` (horizontal) y una componente `y` (vertical). El personaje puede moverse hacia arriba, abajo, izquierda y derecha. Un movimiento hacia la derecha incrementa el valor de `x`, y un movimiento hacia arriba incrementa el valor de `y`; los movimientos en sentido contrario restan `1` a la componente correspondiente."
   ]
  },
  {
   "cell_type": "markdown",
   "metadata": {},
   "source": [
    "Hemos decidido modelar la posición y el movimiento con los siguientes tipos:"
   ]
  },
  {
   "cell_type": "code",
   "execution_count": 52,
   "metadata": {},
   "outputs": [],
   "source": [
    "struct Location {\n",
    "    var x = 0\n",
    "    var y = 0\n",
    "}\n",
    "\n",
    "enum Direction {\n",
    "    case up\n",
    "    case down\n",
    "    case left\n",
    "    case right\n",
    "}"
   ]
  },
  {
   "cell_type": "markdown",
   "metadata": {},
   "source": [
    "Se pide:\n",
    "\n",
    "Escribe una función llamada `move` a la que se le indique la dirección de movimiento, y actualice la posición según las reglas dadas. Dicha función debe implementarse como parte de la estructura `Location`."
   ]
  },
  {
   "cell_type": "code",
   "execution_count": 56,
   "metadata": {},
   "outputs": [],
   "source": [
    "extension Location {\n",
    "    mutating func move(_ direction: Direction) {\n",
    "        switch direction {\n",
    "            case .up   : self.y += 1\n",
    "            case .down : self.y -= 1\n",
    "            case .left : self.x -= 1\n",
    "            case .right: self.x += 1\n",
    "        }\n",
    "    }\n",
    "}"
   ]
  },
  {
   "cell_type": "code",
   "execution_count": 57,
   "metadata": {},
   "outputs": [],
   "source": [
    "var characterPosition = Location()"
   ]
  },
  {
   "cell_type": "code",
   "execution_count": 58,
   "metadata": {},
   "outputs": [
    {
     "name": "stdout",
     "output_type": "stream",
     "text": [
      "0\r\n"
     ]
    }
   ],
   "source": [
    "print(characterPosition.y)"
   ]
  },
  {
   "cell_type": "code",
   "execution_count": 59,
   "metadata": {},
   "outputs": [],
   "source": [
    "characterPosition.move(.up)"
   ]
  },
  {
   "cell_type": "code",
   "execution_count": 60,
   "metadata": {},
   "outputs": [
    {
     "name": "stdout",
     "output_type": "stream",
     "text": [
      "1\r\n"
     ]
    }
   ],
   "source": [
    "print(characterPosition.y)"
   ]
  },
  {
   "cell_type": "code",
   "execution_count": null,
   "metadata": {},
   "outputs": [],
   "source": [
    "var characterPosition = Location()\n",
    "characterPosition.move(.up)\n",
    "print(characterPosition)"
   ]
  },
  {
   "cell_type": "markdown",
   "metadata": {},
   "source": [
    "Puedes utilizar el siguiente fragmento para probar tu código. Comenzando en la posición `(0, 0)`, el personaje debe acabar en la posición `(1, 2)` después de la secuencia indicada."
   ]
  },
  {
   "cell_type": "code",
   "execution_count": 61,
   "metadata": {},
   "outputs": [
    {
     "name": "stdout",
     "output_type": "stream",
     "text": [
      "Location(x: 1, y: 2)\r\n"
     ]
    }
   ],
   "source": [
    "var characterPosition = Location()\n",
    "var steps: [Direction] = [.up, .left, .up, .up, .right, .right, .down]\n",
    "for direction in steps { characterPosition.move(direction) }\n",
    "print(characterPosition)"
   ]
  },
  {
   "cell_type": "markdown",
   "metadata": {},
   "source": [
    "## Excepciones"
   ]
  },
  {
   "cell_type": "markdown",
   "metadata": {},
   "source": [
    "Las excepciones son el mecanismo que tiene Swift para indicar la presencia de errores en el código. Los errores pueden producirse por diversos motivos:\n",
    "* Se ha enviado un dato inesperado o que se sale del rango aceptado por una función, que no sabe qué hacer con él. Es, por ejemplo, el caso de las comprobaciones que hicimos en el cálculo de la raíz cuadrada de un número.\n",
    "* Se ha producido una condición inesperada o errónea en la aplicación. Por ejemplo, tratamos de conectar a un servidor y es imposible establecer la comunicación. O intentamos leer un fichero y el sistema operativo nos dice que ha habido un error de lectura."
   ]
  },
  {
   "cell_type": "markdown",
   "metadata": {},
   "source": [
    "Para poder utilizar excepciones, primero hemos de definir los errores que nuestro código puede generar. Esto se hace con un `enum`. Este `enum` es especial, en el sentido que debe adoptar el protocolo `Error` (que es estándar del sistema)."
   ]
  },
  {
   "cell_type": "markdown",
   "metadata": {},
   "source": [
    "Por ejemplo, supongamos que estamos escribiendo un juego multijugador en el que el usuario tiene que conectarse al servidor para poder jugar. Podemos crear un `enum` con los distintos tipos de error que se pueden dar en esta situación:"
   ]
  },
  {
   "cell_type": "code",
   "execution_count": 1,
   "metadata": {},
   "outputs": [],
   "source": [
    "enum ConnectionError: Error {\n",
    "    case noNetwork      // El ordenador no está conectado a Internet\n",
    "    case noConnection   // No podemos establecer conexión con el servidor\n",
    "    case badPassword    // Las credenciales introducidas no son correctas\n",
    "    // etc\n",
    "}"
   ]
  },
  {
   "cell_type": "markdown",
   "metadata": {},
   "source": [
    "La función (o funciones) que establecen la conexión y hacen el login pueden \"lanzar\" los distintos errores representados por el `enum` que acabamos de describir. Se utiliza para ello la palabra **`throws`** en la declaración de la función."
   ]
  },
  {
   "cell_type": "code",
   "execution_count": 2,
   "metadata": {},
   "outputs": [],
   "source": [
    "func connect(server: String) throws -> Bool {\n",
    "    if server == \"siempre_caido.com\" {\n",
    "        throw ConnectionError.noConnection\n",
    "    }\n",
    "    \n",
    "    return true\n",
    "}"
   ]
  },
  {
   "cell_type": "markdown",
   "metadata": {},
   "source": [
    "Observa que, en el caso de producirse una excepción, utilizamos `throw` para lanzar el error correspondiente. En este caso no es necesario utilizar `return` para salir de la función: el flujo de ejecución se interrumpe y termina la ejecución de la función."
   ]
  },
  {
   "cell_type": "markdown",
   "metadata": {},
   "source": [
    "Para invocar una función que lanza excepciones, hemos de hacerlo del siguiente modo:"
   ]
  },
  {
   "cell_type": "code",
   "execution_count": 3,
   "metadata": {},
   "outputs": [
    {
     "name": "stdout",
     "output_type": "stream",
     "text": [
      "Error de conexión: noConnection\r\n"
     ]
    }
   ],
   "source": [
    "let server = \"siempre_caido.com\"\n",
    "do {\n",
    "    let connected = try connect(server: server)\n",
    "    print(\"Estamos conectados\")\n",
    "} catch {\n",
    "    print(\"Error de conexión: \\(error)\")\n",
    "}"
   ]
  },
  {
   "cell_type": "markdown",
   "metadata": {},
   "source": [
    "Prueba: cambia el nombre del servidor por `siempre_caido.com`."
   ]
  },
  {
   "cell_type": "code",
   "execution_count": null,
   "metadata": {},
   "outputs": [],
   "source": []
  },
  {
   "cell_type": "markdown",
   "metadata": {},
   "source": [
    "Si la función `connect` funciona correctamente, el programa sigue por la línea siguiente a la invocación, como siempre. En nuestro caso, lo único que hacemos en este ejemplo es imprimir un mensaje.\n",
    "\n",
    "Si, por el contrario, se lanza una excepción, el programa continúa por el bloque `catch`. En este bloque tenemos acceso a una variable llamada `error` que contiene el error que se ha capturado."
   ]
  },
  {
   "cell_type": "markdown",
   "metadata": {},
   "source": [
    "Podemos gestionar los diferentes errores de manera independiente. En algunos casos nuestro programa podrá continuar aplicando soluciones alternativas (por ejemplo, conectando a otro servidor), y en otros podremos al menos mostrar un error \"decente\" al usuario."
   ]
  },
  {
   "cell_type": "code",
   "execution_count": 13,
   "metadata": {},
   "outputs": [
    {
     "name": "stdout",
     "output_type": "stream",
     "text": [
      "Estamos conectados\r\n"
     ]
    }
   ],
   "source": [
    "let server = \"good_server.com\"\n",
    "do {\n",
    "    let connected = try connect(server: server)\n",
    "    print(\"Estamos conectados\")\n",
    "} catch ConnectionError.noNetwork {\n",
    "    print(\"Parece que tu ordenador no está conectado a Internet.\")\n",
    "} catch ConnectionError.badPassword {\n",
    "    print(\"Contraseña incorrecta, por favor introdúcela de nuevo.\")\n",
    "} catch {\n",
    "    print(\"Error de conexión: \\(error)\")\n",
    "}"
   ]
  },
  {
   "cell_type": "markdown",
   "metadata": {},
   "source": [
    "En este ejemplo tratamos de forma específica los errores `.noNetwork` y `.badPassword`. Cualquier otro tipo de error lo capturamos en el último `catch` que no tiene parámetros."
   ]
  },
  {
   "cell_type": "markdown",
   "metadata": {},
   "source": [
    "**Ejercicio 9**\n",
    "\n",
    "En el juego que esbozamos en el ejercicio 8, consideramos que nuestro mapa tiene unas dimensiones de 10x8. El jugador comienza a moverse en la celda (0, 0), que es la que está en la esquina inferior izquierda. Amplía el código para detectar si el jugador se saldría por uno de los lados del tablero. La función `move` debe lanzar una excepción indicando el lado en el que se ha llegado al extremo.\n",
    "\n",
    "Te damos a continuación un esqueleto del código que puedes comenzar a utilizar."
   ]
  },
  {
   "cell_type": "code",
   "execution_count": 15,
   "metadata": {},
   "outputs": [],
   "source": [
    "struct Board {\n",
    "    var width = 10\n",
    "    var height = 8\n",
    "}"
   ]
  },
  {
   "cell_type": "code",
   "execution_count": 54,
   "metadata": {},
   "outputs": [],
   "source": [
    "extension Location {\n",
    "    enum MoveError: Error {\n",
    "        // Your code here\n",
    "\n",
    "    }\n",
    "    \n",
    "    mutating func move(_ direction: Direction, within board: Board) throws {\n",
    "        // Your code here\n",
    "\n",
    "    }\n",
    "}"
   ]
  },
  {
   "cell_type": "code",
   "execution_count": 44,
   "metadata": {},
   "outputs": [],
   "source": [
    "var character = Location()\n",
    "var board = Board()"
   ]
  },
  {
   "cell_type": "code",
   "execution_count": 56,
   "metadata": {},
   "outputs": [],
   "source": [
    "func moveCharacter(_ direction: Direction) {\n",
    "    do {\n",
    "        try character.move(direction, within: board)\n",
    "        print(character)\n",
    "    } catch {\n",
    "        print(\"No puedo avanzar! Extremo alcanzado: \\(error)\")\n",
    "        print(\"Posición actual: \\(character)\")\n",
    "    }\n",
    "}"
   ]
  },
  {
   "cell_type": "code",
   "execution_count": 70,
   "metadata": {},
   "outputs": [
    {
     "name": "stdout",
     "output_type": "stream",
     "text": [
      "No puedo avanzar! Extremo alcanzado: right\r\n",
      "Posición actual: Location(x: 9, y: 7)\r\n"
     ]
    }
   ],
   "source": [
    "moveCharacter(.right)"
   ]
  },
  {
   "cell_type": "markdown",
   "metadata": {},
   "source": [
    "------"
   ]
  },
  {
   "cell_type": "markdown",
   "metadata": {},
   "source": [
    "Los enumerados que usamos en las excepciones pueden también llevar valores asociados. Esto nos permite dar detalles adicionales sobre el error que se ha producido.\n",
    "\n",
    "En el último ejemplo, en realidad la condición de error es siempre la misma (se ha alcanzado uno de los extremos del tablero). En lugar de modelarlo como 4 errores diferentes, podemos hacerlo con uno solo, del siguiente modo:"
   ]
  },
  {
   "cell_type": "code",
   "execution_count": 78,
   "metadata": {},
   "outputs": [],
   "source": []
  },
  {
   "cell_type": "code",
   "execution_count": null,
   "metadata": {},
   "outputs": [],
   "source": []
  },
  {
   "cell_type": "markdown",
   "metadata": {},
   "source": [
    "------"
   ]
  }
 ],
 "metadata": {
  "kernelspec": {
   "display_name": "Swift",
   "language": "swift",
   "name": "swift"
  },
  "language_info": {
   "file_extension": ".swift",
   "mimetype": "text/x-swift",
   "name": "swift",
   "version": ""
  }
 },
 "nbformat": 4,
 "nbformat_minor": 4
}
