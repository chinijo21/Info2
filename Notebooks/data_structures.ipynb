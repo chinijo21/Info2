{
 "cells": [
  {
   "cell_type": "markdown",
   "metadata": {},
   "source": [
    "# Estructuras básicas de datos"
   ]
  },
  {
   "cell_type": "markdown",
   "metadata": {},
   "source": [
    "En este capítulo veremos cómo implementar en Swift algunas estructuras de datos fundamentales.\n",
    "\n",
    "Las **estructuras de datos** son abstracciones que nos permiten almacenar datos siguiendo unos parámetros conocidos en cuanto al uso de las colecciones y el consumo de memoria asociado a las mismas. Una vez conocemos cómo funciona una lista enlazada, una pila o una cola, podemos utilizarlas para diferentes propósitos.\n",
    "\n",
    "Las estructuras de datos son conceptos generales que pueden utilizarse en cualquier lenguaje de programación, de modo que el conocimiento de su funcionamiento es esencial independientemente del lenguaje que estemos utilizando."
   ]
  },
  {
   "cell_type": "markdown",
   "metadata": {},
   "source": [
    "1. [Listas enlazadas](#Listas-enlazadas)\n",
    "2. [Pilas (_Stacks_)](#Pilas-(Stacks))\n",
    "3. [Genéricos](#Gen%C3%A9ricos)\n",
    "4. [Colas (_Queues_)](#Colas-(Queues))"
   ]
  },
  {
   "cell_type": "markdown",
   "metadata": {},
   "source": [
    "## Listas enlazadas"
   ]
  },
  {
   "cell_type": "markdown",
   "metadata": {},
   "source": [
    "Una lista enlazada (_linked list_) está formada por un conjunto de nodos. Cada nodo contiene dos elementos:\n",
    "* Un **valor**. Es el dato que queremos almacenar.\n",
    "* Una referencia al **siguiente nodo**.\n",
    "\n",
    "![Lista enlazada](img/linked-list.png \"Ejemplo de lista enlazada de enteros\")"
   ]
  },
  {
   "cell_type": "markdown",
   "metadata": {},
   "source": [
    "En Swift podemos modelar un **nodo** como una clase con esos dos campos. La siguiente celda define un nodo para almacenar valores de tipo `String`."
   ]
  },
  {
   "cell_type": "code",
   "execution_count": null,
   "metadata": {},
   "outputs": [],
   "source": [
    "class Node {\n",
    "    var value: String\n",
    "    var next: Node?\n",
    "    var previous: Node?\n",
    "    \n",
    "    init(value: String, next: Node? = nil, previous: Node? = nil) {\n",
    "        self.value = value\n",
    "        self.next = next\n",
    "        self.previous = previous\n",
    "    }\n",
    "}"
   ]
  },
  {
   "cell_type": "markdown",
   "metadata": {},
   "source": [
    "Utilizando el concepto de nodo podemos construir una lista:"
   ]
  },
  {
   "cell_type": "code",
   "execution_count": null,
   "metadata": {},
   "outputs": [],
   "source": [
    "let n1 = Node(value: \"urjc\")\n",
    "let n2 = Node(value: \"stanford\")\n",
    "let n3 = Node(value: \"mit\")"
   ]
  },
  {
   "cell_type": "code",
   "execution_count": null,
   "metadata": {},
   "outputs": [],
   "source": [
    "n1.next = n2\n",
    "n2.next = n3"
   ]
  },
  {
   "cell_type": "markdown",
   "metadata": {},
   "source": [
    "La celda anterior establece que el _siguiente_ a `n1` es `n2`. A su vez, el nodo que sigue a `n2` as `n3`."
   ]
  },
  {
   "cell_type": "markdown",
   "metadata": {},
   "source": [
    "Vamos a implementar `description` para verlo más claro. Cuando hacemos `print` de un nodo mostramos su valor y, si tiene `next`, mostramos el siguiente nodo:"
   ]
  },
  {
   "cell_type": "code",
   "execution_count": null,
   "metadata": {},
   "outputs": [],
   "source": [
    "extension Node : CustomStringConvertible {\n",
    "    public var description: String {\n",
    "        guard let next = next else { return \"[\\(value)]\" }\n",
    "        return \"[\\(value)] -> \\(next)\"\n",
    "    }\n",
    "}"
   ]
  },
  {
   "cell_type": "code",
   "execution_count": null,
   "metadata": {},
   "outputs": [],
   "source": [
    "print(n1)"
   ]
  },
  {
   "cell_type": "markdown",
   "metadata": {},
   "source": [
    "La manipulación manual de nodos es prolija y propensa a error. El paso natural es **encapsular** algunas operaciones básicas dentro de un tipo especial que llamaremos `LinkedList`. Una lista enlazada viene definida fundamentalmente por la _cabeza_ de la lista. Si tenemos una referencia al primer nodo, podemos acceder a toda la lista."
   ]
  },
  {
   "cell_type": "code",
   "execution_count": null,
   "metadata": {},
   "outputs": [],
   "source": [
    "struct LinkedList {\n",
    "    var head: Node?\n",
    "}"
   ]
  },
  {
   "cell_type": "code",
   "execution_count": null,
   "metadata": {},
   "outputs": [],
   "source": [
    "extension LinkedList : CustomStringConvertible {\n",
    "    public var description: String {\n",
    "        guard let head = head else { return \"Empty list.\" }\n",
    "        return \"\\(head)\"\n",
    "    }\n",
    "}"
   ]
  },
  {
   "cell_type": "code",
   "execution_count": null,
   "metadata": {},
   "outputs": [],
   "source": [
    "var lista = LinkedList(head: n1)"
   ]
  },
  {
   "cell_type": "code",
   "execution_count": null,
   "metadata": {},
   "outputs": [],
   "source": [
    "print(lista)"
   ]
  },
  {
   "cell_type": "markdown",
   "metadata": {},
   "source": [
    "Con esto ganamos poco, seguimos teniendo que manipular los nodos manualmente. Vamos a incorporar una función para añadir nodos **al final de la lista**. Además, en lugar de construir los nodos podemos dar simplemente los valores y que se encargue de construirlos la propia lista.\n",
    "\n",
    "Recordemos que nuestros nodos están diseñados por el momento para almacenar `String`s."
   ]
  },
  {
   "cell_type": "markdown",
   "metadata": {},
   "source": [
    "### Añadiendo nodos al final de la lista"
   ]
  },
  {
   "cell_type": "code",
   "execution_count": null,
   "metadata": {},
   "outputs": [],
   "source": [
    "extension LinkedList {\n",
    "    func findLast() -> Node? {\n",
    "        guard let head = head else { return nil }\n",
    "        var node = head\n",
    "        while node.next != nil {\n",
    "            node = node.next!\n",
    "        }\n",
    "        return node\n",
    "    }\n",
    "    \n",
    "    mutating func append(_ value: String) {\n",
    "        let newNode = Node(value: value)\n",
    "        if let lastNode = findLast() {\n",
    "            lastNode.next = newNode\n",
    "        } else {\n",
    "            head = newNode\n",
    "        }\n",
    "    }\n",
    "}"
   ]
  },
  {
   "cell_type": "code",
   "execution_count": null,
   "metadata": {},
   "outputs": [],
   "source": [
    "var lista = LinkedList()"
   ]
  },
  {
   "cell_type": "code",
   "execution_count": null,
   "metadata": {},
   "outputs": [],
   "source": [
    "print(lista)"
   ]
  },
  {
   "cell_type": "code",
   "execution_count": null,
   "metadata": {},
   "outputs": [],
   "source": [
    "lista.append(\"a\")\n",
    "lista.append(\"b\")\n",
    "lista.append(\"c\")\n",
    "print(lista)"
   ]
  },
  {
   "cell_type": "markdown",
   "metadata": {},
   "source": [
    "Funciona, pero hay un problema de eficiencia: **estamos recorriendo la lista entera cada vez que queremos añadir un elemento**.\n",
    "\n",
    "¿Cómo podemos solucionarlo?"
   ]
  },
  {
   "cell_type": "markdown",
   "metadata": {},
   "source": [
    "Una forma es guardar en una variable el último elemento de la lista. Igual que tenemos una variable `head` que apunta al primero, utilizaremos `tail` para apuntar al último.\n",
    "\n",
    "En las extensiones no podemos añadir variables, así que tenemos que repetir la definición de `LinkedList`. La siguiente definición sustituye a la dada anteriormente. Vamos a aprovechar para que tanto `head` como `tail` sean privadas, de modo que no puedan ser manipuladas accidentalmente por nadie, excepto la propia lista. Utilizaremos un mecanismo especial, **`private(set)`**, que significa que la variable correspondiente no se puede modificar, pero **sí se puede consultar**. Esto nos permitirá comprobar que estamos construyendo la lista correctamente.\n",
    "\n",
    "Por último, crearemos un inicializador \"vacío\" para que todos los elemenos se vayan añadiendo utilizando la función prevista para ello."
   ]
  },
  {
   "cell_type": "code",
   "execution_count": null,
   "metadata": {},
   "outputs": [],
   "source": [
    "struct LinkedList {\n",
    "    private(set) var head: Node?\n",
    "    private(set) var tail: Node?\n",
    "    \n",
    "    init() {}\n",
    "}"
   ]
  },
  {
   "cell_type": "markdown",
   "metadata": {},
   "source": [
    "Ahora es nuestra responsabilidad que `tail` apunte en todo momento al último nodo de la cadena."
   ]
  },
  {
   "cell_type": "code",
   "execution_count": null,
   "metadata": {},
   "outputs": [],
   "source": [
    "extension LinkedList {    \n",
    "    mutating func append(_ value: String) {\n",
    "        // Create node\n",
    "        let newNode = Node(value: value)\n",
    "        \n",
    "        // The tail, if it exists, must point to the new node\n",
    "        if let tail = tail {\n",
    "            tail.next = newNode\n",
    "        }\n",
    "        \n",
    "        // Update tail and head\n",
    "        tail = newNode\n",
    "        if head == nil { head = newNode }\n",
    "    }\n",
    "}"
   ]
  },
  {
   "cell_type": "code",
   "execution_count": null,
   "metadata": {},
   "outputs": [],
   "source": [
    "// Mismo que antes. Tenemos que repetirlo porque hemos reemplazado la definición de LinkedList\n",
    "extension LinkedList : CustomStringConvertible {\n",
    "    public var description: String {\n",
    "        guard let head = head else { return \"Empty list.\" }\n",
    "        return \"\\(head)\"\n",
    "    }\n",
    "}"
   ]
  },
  {
   "cell_type": "code",
   "execution_count": null,
   "metadata": {},
   "outputs": [],
   "source": [
    "var lista = LinkedList()\n",
    "lista.append(\"a\")\n",
    "lista.append(\"b\")\n",
    "lista.append(\"c\")\n",
    "print(lista)"
   ]
  },
  {
   "cell_type": "code",
   "execution_count": null,
   "metadata": {},
   "outputs": [],
   "source": [
    "print(lista.tail)"
   ]
  },
  {
   "cell_type": "markdown",
   "metadata": {},
   "source": [
    "### Insertando nodos al principio de la lista"
   ]
  },
  {
   "cell_type": "markdown",
   "metadata": {},
   "source": [
    "Por similitud con otros tipos de datos, como las pilas, esta operación suele llamarse **`push`**.\n",
    "\n",
    "Su implementación es muy sencilla: el nuevo nodo se convierte en la _cabeza_ de la lista."
   ]
  },
  {
   "cell_type": "code",
   "execution_count": null,
   "metadata": {},
   "outputs": [],
   "source": [
    "extension LinkedList {\n",
    "    mutating func push(_ value: String) {\n",
    "        let newNode = Node(value: value, next: head)\n",
    "        head = newNode\n",
    "        if tail == nil { tail = newNode }\n",
    "    }\n",
    "}"
   ]
  },
  {
   "cell_type": "code",
   "execution_count": null,
   "metadata": {},
   "outputs": [],
   "source": [
    "var lista = LinkedList()"
   ]
  },
  {
   "cell_type": "code",
   "execution_count": null,
   "metadata": {},
   "outputs": [],
   "source": [
    "lista.push(\"julia\")\n",
    "print(lista.tail)"
   ]
  },
  {
   "cell_type": "code",
   "execution_count": null,
   "metadata": {},
   "outputs": [],
   "source": [
    "lista.push(\"jorge\")\n",
    "print(lista.tail)"
   ]
  },
  {
   "cell_type": "code",
   "execution_count": null,
   "metadata": {},
   "outputs": [],
   "source": [
    "print(lista)"
   ]
  },
  {
   "cell_type": "markdown",
   "metadata": {},
   "source": [
    "Refactorizamos para hacer más sencillo:"
   ]
  },
  {
   "cell_type": "code",
   "execution_count": null,
   "metadata": {},
   "outputs": [],
   "source": [
    "extension LinkedList {\n",
    "    mutating func push(_ value: String) {\n",
    "        head = Node(value: value, next: head)\n",
    "        if tail == nil { tail = head }\n",
    "    }\n",
    "}"
   ]
  },
  {
   "cell_type": "code",
   "execution_count": null,
   "metadata": {},
   "outputs": [],
   "source": [
    "var lista = LinkedList()\n",
    "lista.append(\"c\")\n",
    "lista.push(\"b\")\n",
    "lista.push(\"a\")\n",
    "lista.append(\"z\")\n",
    "print(lista)"
   ]
  },
  {
   "cell_type": "code",
   "execution_count": null,
   "metadata": {},
   "outputs": [],
   "source": [
    "print(lista.tail)"
   ]
  },
  {
   "cell_type": "markdown",
   "metadata": {},
   "source": [
    "### Iteración"
   ]
  },
  {
   "cell_type": "markdown",
   "metadata": {},
   "source": [
    "Vamos a introducir una función para obtener el valor del nodo en una posición determinada, y así poder utilizar la lista en bucles. Llamaremos a esta función `value(at:)`:"
   ]
  },
  {
   "cell_type": "code",
   "execution_count": null,
   "metadata": {},
   "outputs": [],
   "source": [
    "extension LinkedList {\n",
    "    func value(at index: Int) -> String? {\n",
    "        var i = 0\n",
    "        var node = head\n",
    "        while node != nil && i < index {\n",
    "            node = node!.next\n",
    "            i = i+1\n",
    "        }\n",
    "        return node?.value\n",
    "    }\n",
    "}"
   ]
  },
  {
   "cell_type": "code",
   "execution_count": null,
   "metadata": {},
   "outputs": [],
   "source": [
    "print(lista.value(at: 0))\n",
    "print(lista.value(at: 1))"
   ]
  },
  {
   "cell_type": "code",
   "execution_count": null,
   "metadata": {},
   "outputs": [],
   "source": [
    "print(lista.value(at: -8))"
   ]
  },
  {
   "cell_type": "markdown",
   "metadata": {},
   "source": [
    "-----\n",
    "**Ejercicio 1**: Arregla el ejemplo anterior."
   ]
  },
  {
   "cell_type": "code",
   "execution_count": null,
   "metadata": {},
   "outputs": [],
   "source": [
    "extension LinkedList{\n",
    "    func value(at index: Int) -> String? {\n",
    "        var i = 0\n",
    "        var node = head\n",
    "        while node != nil && i < abs(index) {\n",
    "            node = node!.next\n",
    "            i = i+1\n",
    "        }\n",
    "        return node?.value\n",
    "    }\n",
    "}"
   ]
  },
  {
   "cell_type": "markdown",
   "metadata": {},
   "source": [
    "**Ejercicio 2**: Introduce una propiedad `count` que indique cuántos elementos están almacenados en la lista. Puedes hacerlo de dos maneras:\n",
    "* Contándolos cada vez (fácil, pero poco eficiente).\n",
    "* Manteniendo una variable con la suma total. Debes actualizar para ello el código de todas las funciones que insertan nodos."
   ]
  },
  {
   "cell_type": "code",
   "execution_count": null,
   "metadata": {},
   "outputs": [],
   "source": [
    "extension LinkedList{\n",
    "   var count: Int {\n",
    "        guard var node = head else {\n",
    "            return 0\n",
    "        }\n",
    "        //Si pasa el guard ya hay 1 nodo\n",
    "        var count = 1\n",
    "       // Suma\n",
    "        while let next = node.next {\n",
    "            node = next\n",
    "            count += 1\n",
    "        }\n",
    "        return count\n",
    "    }\n",
    "}   "
   ]
  },
  {
   "cell_type": "code",
   "execution_count": null,
   "metadata": {},
   "outputs": [],
   "source": [
    "var totalNodes = lista.count\n",
    "print(totalNodes)"
   ]
  },
  {
   "cell_type": "markdown",
   "metadata": {},
   "source": [
    "Si tu implementación es correcta, el siguiente bucle debe funcionar y mostrar todos los elementos:"
   ]
  },
  {
   "cell_type": "code",
   "execution_count": null,
   "metadata": {},
   "outputs": [],
   "source": [
    "for i in 0..<lista.count {\n",
    "    print(lista.value(at: i))\n",
    "}"
   ]
  },
  {
   "cell_type": "markdown",
   "metadata": {},
   "source": [
    "----"
   ]
  },
  {
   "cell_type": "markdown",
   "metadata": {},
   "source": [
    "Vamos a refactorizar de nuevo. Para obtener el valor en una posición vamos a utilizar otra función que nos de **el nodo** en esa posición. Esto lo hacemos porque luego querremos insertar nodos en posiciones arbitrarias, y la nueva función nos será de utilidad."
   ]
  },
  {
   "cell_type": "code",
   "execution_count": null,
   "metadata": {},
   "outputs": [],
   "source": [
    "extension LinkedList {\n",
    "    func node(at index: Int) -> Node? {\n",
    "        var i = 0\n",
    "        var node = head\n",
    "        while node != nil && i < index {\n",
    "            node = node!.next\n",
    "            i = i+1\n",
    "        }\n",
    "        return node\n",
    "    }\n",
    "    \n",
    "    func value(at index: Int) -> String? {\n",
    "        return node(at: index)?.value\n",
    "    }\n",
    "}"
   ]
  },
  {
   "cell_type": "code",
   "execution_count": null,
   "metadata": {},
   "outputs": [],
   "source": [
    "print(lista.value(at: 0))\n",
    "print(lista.value(at: 1))"
   ]
  },
  {
   "cell_type": "markdown",
   "metadata": {},
   "source": [
    "### Insertando un nodo en una posición arbitraria de la lista"
   ]
  },
  {
   "cell_type": "markdown",
   "metadata": {},
   "source": [
    "Para realizar esta operación tenemos que tener cuidado de manipular las referencias a los nodos correctamente.\n",
    "\n",
    "![Antes de la inserción](img/linked-list-insert-before.png \"Inserción: antes\")\n",
    "![Después de la inserción](img/linked-list-insert-after.png \"Inserción: después\")"
   ]
  },
  {
   "cell_type": "code",
   "execution_count": null,
   "metadata": {},
   "outputs": [],
   "source": [
    "extension LinkedList {\n",
    "    mutating func insert(_ value: String, at index: Int) {\n",
    "        guard index > 0 else {\n",
    "            push(value)\n",
    "            return\n",
    "        }\n",
    "        var prev = node(at: index-1)\n",
    "        let node = Node(value: value, next: prev?.next)\n",
    "        prev?.next = node\n",
    "        if node.next == nil { tail = node }\n",
    "    }\n",
    "}"
   ]
  },
  {
   "cell_type": "code",
   "execution_count": null,
   "metadata": {},
   "outputs": [],
   "source": [
    "print(lista)"
   ]
  },
  {
   "cell_type": "code",
   "execution_count": null,
   "metadata": {},
   "outputs": [],
   "source": [
    "lista.insert(\"d\", at: 3)\n",
    "print(lista)"
   ]
  },
  {
   "cell_type": "code",
   "execution_count": null,
   "metadata": {},
   "outputs": [],
   "source": [
    "lista.insert(\"0\", at: 0)\n",
    "print(lista)"
   ]
  },
  {
   "cell_type": "code",
   "execution_count": null,
   "metadata": {},
   "outputs": [],
   "source": [
    "lista.insert(\"ZZ\", at: 6)\n",
    "print(lista)"
   ]
  },
  {
   "cell_type": "code",
   "execution_count": null,
   "metadata": {},
   "outputs": [],
   "source": [
    "print(lista.tail)"
   ]
  },
  {
   "cell_type": "markdown",
   "metadata": {},
   "source": [
    "### Borrar nodos"
   ]
  },
  {
   "cell_type": "markdown",
   "metadata": {},
   "source": [
    "Como en el caso de la inserción, podemos hacer varias funciones con el mismo propósito:\n",
    "* `removeLast` para eliminar el último. Es la contrapartida de `append`.\n",
    "* `pop`, para eliminar el primero. Es la contrapartida de `push`.\n",
    "* `remove(at:)` para eliminar un nodo en una posición concreta. Es la contrapartida de `insert(at:)`.\n",
    "\n",
    "**En todos los casos debemos tener cuidado de manipular los punteros correctamente.**\n",
    "\n",
    "Adicionalmente, vamos a hacer que las funciones de borrado devuelvan el elemento que se acaba de eliminar. Esto es útil en muchos casos, en los que queremos hacer algo con un elemento de la lista y después quitarlo."
   ]
  },
  {
   "cell_type": "code",
   "execution_count": null,
   "metadata": {},
   "outputs": [],
   "source": [
    "extension LinkedList {\n",
    "    mutating func pop() -> String? {\n",
    "        let node = head\n",
    "        head = head?.next\n",
    "        return node?.value\n",
    "    }\n",
    "}"
   ]
  },
  {
   "cell_type": "code",
   "execution_count": null,
   "metadata": {},
   "outputs": [],
   "source": [
    "print(lista)"
   ]
  },
  {
   "cell_type": "code",
   "execution_count": null,
   "metadata": {},
   "outputs": [],
   "source": [
    "print(lista.pop())"
   ]
  },
  {
   "cell_type": "code",
   "execution_count": null,
   "metadata": {},
   "outputs": [],
   "source": [
    "print(lista)"
   ]
  },
  {
   "cell_type": "markdown",
   "metadata": {},
   "source": [
    "**Ejercicio 3**: Implementa `removeLast` y `remove(at:)`."
   ]
  },
  {
   "cell_type": "code",
   "execution_count": null,
   "metadata": {},
   "outputs": [],
   "source": [
    "extension LinkedList {\n",
    "    mutating func remove(node: Node) -> String? {\n",
    "        let prev = node.previous\n",
    "        let next = node.next\n",
    "        \n",
    "        if let prev = prev {\n",
    "             prev.next = next\n",
    "        }else{\n",
    "            //Si intentamos eliminar head\n",
    "             head = next\n",
    "        }\n",
    "        next?.previous = prev\n",
    "        \n",
    "        if next == nil {\n",
    "            tail = prev\n",
    "        }\n",
    "        \n",
    "        //Porque siguen en memoria y borramos el nodo\n",
    "        node.previous = nil\n",
    "        node.next = nil\n",
    "        \n",
    "        \n",
    "        return node.value\n",
    "    }\n",
    "    \n",
    "       \n",
    "    \n",
    "    mutating func removeLast() -> String? {\n",
    "        \n",
    "        return remove(node: tail!)\n",
    "    }\n",
    "    \n",
    "    mutating func remove(at index: Int) -> String? {\n",
    "        let node = self.node(at: index)!\n",
    "        return remove(node: node)\n",
    "    }    \n",
    "   \n",
    "}"
   ]
  },
  {
   "cell_type": "markdown",
   "metadata": {},
   "source": [
    "----"
   ]
  },
  {
   "cell_type": "markdown",
   "metadata": {},
   "source": [
    "## Pilas (_Stacks_)"
   ]
  },
  {
   "cell_type": "markdown",
   "metadata": {},
   "source": [
    "La pila (_stack_) es otra estructura de datos que se utiliza muchísimo. Sigue el convenio de acceso denominado **LIFO** (_Last-In First-Out_): el último elemento que entra en la lista es el primero que se procesa. Esto sirve para modelar problemas donde tenemos que procesar los elementos en orden inverso a su llegada. Por ejemplo, un navegador web podría ir guardando las páginas visitadas en una pila, y el botón de \"Atrás\" del navegador iría a la página visitada inmediatamente antes (que fue la última que entró en la pila).\n",
    "\n",
    "Las pilas sólo tienen dos funciones básicas: `push()`, para introducir un elemento, y `pop()` para extraerlo.\n",
    "\n",
    "Vamos a implementar una pila apoyándonos para ello en un _array_."
   ]
  },
  {
   "cell_type": "code",
   "execution_count": null,
   "metadata": {},
   "outputs": [],
   "source": [
    "struct StringStack {\n",
    "    private var storage = [String]()\n",
    "    \n",
    "    mutating func push(_ value: String) {\n",
    "        storage.insert(value, at: 0)\n",
    "    }\n",
    "    \n",
    "    mutating func pop() -> String? {\n",
    "        guard storage.count > 0 else { return nil }\n",
    "        return storage.remove(at: 0)\n",
    "    }\n",
    "}"
   ]
  },
  {
   "cell_type": "code",
   "execution_count": null,
   "metadata": {},
   "outputs": [],
   "source": [
    "var webStack = StringStack()\n",
    "webStack.push(\"urjc.es\")\n",
    "webStack.push(\"stanford.edu\")\n",
    "webStack.push(\"mit.edu\")"
   ]
  },
  {
   "cell_type": "code",
   "execution_count": null,
   "metadata": {},
   "outputs": [],
   "source": [
    "print(webStack.pop())"
   ]
  },
  {
   "cell_type": "markdown",
   "metadata": {},
   "source": [
    "**Ejercicio 4**: Implementa `StringStack` utilizando una lista enlazada como almacenamiento."
   ]
  },
  {
   "cell_type": "code",
   "execution_count": null,
   "metadata": {},
   "outputs": [],
   "source": [
    "struct StringStack {\n",
    "    private var storage = LinkedList()\n",
    "    \n",
    "    mutating func push(_ value: String) {\n",
    "        storage.push(value)\n",
    "    }\n",
    "    \n",
    "    mutating func pop() -> String? {\n",
    "        return storage.pop()\n",
    "    }\n",
    "}"
   ]
  },
  {
   "cell_type": "markdown",
   "metadata": {},
   "source": [
    "## Genéricos"
   ]
  },
  {
   "cell_type": "markdown",
   "metadata": {},
   "source": [
    "Las estructuras que hemos estado viendo hasta ahora sólo nos permiten almacenar valores de tipo `String`. ¿Qué ocurre si quisiéramos hacer una lista de `Int`s? ¿O de cualquier otro tipo arbitrario?\n",
    "\n",
    "* Los **algoritmos** de inserción, iteración y borrado son **exactamente iguales**.\n",
    "* Sin embargo, tendríamos que repetir el código para indicar el tipo que estamos almacenando. Cambiaríamos todos los `String` por `Int`."
   ]
  },
  {
   "cell_type": "markdown",
   "metadata": {},
   "source": [
    "**Ejemplo** Comparación de una pila de `String` y una pila de `Int`:\n",
    "\n",
    "![Dos pilas](img/two-stacks.png \"Pila de String vs Int\")"
   ]
  },
  {
   "cell_type": "markdown",
   "metadata": {},
   "source": [
    "Repetir esencialmente **el mismo código** todo el rato es una mala idea.\n",
    "\n",
    "Para resolverlo, usamos el mecanismo de programación _genérica_, en el que **parametrizamos el tipo que se almacena en la estructura de datos**."
   ]
  },
  {
   "cell_type": "code",
   "execution_count": null,
   "metadata": {},
   "outputs": [],
   "source": [
    "struct Stack<Element> {\n",
    "    private var storage = [Element]()\n",
    "    \n",
    "    mutating func push(_ value: Element) {\n",
    "        storage.insert(value, at: 0)\n",
    "    }\n",
    "    \n",
    "    mutating func pop() -> Element? {\n",
    "        guard storage.count > 0 else { return nil }\n",
    "        return storage.remove(at: 0)\n",
    "    }\n",
    "}"
   ]
  },
  {
   "cell_type": "markdown",
   "metadata": {},
   "source": [
    "En lugar de **especificar el tipo**, utilizamos un tipo simbólico entre ángulos. En este ejemplo, lo hemos llamado **`<Element>`**, pero podríamos haber utilizado otro nombre entre ángulos.\n",
    "\n",
    "No podemos utilizar el `Stack` a menos que **lo particularicemos** para un tipo concreto. Por ejemplo, la siguiente celda crea un `Stack` particularizado para el caso de `String`s:"
   ]
  },
  {
   "cell_type": "code",
   "execution_count": null,
   "metadata": {},
   "outputs": [],
   "source": [
    "var webStack = Stack<String>()\n",
    "webStack.push(\"urjc.es\")\n",
    "webStack.push(\"stanford.edu\")\n",
    "webStack.push(\"mit.edu\")"
   ]
  },
  {
   "cell_type": "markdown",
   "metadata": {},
   "source": [
    "Del mismo modo, la siguiente celda crea un `Stack` particularizado para almacenar `Int`s:"
   ]
  },
  {
   "cell_type": "code",
   "execution_count": null,
   "metadata": {},
   "outputs": [],
   "source": [
    "var intStack = Stack<Int>()\n",
    "intStack.push(7)\n",
    "intStack.push(13)\n",
    "intStack.push(42)"
   ]
  },
  {
   "cell_type": "code",
   "execution_count": null,
   "metadata": {},
   "outputs": [],
   "source": [
    "print(intStack.pop())"
   ]
  },
  {
   "cell_type": "code",
   "execution_count": null,
   "metadata": {},
   "outputs": [],
   "source": []
  },
  {
   "cell_type": "markdown",
   "metadata": {},
   "source": [
    "**Ejercicio 5** Crea una lista enlazada genérica utilizando el código que hemos visto para `LinkedList`."
   ]
  },
  {
   "cell_type": "code",
   "execution_count": null,
   "metadata": {},
   "outputs": [],
   "source": [
    "class Node<Element> {\n",
    "    var value: Element\n",
    "    var next: Node?\n",
    "    var previous: Node?\n",
    "    \n",
    "    init(value: Element, next: Node? = nil, previous: Node? = nil) {\n",
    "        self.value = value\n",
    "        self.next = next\n",
    "        self.previous = previous\n",
    "    }\n",
    "}\n",
    "\n",
    "extension Node : CustomStringConvertible {\n",
    "    public var description: String {\n",
    "        guard let next = next else { return \"[\\(value)]\" }\n",
    "        return \"[\\(value)] -> \\(next)\"\n",
    "    }\n",
    "}\n",
    "\n",
    "struct LinkedList<Element> {\n",
    "    private(set) var head: Node<Element>?\n",
    "    private(set) var tail: Node<Element>?\n",
    "    \n",
    "    init() {}\n",
    "}\n",
    "\n",
    "extension LinkedList : CustomStringConvertible {\n",
    "    public var description: String {\n",
    "        guard let head = head else { return \"Empty list.\" }\n",
    "        return \"\\(head)\"\n",
    "    }\n",
    "}\n",
    "\n",
    "extension LinkedList {    \n",
    "    mutating func append(_ value: Element) {\n",
    "       \n",
    "        let newNode = Node(value: value)\n",
    "        \n",
    "        \n",
    "        if let tail = tail {\n",
    "            tail.next = newNode\n",
    "        }\n",
    "        \n",
    "        \n",
    "        tail = newNode\n",
    "        if head == nil { \n",
    "            head = newNode \n",
    "        }\n",
    "    }\n",
    "\n",
    "    mutating func push(_ value: Element) {\n",
    "        head = Node(value: value, next: head)\n",
    "        if tail == nil { tail = head }\n",
    "    }\n",
    "\n",
    "    func node(at index: Int) -> Node<Element>? {\n",
    "        var i = 0\n",
    "        var node = head\n",
    "        while node != nil && i < index {\n",
    "            node = node!.next\n",
    "            i = i+1\n",
    "        }\n",
    "        return node\n",
    "    }\n",
    "    \n",
    "    func value(at index: Int) -> Element? {\n",
    "        return node(at: index)?.value\n",
    "    }\n",
    "    \n",
    "    var count: Int {\n",
    "        guard var node = head else {\n",
    "            return 0\n",
    "        }\n",
    "        //Si pasa el guard ya hay 1 nodo\n",
    "        var count = 1\n",
    "       // Suma\n",
    "        while let next = node.next {\n",
    "            node = next\n",
    "            count += 1\n",
    "        }\n",
    "        return count\n",
    "    }\n",
    "\n",
    "    mutating func insert(_ value: Element, at index: Int) {\n",
    "        guard index > 0 else {\n",
    "            push(value)\n",
    "            return\n",
    "        }\n",
    "        var prev = node(at: index-1)\n",
    "        let node = Node(value: value, next: prev?.next)\n",
    "        prev?.next = node\n",
    "        if node.next == nil { tail = node }\n",
    "    }\n",
    "\n",
    "    mutating func pop() -> Element? {\n",
    "        let node = head\n",
    "        head = head?.next\n",
    "        return node?.value\n",
    "    }\n",
    "    \n",
    "         \n",
    "    \n",
    "    \n",
    "}"
   ]
  },
  {
   "cell_type": "markdown",
   "metadata": {},
   "source": [
    "-----"
   ]
  },
  {
   "cell_type": "markdown",
   "metadata": {},
   "source": [
    "Esta es mi implementación (incompleta, faltan algunas funciones). **Si no has hecho el ejercicio intenta terminarlo antes de mirarla, o no te servirá para aprender**. "
   ]
  },
  {
   "cell_type": "markdown",
   "metadata": {},
   "source": [
    "-----"
   ]
  },
  {
   "cell_type": "code",
   "execution_count": null,
   "metadata": {},
   "outputs": [],
   "source": [
    "class Node<T> {\n",
    "    var value: T\n",
    "    var next: Node?\n",
    "    \n",
    "    init(value: T, next: Node? = nil) {\n",
    "        self.value = value\n",
    "        self.next = next\n",
    "    }\n",
    "}\n",
    "\n",
    "extension Node : CustomStringConvertible {\n",
    "    public var description: String {\n",
    "        guard let next = next else { return \"[\\(value)]\" }\n",
    "        return \"[\\(value)] -> \\(next)\"\n",
    "    }\n",
    "}"
   ]
  },
  {
   "cell_type": "code",
   "execution_count": null,
   "metadata": {},
   "outputs": [],
   "source": [
    "struct LinkedList<T> {\n",
    "    private(set) var head: Node<T>?\n",
    "    private(set) var tail: Node<T>?\n",
    "    \n",
    "    init() {}\n",
    "}\n",
    "\n",
    "extension LinkedList : CustomStringConvertible {\n",
    "    public var description: String {\n",
    "        guard let head = head else { return \"Empty list.\" }\n",
    "        return \"\\(head)\"\n",
    "    }\n",
    "}\n",
    "\n",
    "extension LinkedList {    \n",
    "    mutating func append(_ value: T) {\n",
    "        // Create node\n",
    "        let newNode = Node(value: value)\n",
    "        \n",
    "        // The tail, if it exists, must point to the new node\n",
    "        if let tail = tail {\n",
    "            tail.next = newNode\n",
    "        }\n",
    "        \n",
    "        // Update tail and head\n",
    "        tail = newNode\n",
    "        if head == nil { head = newNode }\n",
    "    }\n",
    "\n",
    "    mutating func push(_ value: T) {\n",
    "        head = Node(value: value, next: head)\n",
    "        if tail == nil { tail = head }\n",
    "    }\n",
    "\n",
    "    func node(at index: Int) -> Node<T>? {\n",
    "        var i = 0\n",
    "        var node = head\n",
    "        while node != nil && i < index {\n",
    "            node = node!.next\n",
    "            i = i+1\n",
    "        }\n",
    "        return node\n",
    "    }\n",
    "    \n",
    "    func value(at index: Int) -> T? {\n",
    "        return node(at: index)?.value\n",
    "    }\n",
    "\n",
    "    mutating func insert(_ value: T, at index: Int) {\n",
    "        guard index > 0 else {\n",
    "            push(value)\n",
    "            return\n",
    "        }\n",
    "        var prev = node(at: index-1)\n",
    "        let node = Node(value: value, next: prev?.next)\n",
    "        prev?.next = node\n",
    "        if node.next == nil { tail = node }\n",
    "    }\n",
    "\n",
    "    mutating func pop() -> T? {\n",
    "        let node = head\n",
    "        head = head?.next\n",
    "        return node?.value\n",
    "    }\n",
    "}\n",
    "\n",
    "\n",
    "   \n",
    "       \n",
    "  \n",
    "   \n"
   ]
  },
  {
   "cell_type": "markdown",
   "metadata": {},
   "source": [
    "El mecanismo de genéricos es ampliamente utilizado en los tipos estándar de Swift, aunque a veces no lo veamos. Recuerda que, [cuando vimos los arrays](00_swift_overview_class.ipynb#Arrays), comentamos que la forma canónica de expresar su tipo era `Array<TipoElemento>`."
   ]
  },
  {
   "cell_type": "markdown",
   "metadata": {},
   "source": [
    "### Genéricos y Protocolos"
   ]
  },
  {
   "cell_type": "markdown",
   "metadata": {},
   "source": [
    "En el ejemplo anterior hemos visto cómo hacer una pila genérica, lo que nos permite utilizarla para almacenar cualquier tipo que necesitemos.\n",
    "\n",
    "También hemos visto que podemos escribir diferentes implementaciones de una misma estructura según los requisitos de memoria y velocidad que necesitemos. Por ejemplo, podemos hacer una pila con un array, o con una lista enlazada. A la hora de _utilizar_ la pila, nos debería resultar indiferente _cómo_ está implementada.\n",
    "\n",
    "Para poder facilitar esta separación entre el _qué_ debe hacer un objeto y el _cómo_ lo hace es para lo que se usan los **protocolos**. En esta sección veremos cómo hacer protocolos que, además, son **genéricos**."
   ]
  },
  {
   "cell_type": "markdown",
   "metadata": {},
   "source": [
    "Tal y como hemos definido las pilas, son colecciones que permiten dos operaciones básicas: `push` y `pop`. Podemos definir un **protocolo** que especifica estas dos operaciones. Cualquier pila, la hagamos como la hagamos, debe cumplir ese protocolo:"
   ]
  },
  {
   "cell_type": "code",
   "execution_count": null,
   "metadata": {},
   "outputs": [],
   "source": [
    "protocol Stack {\n",
    "    associatedtype Element\n",
    "    \n",
    "    mutating func push(_ value: Element)\n",
    "    mutating func pop() -> Element?\n",
    "}"
   ]
  },
  {
   "cell_type": "markdown",
   "metadata": {},
   "source": [
    "En el caso de los protocolos, la forma de hacerlos genéricos es utilizando **`associatedtype`**, con el mismo propósito con el que empleamos `<Element>` en el caso de estructuras y clases. Estamos diciendo que el tipo `Element`, asociado al protocolo, es una \"plantilla\" para el tipo real que luego utilizaremos.\n",
    "\n",
    "Cualquier tipo que verifique las condiciones del protocolo puede usarse como un `Stack`. Cuando escribimos una implementación que cumple el protocolo, el tipo que utilizamos en esa implementación es el que se *asocia* al `associatedtype` del protocolo.\n",
    "\n",
    "La siguiente implementación es un stack de `Int`. Swift se da cuenta de que lo que en el protocolo llamábamos **`Element`**, ahora se particulariza para **`Int`**:"
   ]
  },
  {
   "cell_type": "code",
   "execution_count": null,
   "metadata": {},
   "outputs": [],
   "source": [
    "struct IntStack : Stack {\n",
    "    private var storage = [Int]()\n",
    "    \n",
    "    mutating func push(_ value: Int) {\n",
    "        storage.insert(value, at: 0)\n",
    "    }\n",
    "    \n",
    "    mutating func pop() -> Int? {\n",
    "        guard storage.count > 0 else { return nil }\n",
    "        return storage.remove(at: 0)\n",
    "    }\n",
    "}"
   ]
  },
  {
   "cell_type": "markdown",
   "metadata": {},
   "source": [
    "El tipo genérico del protocolo se ha asociado a `Int`, para el caso de `IntStack`.\n",
    "* **`Stack.Element`** se asocia a **`Int`**.\n",
    "\n",
    "Pero además, el tipo al que asociamos el protocolo puede, a su vez, ser genérico. A continuación repetimos nuestra implementación genérica de `Stack`, que simplemente hemos renombrado para evitar confusiones:"
   ]
  },
  {
   "cell_type": "code",
   "execution_count": null,
   "metadata": {},
   "outputs": [],
   "source": [
    "struct ArrayStack<Element> : Stack {\n",
    "    private var storage = [Element]()\n",
    "    \n",
    "    mutating func push(_ value: Element) {\n",
    "        storage.insert(value, at: 0)\n",
    "    }\n",
    "    \n",
    "    mutating func pop() -> Element? {\n",
    "        guard storage.count > 0 else { return nil }\n",
    "        return storage.remove(at: 0)\n",
    "    }\n",
    "}"
   ]
  },
  {
   "cell_type": "markdown",
   "metadata": {},
   "source": [
    "En este caso, **el tipo asociado al protocolo es el tipo genérico `<Element>`**. Este stack sigue siendo genérico, tenemos que particularizarlo cuando lo vayamos a usar, como vimos anteriormente.\n",
    "\n",
    "El hecho de haber utilizado `Element` es casual. NO tienen por qué tener el mismo nombre. Por ejemplo, podríamos haber escrito el `struct` así:"
   ]
  },
  {
   "cell_type": "code",
   "execution_count": null,
   "metadata": {},
   "outputs": [],
   "source": [
    "struct ArrayStack<T> : Stack {\n",
    "    private var storage = [T]()\n",
    "    \n",
    "    mutating func push(_ value: T) {\n",
    "        storage.insert(value, at: 0)\n",
    "    }\n",
    "    \n",
    "    mutating func pop() -> T? {\n",
    "        guard storage.count > 0 else { return nil }\n",
    "        return storage.remove(at: 0)\n",
    "    }\n",
    "}"
   ]
  },
  {
   "cell_type": "markdown",
   "metadata": {},
   "source": [
    "* Protocolo: `associatedtype Element`.\n",
    "* `struct ArrayStack`: tipo genérico `<T>`.\n",
    "* `ArrayStack` cumple el protocolo `Stack`\n",
    "* **`Stack.Element`** se asocia a **`<T>`**, que es el tipo de `ArrayStack`."
   ]
  },
  {
   "cell_type": "markdown",
   "metadata": {},
   "source": [
    "Si tenemos una función que procesa todos los elementos de una pila, esa función **no necesita saber** cómo está implementada la pila, ni cuáles son los tipos que almacena. Pero como el protocolo `Stack` es _genérico_, nuestra función también debe serlo: depende del tipo que se esté considerando en cada momento.\n",
    "\n",
    "Por ejemplo:"
   ]
  },
  {
   "cell_type": "code",
   "execution_count": null,
   "metadata": {},
   "outputs": [],
   "source": [
    "func processAll<S: Stack>(stack: inout S) {\n",
    "    var item: S.Element?\n",
    "    repeat {\n",
    "        item = stack.pop()\n",
    "        if item != nil {\n",
    "            print(item!)\n",
    "        }\n",
    "    } while item != nil\n",
    "}"
   ]
  },
  {
   "cell_type": "markdown",
   "metadata": {},
   "source": [
    "* Esta función es capaz de imprimir los elementos de cualquier pila, independientemente de cómo esté implementada y qué tipo de datos almacene.\n",
    "* La función es genérica, pues el tipo de la pila no lo conocemos hasta que no la usemos.\n",
    "* Podemos referirnos a ese tipo desconocido como **`S.Element`**, siendo **`S`**  un nombre simbólico que damos al tipo concreto que recibiremos."
   ]
  },
  {
   "cell_type": "code",
   "execution_count": null,
   "metadata": {},
   "outputs": [],
   "source": [
    "var words = ArrayStack<String>()  // Creamos pila de Strings"
   ]
  },
  {
   "cell_type": "code",
   "execution_count": null,
   "metadata": {},
   "outputs": [],
   "source": [
    "words.push(\"the\")\n",
    "words.push(\"rain\")\n",
    "words.push(\"in\")\n",
    "words.push(\"Spain\")"
   ]
  },
  {
   "cell_type": "code",
   "execution_count": null,
   "metadata": {},
   "outputs": [],
   "source": [
    "processAll(stack: &words)"
   ]
  },
  {
   "cell_type": "markdown",
   "metadata": {},
   "source": [
    "Cuando llamamos a `processAll` con una pila en concreto, ya no tenemos que poner ángulos ni nada. Lo que sucede es:\n",
    "* **`S`** se refiere a **`ArrayStack<String>`**.\n",
    "* **`S.Element`** se asocia a **`String`**."
   ]
  },
  {
   "cell_type": "code",
   "execution_count": null,
   "metadata": {},
   "outputs": [],
   "source": [
    "print(words.pop())"
   ]
  },
  {
   "cell_type": "markdown",
   "metadata": {},
   "source": [
    "Del mismo modo que hemos escrito una pila genérica que utiliza un array como almacenamiento, podemos escribir una versión, también genérica, que utiliza una lista enlazada para guardar los datos. La siguiente versión utiliza una implementación (incompleta) de lista enlazada genérica:"
   ]
  },
  {
   "cell_type": "code",
   "execution_count": null,
   "metadata": {},
   "outputs": [],
   "source": [
    "struct ListStack<T> : Stack {\n",
    "    private var storage = LinkedList<T>()\n",
    "    \n",
    "    mutating func push(_ value: T) {\n",
    "        storage.push(value)\n",
    "    }\n",
    "    \n",
    "    mutating func pop() -> T? {\n",
    "        return storage.pop()\n",
    "    }\n",
    "}"
   ]
  },
  {
   "cell_type": "code",
   "execution_count": null,
   "metadata": {},
   "outputs": [],
   "source": [
    "var numbers = ListStack<Int>()"
   ]
  },
  {
   "cell_type": "code",
   "execution_count": null,
   "metadata": {},
   "outputs": [],
   "source": [
    "for n in 1..<5 { numbers.push(n) }"
   ]
  },
  {
   "cell_type": "code",
   "execution_count": null,
   "metadata": {},
   "outputs": [],
   "source": [
    "processAll(stack: &numbers)"
   ]
  },
  {
   "cell_type": "markdown",
   "metadata": {},
   "source": [
    "En este caso:\n",
    "* **`S`** se refiere a **`ListStack<Int>`**.\n",
    "* **`S.Element`** se asocia a **`Int`**."
   ]
  },
  {
   "cell_type": "markdown",
   "metadata": {},
   "source": [
    "## Colas (_Queues_)"
   ]
  },
  {
   "cell_type": "markdown",
   "metadata": {},
   "source": [
    "Las colas son otro ejemplo de estructura de datos ampliamente utilizada. En la vida diaria estamos familiarizados con las colas: para comprar en la pescadería, para entrar en un concierto, para entrar por carretera en Madrid.\n",
    "\n",
    "A diferencia de las pilas, las colas siguen un orden de acceso llamado **FIFO** (_First-In First-Out_), es decir: el primero que llega es el primero que sale.\n",
    "\n",
    "Se usan colas para procesar elementos en el mismo orden que se fueron almacenando. Por ejemplo: mensajes que llegan de la red. Los trabajos asíncronos que estamos utilizando en la práctica se implementan también con colas de ejecución."
   ]
  },
  {
   "cell_type": "markdown",
   "metadata": {},
   "source": [
    "Las colas tienen dos funciones básicas:\n",
    "* `enqueue`, para introducir un nuevo elemento. Este nuevo elemento se incorpora \"al final\" de la cola.\n",
    "* `dequeue`, para sacar un elemento. El elemento que sale es el más antiguo de los que entraron; es decir, está \"el primero\" de la fila."
   ]
  },
  {
   "cell_type": "markdown",
   "metadata": {},
   "source": [
    "Como ya sabemos un montón de genéricos y protocolos, vamos a definir estas funciones básicas en un protocolo al que llamaremos `Queue`. Además de las funciones básicas, vamos a modelar dos operaciones de consulta adicionales:\n",
    "* `isEmpty`: nos indica si hay algún elemento en la cola.\n",
    "* `peek`: nos permite consultar cuál es el siguiente elemento a procesar, sin extraerlo."
   ]
  },
  {
   "cell_type": "code",
   "execution_count": null,
   "metadata": {},
   "outputs": [],
   "source": [
    "protocol Queue {\n",
    "    associatedtype Element\n",
    "    \n",
    "    mutating func enqueue(_ value: Element)\n",
    "    mutating func dequeue() -> Element?\n",
    "    \n",
    "    var isEmpty: Bool { get }\n",
    "    func peek() -> Element?\n",
    "}"
   ]
  },
  {
   "cell_type": "markdown",
   "metadata": {},
   "source": [
    "Observa cómo se especifican las variables o propiedades en los protocolos. En este caso, se ha declarado `isEmpty` como una propiedad **de sólo lectura** (sólo tiene `get`)."
   ]
  },
  {
   "cell_type": "markdown",
   "metadata": {},
   "source": [
    "**Ejercicio 6**: Implementa un `Queue` genérico utilizando un array como almacenamiento. Se proporcionan algunas celdas que te permitirán verificar si el funcionamiento básico es correcto, pero debes probarlo exhaustivamente."
   ]
  },
  {
   "cell_type": "code",
   "execution_count": null,
   "metadata": {},
   "outputs": [],
   "source": [
    "struct ArrayQueue<T> : Queue {\n",
    "    private var storage = [T]()\n",
    "    \n",
    "    mutating func enqueue(_ value: T) {\n",
    "        // Your code here\n",
    "         storage.append(value)\n",
    "    }\n",
    "    \n",
    "    mutating func dequeue() -> T? {\n",
    "        // Your code here\n",
    "        if storage.isEmpty {\n",
    "            return nil\n",
    "            \n",
    "        }else{\n",
    "            \n",
    "            let temp = storage.first\n",
    "            storage.remove(at: 0)\n",
    "            return temp\n",
    "        }\n",
    "    }\n",
    "    \n",
    "    var isEmpty: Bool {\n",
    "        // Your code here\n",
    "        return storage.isEmpty\n",
    "        \n",
    "    }\n",
    "    \n",
    "    func peek() -> T? {\n",
    "        // Your code here\n",
    "        //Devuelve el primer elemento en la cola\n",
    "        // sin borrarlo\n",
    "        return storage.first?.value\n",
    "        \n",
    "    }\n",
    "}"
   ]
  },
  {
   "cell_type": "code",
   "execution_count": null,
   "metadata": {},
   "outputs": [],
   "source": []
  },
  {
   "cell_type": "markdown",
   "metadata": {},
   "source": [
    "La dos celdas siguientes no deberían mostrar ningún mensaje si tu implementación es correcta (esto no quiere decir que no exista algún otro error que no se esté probando)."
   ]
  },
  {
   "cell_type": "code",
   "execution_count": null,
   "metadata": {},
   "outputs": [],
   "source": [
    "func testQueue() {\n",
    "    var q = ArrayQueue<String>()\n",
    "    if !q.isEmpty { print(\"isEmpty should be true when the queue is empty\") }\n",
    "    if q.dequeue() != nil { print(\"dequeue should return nil on an empty queue\") }\n",
    "    if q.peek() != nil { print(\"peek should return nil on an empty queue\") }\n",
    "    \n",
    "    [\"the\", \"rain\", \"in\", \"Spain\"].forEach { q.enqueue($0) }\n",
    "    \n",
    "    var v = q.peek()\n",
    "    if v != \"the\" { print(\"peek error, should return 'the' but your implementation returned \\(v)\") }\n",
    "    v = q.peek()\n",
    "    if v != \"the\" { print(\"peek error, should return 'the' but your implementation returned \\(v)\") }\n",
    "\n",
    "    v = q.dequeue()\n",
    "    if v != \"the\" { print(\"dequeue error, should return 'the' but your implementation returned \\(v)\") }\n",
    "\n",
    "    q.dequeue()  // rain\n",
    "    q.dequeue()  // in\n",
    "    \n",
    "    v = q.peek()  // Spain\n",
    "    if v != \"Spain\" { print(\"peek error, should return 'Spain' but your implementation returned \\(v)\") }\n",
    "\n",
    "    v = q.dequeue()\n",
    "    if v != \"Spain\" { print(\"dequeue error, should return 'Spain' but your implementation returned \\(v)\") }\n",
    "\n",
    "    if q.dequeue() != nil { print(\"dequeue error, should return nil\") }\n",
    "    if q.peek() != nil { print(\"peek error, should return nil\") }\n",
    "    if !q.isEmpty { print(\"isEmpty should be true when the queue is empty\") }\n",
    "\n",
    "    q.enqueue(\"test\")\n",
    "    if q.isEmpty { print(\"queue should not be empty\") }\n",
    "}"
   ]
  },
  {
   "cell_type": "code",
   "execution_count": null,
   "metadata": {},
   "outputs": [],
   "source": [
    "testQueue()"
   ]
  },
  {
   "cell_type": "markdown",
   "metadata": {},
   "source": [
    "**Ejercicio 7**: Implementa un `Queue` genérico utilizando una lista enlazada como almacenamiento. Pruébalo de forma similar a como hemos hecho en el caso anterior."
   ]
  },
  {
   "cell_type": "code",
   "execution_count": null,
   "metadata": {},
   "outputs": [],
   "source": [
    "struct ListQueue<T> : Queue {\n",
    "    private var storage = LinkedList<T>()\n",
    "    \n",
    "    mutating func enqueue(_ value: T) {\n",
    "        // Your code here\n",
    "         storage.append(T)\n",
    "    }\n",
    "    \n",
    "    mutating func dequeue() -> T? {\n",
    "        // Your code here\n",
    "         if storage.isEmpty {\n",
    "            return nil\n",
    "            \n",
    "        }else{\n",
    "            \n",
    "            let temp = storage.first\n",
    "            storage.remove(at: 0)\n",
    "            return temp\n",
    "        }\n",
    "\n",
    "        return storage.value\n",
    "    }\n",
    "    \n",
    "    var isEmpty: Bool {\n",
    "        // Your code here\n",
    "        return storage.isEmpty\n",
    "    }\n",
    "    \n",
    "    func peek() -> T? {\n",
    "        // Your code here\n",
    "        return storage.first?.value\n",
    "    }\n",
    "}"
   ]
  },
  {
   "cell_type": "code",
   "execution_count": null,
   "metadata": {},
   "outputs": [],
   "source": [
    "\n"
   ]
  },
  {
   "cell_type": "code",
   "execution_count": null,
   "metadata": {},
   "outputs": [],
   "source": [
    "func testListQueue() {\n",
    "    var q = ListQueue<String>()\n",
    "    if !q.isEmpty { print(\"isEmpty should be true when the queue is empty\") }\n",
    "    if q.dequeue() != nil { print(\"dequeue should return nil on an empty queue\") }\n",
    "    if q.peek() != nil { print(\"peek should return nil on an empty queue\") }\n",
    "    \n",
    "    [\"the\", \"rain\", \"in\", \"Spain\"].forEach { q.enqueue($0) }\n",
    "    \n",
    "    var v = q.peek()\n",
    "    if v != \"the\" { print(\"peek error, should return 'the' but your implementation returned \\(v)\") }\n",
    "    v = q.peek()\n",
    "    if v != \"the\" { print(\"peek error, should return 'the' but your implementation returned \\(v)\") }\n",
    "\n",
    "    v = q.dequeue()\n",
    "    if v != \"the\" { print(\"dequeue error, should return 'the' but your implementation returned \\(v)\") }\n",
    "\n",
    "    q.dequeue()  // rain\n",
    "    q.dequeue()  // in\n",
    "    \n",
    "    v = q.peek()  // Spain\n",
    "    if v != \"Spain\" { print(\"peek error, should return 'Spain' but your implementation returned \\(v)\") }\n",
    "\n",
    "    v = q.dequeue()\n",
    "    if v != \"Spain\" { print(\"dequeue error, should return 'Spain' but your implementation returned \\(v)\") }\n",
    "\n",
    "    if q.dequeue() != nil { print(\"dequeue error, should return nil\") }\n",
    "    if q.peek() != nil { print(\"peek error, should return nil\") }\n",
    "    if !q.isEmpty { print(\"isEmpty should be true when the queue is empty\") }\n",
    "\n",
    "    q.enqueue(\"test\")\n",
    "    if q.isEmpty { print(\"queue should not be empty\") }\n",
    "}"
   ]
  },
  {
   "cell_type": "code",
   "execution_count": null,
   "metadata": {},
   "outputs": [],
   "source": [
    "testListQueue()"
   ]
  },
  {
   "cell_type": "code",
   "execution_count": null,
   "metadata": {},
   "outputs": [],
   "source": []
  }
 ],
 "metadata": {
  "kernelspec": {
   "display_name": "Swift",
   "language": "swift",
   "name": "swift"
  },
  "language_info": {
   "file_extension": ".swift",
   "mimetype": "text/x-swift",
   "name": "swift",
   "version": ""
  }
 },
 "nbformat": 4,
 "nbformat_minor": 4
}
