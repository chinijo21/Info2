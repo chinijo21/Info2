{
 "cells": [
  {
   "cell_type": "markdown",
   "metadata": {},
   "source": [
    "**Ejercicio 3**\n",
    "\n",
    "`count` es una propiedad de `String` que devuelve el número de caracteres de la cadena. Por ejemplo, `\"hola\".count` devolvería el valor 4.\n",
    "\n",
    "Escribe una función que, dado un array de cadenas, devuelva otro array de enteros con las longitudes de esas cadenas. Es decir, dada la entrada `[\"pedro\", \"pablo\", \"javier\"]`, devolvería el array `[5, 5, 6]`.\n",
    "\n",
    "Intenta resolver el problema con una aproximación funcional.\n",
    "\n",
    "Como siempre, utiliza nombres sensatos y descriptivos para la función y para todas las variables que utilices."
   ]
  },
  {
   "cell_type": "markdown",
   "metadata": {},
   "source": [
    "**map** recibe otra funcion que aplica a cada uno de los elementos y devuelve un array.\n"
   ]
  },
  {
   "cell_type": "code",
   "execution_count": 3,
   "metadata": {},
   "outputs": [
    {
     "name": "stdout",
     "output_type": "stream",
     "text": [
      "[4, 5, 5]\r\n"
     ]
    }
   ],
   "source": [
    "var palabras = [\"juan\", \"salem\", \"tirma\"]\n",
    "let ints = palabras.map {$0.count}\n",
    "print(ints)"
   ]
  },
  {
   "cell_type": "code",
   "execution_count": 12,
   "metadata": {},
   "outputs": [
    {
     "name": "stdout",
     "output_type": "stream",
     "text": [
      "[5, 5, 6]\r\n"
     ]
    }
   ],
   "source": [
    "func contador(_ names: [String]) -> [Int]{\n",
    "    let cuenta = names.map { $0.count }\n",
    "     return cuenta\n",
    "}\n",
    "   \n",
    "var someNames = [\"pedro\", \"pablo\", \"javier\"]\n",
    "print(contador(someNames))"
   ]
  },
  {
   "cell_type": "markdown",
   "metadata": {},
   "source": [
    "Utilizando la funcion `string.count` como argumento de nuestra funcion map conseguimos devolver un array de enteros que nos dice el numero de letras de cada miembro del array `__someNames__`.\n",
    "\n",
    "**$0** es un atajo para referirnos al primer elemento de nuestro closure. Es como usar un __for__ pero sin tener que definir ningun nombre de variable.\n"
   ]
  },
  {
   "cell_type": "markdown",
   "metadata": {},
   "source": [
    "**Ejercicio 3.2**\n",
    "\n",
    "Escribe una funcion que acepte un array de de __Int__ y devuelva el mismo array pero en __String__"
   ]
  },
  {
   "cell_type": "code",
   "execution_count": 11,
   "metadata": {},
   "outputs": [
    {
     "name": "stdout",
     "output_type": "stream",
     "text": [
      "[\"1\", \"2\", \"3\", \"4\", \"5\"]\r\n"
     ]
    }
   ],
   "source": [
    "func cambio(_ nums: [Int]) -> [String]{\n",
    "\n",
    "let stringArray = nums.map { String($0) }\n",
    "    return stringArray\n",
    "}\n",
    "\n",
    "var nums: [Int] = [1,2,3,4,5]\n",
    "print(cambio(nums))"
   ]
  },
  {
   "cell_type": "markdown",
   "metadata": {},
   "source": [
    "Le paso un array de numeros y usando la funcion **map** y la funcion String(`numero`) nos deja construir un array de Strings con los numeros que le pasamos."
   ]
  }
 ],
 "metadata": {
  "kernelspec": {
   "display_name": "Swift",
   "language": "swift",
   "name": "swift"
  },
  "language_info": {
   "file_extension": ".swift",
   "mimetype": "text/x-swift",
   "name": "swift",
   "version": ""
  }
 },
 "nbformat": 4,
 "nbformat_minor": 4
}
