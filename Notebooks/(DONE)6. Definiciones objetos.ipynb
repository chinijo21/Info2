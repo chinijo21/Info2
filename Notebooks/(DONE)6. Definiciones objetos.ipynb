{
 "cells": [
  {
   "cell_type": "markdown",
   "metadata": {},
   "source": [
    "**Ejercicio Clases - 1**\n",
    "\n",
    "Basándote en las definiciones de `Point`, `Shape` y `Circle` dadas un poco más arriba, crea definiciones para los siguientes objetos:\n",
    "\n",
    "* `Rectangle`\n",
    "* `Square`, que debe ser un subtipo de `Rectangle`.\n",
    "\n",
    "Los dos nuevos objetos tienen que tener propiedades adecuadas a su forma, así como inicializadores y `description`."
   ]
  },
  {
   "cell_type": "code",
   "execution_count": null,
   "metadata": {},
   "outputs": [],
   "source": [
    "struct Point {\n",
    "    var x: Double\n",
    "    var y: Double\n",
    "}\n",
    "\n",
    "class Shape: CustomStringConvertible {        //Forma\n",
    "    var origin: Point    \n",
    "    \n",
    "    init(origin: Point = Point(x: 0, y: 0)) {\n",
    "        self.origin = origin\n",
    "    }\n",
    "    \n",
    "    var description: String { \"Soy una forma abstracta situada en \\(origin)\"}\n",
    "}\n",
    "\n",
    "class Circle: Shape {                         //Circulo\n",
    "    var radius: Double\n",
    "    \n",
    "    init(origin: Point, radius: Double) {\n",
    "        self.radius = radius\n",
    "        super.init(origin: origin)\n",
    "    }\n",
    "    \n",
    "    override var description: String { \"Soy un círculo centrado en \\(origin) con radio \\(radius)\"}\n",
    "}\n",
    "\n",
    "\n",
    "struct Size {\n",
    "    var width: Double\n",
    "    var height: Double\n",
    "}\n",
    "\n",
    "class Rectangle: Shape {\n",
    "    var size: Size\n",
    "    \n",
    "    init(origin: Point, size: Size) {\n",
    "        self.size = size\n",
    "        super.init(origin: origin)\n",
    "    }\n",
    "}\n",
    "\n",
    "class Square: Rectangle {    \n",
    "    init(origin: Point, side: Double) {\n",
    "        super.init(origin: origin, size: Size(width: side, height: side))\n",
    "    }\n",
    "}\n",
    "\n",
    "\n",
    "\n",
    "let c = Circle(origin: Point(x: 5, y: -1), radius: 4)\n",
    "print(c)\n",
    "\n",
    "let r = Rectangle(origin: Point(x:9, y: 14), fin: 18)\n",
    "print(r)\n",
    "\n",
    "\n"
   ]
  },
  {
   "cell_type": "markdown",
   "metadata": {},
   "source": [
    "No necesitan mutating porque es un class y en los class no hace falta poner un mutating y las cosas se pasan por reference en un puntero"
   ]
  },
  {
   "cell_type": "code",
   "execution_count": null,
   "metadata": {},
   "outputs": [],
   "source": []
  }
 ],
 "metadata": {
  "kernelspec": {
   "display_name": "Swift",
   "language": "swift",
   "name": "swift"
  },
  "language_info": {
   "file_extension": ".swift",
   "mimetype": "text/x-swift",
   "name": "swift",
   "version": ""
  }
 },
 "nbformat": 4,
 "nbformat_minor": 4
}
