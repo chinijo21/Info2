{
 "cells": [
  {
   "cell_type": "markdown",
   "metadata": {},
   "source": [
    "**Ejercicio 1**\n",
    "\n",
    "Escribe una función que acepte como parámetro de entrada una lista de `String`s, y devuelva los nombres únicos que figuran en la lista, sin ningún orden en particular.\n",
    "\n",
    "Escribe el código necesario para comprobar que funciona correctamente.\n",
    "\n",
    "Utiliza nombres sensatos para la función y las variables que utilices."
   ]
  },
  {
   "cell_type": "code",
   "execution_count": 8,
   "metadata": {},
   "outputs": [],
   "source": [
    "func findUniques1(_ names: [String]) -> Set<String> {\n",
    "    var uniqueNames: Set<String> = []\n",
    "    var duplicates: Set<String> = []\n",
    "    for name in names {\n",
    "        if uniqueNames.contains(name) {\n",
    "            duplicates.insert(name)\n",
    "        }\n",
    "        uniqueNames.insert(name)\n",
    "    }\n",
    "    return uniqueNames\n",
    "}\n"
   ]
  },
  {
   "cell_type": "markdown",
   "metadata": {},
   "source": [
    "En la celda de arriba se crea la funcion 'findUniques' que recibe una lista de String y nos devolvera otra lista de string con los nombres unicos.\n",
    "\n",
    "Creo dos variables 'uniqueNames' y 'duplicates'. Con un for entro en la lista que me pasan.\n",
    "\n",
    "Creo un bucle if con el que si el nmbre no existe en el array 'uniqueNames' lo añado a este en el caso de que ya existiera el nombre en el array iria a 'duplicates'\n",
    "\n",
    "Devuelvo la lista de nombres unicos y la imprimo\n",
    "\n",
    "**CORRECION** el duplicate no hace falta ya que por definici´on al setno admite elementos duplicados. Y el set se puede construir como array con set <string>=set<names>"
   ]
  },
  {
   "cell_type": "markdown",
   "metadata": {},
   "source": [
    "**Correccion del profe**\n"
   ]
  },
  {
   "cell_type": "code",
   "execution_count": 1,
   "metadata": {},
   "outputs": [
    {
     "name": "stdout",
     "output_type": "stream",
     "text": [
      "[\"pedro\", \"pablo\", \"ana\", \"javier\"]\r\n"
     ]
    }
   ],
   "source": [
    "func findUniques(_ names: [String]) -> [String] {\n",
    "    \n",
    "    return Array(Set(names))\n",
    "}\n",
    "\n",
    "var someNames = [\"pedro\", \"ana\", \"javier\", \"ana\", \"ana\", \"pablo\", \"pablo\"]\n",
    "print(findUniques(someNames))"
   ]
  },
  {
   "cell_type": "markdown",
   "metadata": {},
   "source": [
    "Un set se puede construir como un array o un array se puede construir como un set. Y por la definicion del set devuelve los unicos porque en el set no pueden existir claves duplicadas."
   ]
  },
  {
   "cell_type": "code",
   "execution_count": null,
   "metadata": {},
   "outputs": [],
   "source": []
  }
 ],
 "metadata": {
  "kernelspec": {
   "display_name": "Swift",
   "language": "swift",
   "name": "swift"
  },
  "language_info": {
   "file_extension": ".swift",
   "mimetype": "text/x-swift",
   "name": "swift",
   "version": ""
  }
 },
 "nbformat": 4,
 "nbformat_minor": 4
}
