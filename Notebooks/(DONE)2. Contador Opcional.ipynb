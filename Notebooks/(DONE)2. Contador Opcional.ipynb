{
 "cells": [
  {
   "cell_type": "markdown",
   "metadata": {},
   "source": []
  },
  {
   "cell_type": "markdown",
   "metadata": {},
   "source": [
    "**Ejercicio 2**\n",
    "\n",
    "Implementa un contador.\n",
    "\n",
    "Escribe una función que acepte como parámetro de entrada una lista de `String`s, y devuelva como salida un diccionario cuyas claves serán los elementos (únicos) de la lista, y cuyos valores serán el número de veces que se repiten en la lista.\n",
    "\n",
    "Escribe el código necesario para comprobar que funciona correctamente.\n",
    "\n",
    "Utiliza nombres sensatos para la función y las variables que utilices."
   ]
  },
  {
   "cell_type": "code",
   "execution_count": 1,
   "metadata": {},
   "outputs": [],
   "source": [
    "func printDic(_ names: [String]) -> [String : Int]  {\n",
    "    var counts: [String: Int] = [:]\n",
    "    let adds = 1\n",
    "    let zero = 0\n",
    "    \n",
    "    for name in names{\n",
    "        counts[name] = (counts[name] ?? zero) + adds\n",
    "    }\n",
    "    return counts\n",
    "}"
   ]
  },
  {
   "cell_type": "markdown",
   "metadata": {},
   "source": [
    "El operador **??** es el 'nil coalescing ' que dice de desenvolver un valor si hay uno (1) y si no hay ninguno se utiliza el **default** (0).\n",
    "\n",
    "La primera vez que nos encontramos un string no va existir en el diccionario que creamos en la funcion asi que _count[\"ana\"]_ devuelve que no se encuentra nada (**nill**) que hace que el operador _??_ convierta en _0_. La siguiente vez que nos encontremos con _\"ana\"_ existira en el diccionario, _??_  lo desenvuelve y devuelve  _1_ \n",
    "\n",
    "\n",
    " \n",
    "\n",
    "\n"
   ]
  },
  {
   "cell_type": "code",
   "execution_count": 2,
   "metadata": {},
   "outputs": [
    {
     "name": "stdout",
     "output_type": "stream",
     "text": [
      "[\"ana\": 3, \"pablo\": 2, \"pedro\": 1, \"javier\": 1]\r\n"
     ]
    }
   ],
   "source": [
    "var someNames = [\"pedro\", \"ana\", \"javier\", \"ana\", \"ana\", \"pablo\", \"pablo\"]\n",
    "print(printDic(someNames))"
   ]
  },
  {
   "cell_type": "markdown",
   "metadata": {},
   "source": [
    "**EXACTAMENTE ASI LO HIZO EL PROFE**"
   ]
  },
  {
   "cell_type": "code",
   "execution_count": null,
   "metadata": {},
   "outputs": [],
   "source": []
  }
 ],
 "metadata": {
  "kernelspec": {
   "display_name": "Swift",
   "language": "swift",
   "name": "swift"
  },
  "language_info": {
   "file_extension": ".swift",
   "mimetype": "text/x-swift",
   "name": "swift",
   "version": ""
  }
 },
 "nbformat": 4,
 "nbformat_minor": 4
}
