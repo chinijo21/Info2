{
 "cells": [
  {
   "cell_type": "markdown",
   "metadata": {},
   "source": [
    "**Ejercicio 5**: crea una función que devuelva en un array los N primeros números de Fibonacci. Los números de Fibonacci son una secuencia definida como:\n",
    "* El primer elemento es 0 y el segundo el 1.\n",
    "* Cada número (a partir del tercero) es el resultado de sumar los dos anteriores.\n",
    "\n",
    "Es decir, si la función se llama `fibonacci`, el resultado de ejecutar la función de este modo:\n",
    "\n",
    "```swift\n",
    "print(fibonacci(count: 10))\n",
    "```\n",
    "\n",
    "Sería:\n",
    "```\n",
    "[0, 1, 1, 2, 3, 5, 8, 13, 21, 34]\n",
    "```\n",
    "\n",
    "Prueba a implementar el código tanto de manera iterativa como _recursivamente_."
   ]
  },
  {
   "cell_type": "markdown",
   "metadata": {},
   "source": [
    "**Implementación iterativa**"
   ]
  },
  {
   "cell_type": "code",
   "execution_count": 23,
   "metadata": {},
   "outputs": [
    {
     "name": "stdout",
     "output_type": "stream",
     "text": [
      "[0, 1, 1, 2, 3, 5, 8, 13, 21]\r\n"
     ]
    }
   ],
   "source": [
    "func fibonacci(_ n: Int) -> [Int]  {\n",
    "    var sequence = [Int]()\n",
    "    for n in 0 ..< n {\n",
    "        if n == 0 {\n",
    "            sequence.append(0)\n",
    "        }\n",
    "        else if n == 1 {\n",
    "            sequence.append(1)\n",
    "        }\n",
    "        else {\n",
    "            sequence.append (sequence[n-1] + sequence[n-2] )\n",
    "        }\n",
    "    }\n",
    "    return sequence\n",
    "}\n",
    "\n",
    "var cant = 9\n",
    "print(fibonacci(cant))"
   ]
  },
  {
   "cell_type": "code",
   "execution_count": 26,
   "metadata": {},
   "outputs": [
    {
     "name": "stdout",
     "output_type": "stream",
     "text": [
      "[0, 1, 1, 2, 3, 5, 8, 13, 21]\r\n"
     ]
    }
   ],
   "source": [
    "func fibonacci(n: Int) -> [Int] {\n",
    "\n",
    "    var array = [0,1]\n",
    "\n",
    "    while array.count < n {\n",
    "        array.append(array[array.count - 1] + array[array.count - 2])\n",
    "    }\n",
    "    return array\n",
    "}\n",
    "\n",
    "print(fibonacci(n: 9 ))"
   ]
  },
  {
   "cell_type": "markdown",
   "metadata": {},
   "source": [
    "**FORMA RECURSIVA**"
   ]
  },
  {
   "cell_type": "code",
   "execution_count": 10,
   "metadata": {},
   "outputs": [
    {
     "ename": "",
     "evalue": "",
     "output_type": "error",
     "traceback": [
      "error: Couldn't lookup symbols:\n  __lldb_expr_18.fibo(Swift.Int) -> Swift.Int\n  __lldb_expr_18.fibo(Swift.Int) -> Swift.Int\n"
     ]
    }
   ],
   "source": []
  },
  {
   "cell_type": "markdown",
   "metadata": {},
   "source": [
    "**SOLUCION RECURSIVA PROFE** \n",
    "\n",
    "La hace con dos funciones y con map"
   ]
  },
  {
   "cell_type": "code",
   "execution_count": 42,
   "metadata": {},
   "outputs": [
    {
     "name": "stdout",
     "output_type": "stream",
     "text": [
      "[0, 1, 1, 2, 3, 5, 8, 13, 21, 34]\r\n"
     ]
    }
   ],
   "source": [
    "func fibnumber(_ position: Int) -> Int{\n",
    "    if position < 0  {return -1}\n",
    "    if position == 0 {return 0}\n",
    "    if position == 1 {return 1}\n",
    "    \n",
    "    return fibnumber(position-1) + fibnumber(position-2)\n",
    "    \n",
    "}\n",
    "\n",
    "func fibrecu(_ cuenta: Int) -> [Int]{\n",
    "   return (0..<cuenta).map(fibnumber)\n",
    "}\n",
    "\n",
    "var cuent4 = 10\n",
    "print(fibrecu(cuent4))"
   ]
  },
  {
   "cell_type": "markdown",
   "metadata": {},
   "source": [
    "**guard** \n",
    "\n",
    "Vamos a hacer fibo pero con guard"
   ]
  },
  {
   "cell_type": "code",
   "execution_count": 5,
   "metadata": {},
   "outputs": [
    {
     "name": "stdout",
     "output_type": "stream",
     "text": [
      "55\r\n"
     ]
    }
   ],
   "source": [
    "func fibnumber1(_ pos: Int) -> Int{\n",
    "    if position < 0  {return -1}\n",
    "    if position == 0 {return 0}\n",
    "    if position == 1 {return 1}\n",
    "    \n",
    "    return fibnumber1(position-1) + fibnumber(1position-2)\n",
    "\n",
    "func fibo(_ n: Int) -> Int {\n",
    "    guard n != 0, n != 1 else { return n }\n",
    "    return fibo(n - 1) + fibo(n - 2)\n",
    "}\n",
    "  \n",
    "\n",
    "\n",
    "var cant2 = 10\n",
    "print(fibo(cant2))"
   ]
  },
  {
   "cell_type": "code",
   "execution_count": null,
   "metadata": {},
   "outputs": [],
   "source": []
  }
 ],
 "metadata": {
  "kernelspec": {
   "display_name": "Swift",
   "language": "swift",
   "name": "swift"
  },
  "language_info": {
   "file_extension": ".swift",
   "mimetype": "text/x-swift",
   "name": "swift",
   "version": ""
  }
 },
 "nbformat": 4,
 "nbformat_minor": 4
}
