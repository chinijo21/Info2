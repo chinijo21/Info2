{
 "cells": [
  {
   "cell_type": "markdown",
   "metadata": {},
   "source": [
    "**Ejercicio 4**\n",
    "\n",
    "Escribe una función que obtenga los números cuadrados pares de los primeros N números positivos. Para N = 10, el resultado debe ser `[4, 16, 36, 64, 100]`.\n"
   ]
  },
  {
   "cell_type": "code",
   "execution_count": 17,
   "metadata": {},
   "outputs": [
    {
     "name": "stdout",
     "output_type": "stream",
     "text": [
      "[4, 16, 36, 64, 100, 144]\r\n"
     ]
    }
   ],
   "source": [
    "func evenSquare(_ upTo: Int) -> [Int]{\n",
    "    var pares = (1...upTo).filter { $0 % 2 == 0 } \n",
    "    var squares = pares.map({$0 * $0})\n",
    "    return squares\n",
    "}    \n",
    "\n",
    "var cant = 12\n",
    "print(evenSquare(cant))"
   ]
  },
  {
   "cell_type": "markdown",
   "metadata": {},
   "source": [
    "   Con **(1...Num)** recorremos desde el 1 hasta el numero deseado que nos pasen.\n",
    "\n",
    "   La variable `pairs` almacena los elementos del filtro que cumplen la condicion de ser pares. La funcion `filter` devuelve _true_ si el elemento se debe incluir o _false_ si no se incluye.\n",
    "   \n",
    " **`map`** es una funcion que recibe como argumento otra funcion que en este caso es `pairs` y aplica la condicion a los elementos de la secuencia. La condicion `$0 * $0` vamos a multpilicar los valores acumulados hasta el momento\n",
    " \n",
    " Finalmente se devuelve `squares`\n",
    "   \n",
    "**TAMBIEN PUEDES DEFINIR CON VAR SI NO QUIERES QUE SEAN CONSTATNTES**\n",
    "\n",
    "Se puede concatenar filtros y mapas en la misma linea:"
   ]
  },
  {
   "cell_type": "code",
   "execution_count": 19,
   "metadata": {},
   "outputs": [
    {
     "name": "stdout",
     "output_type": "stream",
     "text": [
      "[4, 16, 36, 64, 100, 144]\r\n"
     ]
    }
   ],
   "source": [
    "func evenOne(_ num: Int) -> [Int]{\n",
    "    return (1...num).map {$0 * $0}.filter {$0 % 2 == 0 }\n",
    "}\n",
    "\n",
    "var numero = 12\n",
    "print(evenOne(numero))"
   ]
  },
  {
   "cell_type": "code",
   "execution_count": null,
   "metadata": {},
   "outputs": [],
   "source": []
  }
 ],
 "metadata": {
  "kernelspec": {
   "display_name": "Swift",
   "language": "swift",
   "name": "swift"
  },
  "language_info": {
   "file_extension": ".swift",
   "mimetype": "text/x-swift",
   "name": "swift",
   "version": ""
  }
 },
 "nbformat": 4,
 "nbformat_minor": 4
}
