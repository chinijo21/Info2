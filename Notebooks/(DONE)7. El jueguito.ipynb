{
 "cells": [
  {
   "cell_type": "markdown",
   "metadata": {},
   "source": [
    "**Ejercicio 9**\n",
    "\n",
    "En el juego que esbozamos en el ejercicio 8, consideramos que nuestro mapa tiene unas dimensiones de 10x8. El jugador comienza a moverse en la celda (0, 0), que es la que está en la esquina inferior izquierda. Amplía el código para detectar si el jugador se saldría por uno de los lados del tablero. La función `move` debe lanzar una excepción indicando el lado en el que se ha llegado al extremo.\n",
    "\n",
    "Te damos a continuación un esqueleto del código que puedes comenzar a utilizar."
   ]
  },
  {
   "cell_type": "code",
   "execution_count": 1,
   "metadata": {},
   "outputs": [
    {
     "name": "stdout",
     "output_type": "stream",
     "text": [
      "Location(x: 1, y: 0)\r\n"
     ]
    }
   ],
   "source": [
    "struct Board {\n",
    "    var width = 10\n",
    "    var height = 8\n",
    "}\n",
    "\n",
    "\n",
    "struct Location {\n",
    "    var x = 0\n",
    "    var y = 0\n",
    "     \n",
    "    mutating func move(_ direction: Direction, within board: Board) throws {\n",
    "        switch direction {\n",
    "                    case .up   : self.y += 1\n",
    "                    case .down : self.y -= 1\n",
    "                    case .left : self.x -= 1\n",
    "                    case .right: self.x += 1\n",
    "        }\n",
    "        if x >= board.height {\n",
    "                    throw MoveError.extremoLad\n",
    "        }\n",
    "        if y >= board.width{\n",
    "                     throw MoveError.superior\n",
    "        }\n",
    "    }\n",
    "}\n",
    "\n",
    "    \n",
    "enum MoveError: Error {\n",
    "    case extremoLad       //Llega al extremo del lado\n",
    "    case superior        // Llega al extremo superior\n",
    "\n",
    "    }\n",
    "    \n",
    "   \n",
    "enum Direction {\n",
    "    case up\n",
    "    case down\n",
    "    case left\n",
    "    case right\n",
    "}\n",
    "\n",
    "\n",
    "func moveCharacter(_ direction: Direction) {\n",
    "    do {\n",
    "        try character.move(direction, within: board)\n",
    "        print(character)\n",
    "    } catch MoveError.extremoLad {\n",
    "        print(\"No puedo avanzar! Extremo lateral alcanzado\")\n",
    "        print(\"Posición actual: \\(character)\")\n",
    "    } catch MoveError.superior {\n",
    "        print(\"No puedo avanzar! Extremo superior alcanzado\")\n",
    "        print(\"Posición actual: \\(character)\")\n",
    "    } catch {\n",
    "        print(\"Otro error\")\n",
    "    } \n",
    "}\n",
    "\n",
    "\n",
    "var character = Location()\n",
    "var board = Board()\n",
    "var pasitos: [Direction] = [.right, .right, .right, .right, .up]\n",
    "\n",
    "//moveCharacter(.down) \n",
    "//moveCharacter(.up)\n",
    "moveCharacter(.right)\n",
    "//moveCharacter(.left)"
   ]
  },
  {
   "cell_type": "code",
   "execution_count": null,
   "metadata": {},
   "outputs": [],
   "source": []
  },
  {
   "cell_type": "code",
   "execution_count": null,
   "metadata": {},
   "outputs": [],
   "source": []
  }
 ],
 "metadata": {
  "kernelspec": {
   "display_name": "Swift",
   "language": "swift",
   "name": "swift"
  },
  "language_info": {
   "file_extension": ".swift",
   "mimetype": "text/x-swift",
   "name": "swift",
   "version": ""
  }
 },
 "nbformat": 4,
 "nbformat_minor": 4
}
